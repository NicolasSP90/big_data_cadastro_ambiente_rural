{
 "cells": [
  {
   "cell_type": "markdown",
   "metadata": {},
   "source": [
    "# Iniciando Sessão Spark"
   ]
  },
  {
   "cell_type": "code",
   "execution_count": 1,
   "metadata": {},
   "outputs": [
    {
     "name": "stdout",
     "output_type": "stream",
     "text": [
      "3.5.0\n"
     ]
    }
   ],
   "source": [
    "from pyspark.sql import SparkSession\n",
    "\n",
    "# Iniciar a sessão Spark com a configuração do Delta Lake\n",
    "spark = (SparkSession.builder\n",
    "    .appName(\"DeltaLake\")\n",
    "    .config(\"spark.sql.extensions\", \"io.delta.sql.DeltaSparkSessionExtension\")  # Extensão do Delta\n",
    "    .config(\"spark.sql.catalog.spark_catalog\", \"org.apache.spark.sql.delta.catalog.DeltaCatalog\")  # Catálogo do Delta\n",
    "    .config(\"spark.jars\", \"/usr/local/spark/jars/delta-spark_2.12-3.0.0.jar,/usr/local/spark/jars/delta-storage-3.0.0.jar\")  # Caminho dos JARs no Docker\n",
    "    .getOrCreate()) # Se utilizar as limitações de hardware pelo spark, mover para o final\n",
    "#    .config(\"spark.executor.cores\", \"2\")  # Limitar o número de núcleos por executor\n",
    "#    .config(\"spark.driver.cores\", \"1\")    # Limitar o número de núcleos para o driver\n",
    "#    .config(\"spark.executor.memory\", \"4g\")\n",
    "#    .config(\"spark.driver.memory\", \"4g\")\n",
    "#    .config(\"spark.memory.fraction\", \"0.3\")  # Ajuste para controlar a fração de memória usada pelo Spark\n",
    "#    .config(\"spark.memory.storageFraction\", \"0.2\")  # Fração da memória usada para armazenar dados persistentes\"\"\"\n",
    "\n",
    "from pyspark.sql.functions import *\n",
    "from pyspark.sql.types import *\n",
    "from pyspark.sql.functions import udf\n",
    "\n",
    "import time\n",
    "\n",
    "# Verificar se a sessão Spark foi criada com sucesso\n",
    "print(spark.version)"
   ]
  },
  {
   "cell_type": "markdown",
   "metadata": {},
   "source": [
    "# Importando CSV"
   ]
  },
  {
   "cell_type": "code",
   "execution_count": null,
   "metadata": {},
   "outputs": [],
   "source": [
    "df_test = spark.read.csv(\"/home/jovyan/app/data/raw/temas_ambientais.csv\", sep=\";\", header=True)\n",
    "df_test.show()"
   ]
  },
  {
   "cell_type": "markdown",
   "metadata": {},
   "source": [
    "# Salvando Bronze (Distribuída)"
   ]
  },
  {
   "cell_type": "code",
   "execution_count": null,
   "metadata": {},
   "outputs": [],
   "source": [
    "df_test = df_test.dropDuplicates()"
   ]
  },
  {
   "cell_type": "code",
   "execution_count": null,
   "metadata": {},
   "outputs": [],
   "source": [
    "df_test.write.mode(\"overwrite\").format(\"delta\").save(\"/home/jovyan/app/data/bronze/bronze_distribuida\")"
   ]
  },
  {
   "cell_type": "markdown",
   "metadata": {},
   "source": [
    "# Limpeza e Salvando Silver (Distribuída)"
   ]
  },
  {
   "cell_type": "code",
   "execution_count": null,
   "metadata": {},
   "outputs": [],
   "source": [
    "df_test = spark.read.format(\"delta\").load(\"/home/jovyan/app/data/bronze/bronze_distribuida\")\n",
    "df_test.show(10)"
   ]
  },
  {
   "cell_type": "code",
   "execution_count": null,
   "metadata": {},
   "outputs": [],
   "source": [
    "# Criar uma lista com o nome das colunas e o número de nulos em cada uma\n",
    "null_counts_1 = df_test.select([sum(col(c).isNull().cast(\"int\")).alias(c) for c in df_test.columns]).first().asDict()\n",
    "\n",
    "# Exibir o resultado\n",
    "null_counts_1"
   ]
  },
  {
   "cell_type": "code",
   "execution_count": null,
   "metadata": {},
   "outputs": [],
   "source": [
    "df_test.printSchema()"
   ]
  },
  {
   "cell_type": "code",
   "execution_count": null,
   "metadata": {},
   "outputs": [],
   "source": [
    "int_columns = [\"codigo_ibge\"]\n",
    "float_columns = [\"area_do_imovel\", \"area_liquida\", \"area_remanescente_vegetacao_nativa\", \n",
    "                 \"area_reserva_legal_proposta\", \"area_preservacao_permanente\", \"area_nao_classificada\",\n",
    "                 \"latitude\", \"longitude\", \"area_rural_consolidada\", \"area_servidao_administrativa\",\n",
    "                 \"modulos_fiscais\", \"area_uso_restrito\", \"area_reserva_legal_averbada\",\n",
    "                 \"area_reserva_legal_aprovada_nao_averbada\", \"area_pousio\"]\n",
    "bool_columns = [\"solicitacao_adesao_pra\"]\n",
    "date_columns = [\"data_inscricao\", \"data_alteracao_condicao_cadastro\", \"data_ultima_retificacao\"]\n",
    "text_column = [x for x in df_test.columns if x not in int_columns+float_columns+bool_columns+date_columns]"
   ]
  },
  {
   "cell_type": "code",
   "execution_count": null,
   "metadata": {},
   "outputs": [],
   "source": [
    "# Dados Para Integer\n",
    "df_test = df_test.withColumn(\"codigo_ibge\", col(\"codigo_ibge\").cast(IntegerType()))\n",
    "\n",
    "# Dados Para Float\n",
    "for i in float_columns:\n",
    "    df_test = df_test.withColumn(i, col(i).cast(FloatType()))\n",
    "\n",
    "# Dados para Bool\n",
    "df_test = df_test.withColumn(\"solicitacao_adesao_pra\", \n",
    "                             when(col(\"solicitacao_adesao_pra\") == \"Sim\", True).\n",
    "                             when(col(\"solicitacao_adesao_pra\") == \"Nao\", False).\n",
    "                             otherwise(None))\n",
    "\n",
    "# Dados para Date\n",
    "for i in date_columns:\n",
    "    df_test = df_test.withColumn(i, to_timestamp(regexp_replace(col(i), r\"\\.\\d+$\", \"\"), \"yyyy-MM-dd HH:mm:ss\"))\n",
    "\n",
    "df_test.printSchema()"
   ]
  },
  {
   "cell_type": "code",
   "execution_count": null,
   "metadata": {},
   "outputs": [],
   "source": [
    "# Criar uma lista com o nome das colunas e o número de nulos em cada uma\n",
    "null_counts_2 = df_test.select([sum(col(c).isNull().cast(\"int\")).alias(c) for c in df_test.columns]).first().asDict()\n",
    "\n",
    "# Exibir o resultado\n",
    "null_counts_2"
   ]
  },
  {
   "cell_type": "code",
   "execution_count": null,
   "metadata": {},
   "outputs": [],
   "source": [
    "if null_counts_1 == null_counts_2:\n",
    "    print(\"Os valores de nulos são os mesmos em ambas as versões.\")\n",
    "else:\n",
    "    print(\"Há diferenças nos valores de nulos.\")\n",
    "    # Mostrar as diferenças\n",
    "    for coluna in null_counts_1.keys():\n",
    "        if null_counts_1[coluna] != null_counts_2[coluna]:\n",
    "            print(f\"Coluna '{coluna}': null_counts_1 = {null_counts_1[coluna]}, null_counts_2 = {null_counts_2[coluna]}\")"
   ]
  },
  {
   "cell_type": "markdown",
   "metadata": {},
   "source": [
    "# Salvando Silver (Distribuída - Por Estado)"
   ]
  },
  {
   "cell_type": "code",
   "execution_count": null,
   "metadata": {},
   "outputs": [],
   "source": [
    "(df_test.write.mode(\"overwrite\")\n",
    "              .format(\"delta\")\n",
    "              .partitionBy(\"uf\")\n",
    "              .save(\"/home/jovyan/app/data/silver/silver_distribuida_uf\"))"
   ]
  },
  {
   "cell_type": "markdown",
   "metadata": {},
   "source": [
    "# Funções e Definições"
   ]
  },
  {
   "cell_type": "code",
   "execution_count": 3,
   "metadata": {},
   "outputs": [
    {
     "data": {
      "text/plain": [
       "<pyspark.sql.udf.UserDefinedFunction at 0x7fbb4dadce10>"
      ]
     },
     "execution_count": 3,
     "metadata": {},
     "output_type": "execute_result"
    }
   ],
   "source": [
    "def delta_table_query(query):\n",
    "    query = spark.sql(query)\n",
    "    \n",
    "    query.show()\n",
    "\n",
    "def get_time(function, query):\n",
    "    start_time = time.time()\n",
    "    \n",
    "    function(query)\n",
    "\n",
    "    end_time = time.time()\n",
    "\n",
    "    tempo_query = end_time - start_time\n",
    "\n",
    "    return tempo_query\n",
    "\n",
    "def is_point_in_path(x: float, y: float, poly: list[tuple[float, float]]) -> bool:\n",
    "    \"\"\"Determine if the point is on the path, corner, or boundary of the polygon\n",
    "\n",
    "    Args:\n",
    "    x -- The x coordinates of point.\n",
    "    y -- The y coordinates of point.\n",
    "    poly -- a list of tuples [(x, y), (x, y), ...]\n",
    "\n",
    "    Returns:\n",
    "        True if the point is in the path or is a corner or on the boundary\"\"\"\n",
    "    \n",
    "    c = False\n",
    "\n",
    "    for i in range(len(poly)):\n",
    "        ax, ay = poly[i]\n",
    "        bx, by = poly[i - 1]\n",
    "        if (x == ax) and (y == ay):\n",
    "            # point is a corner\n",
    "            return True\n",
    "        if (ay > y) != (by > y):\n",
    "            slope = (x - ax) * (by - ay) - (bx - ax) * (y - ay)\n",
    "            if slope == 0:\n",
    "                # point is on boundary\n",
    "                return True\n",
    "            if (slope < 0) != (by < ay):\n",
    "                c = not c\n",
    "\n",
    "    return c\n",
    "\n",
    "# Registrar a UDF no Spark\n",
    "poly = [(-53.5325072, -19.4632582), (-51.0495971, -19.1625841), (-51.3734501, -16.1924262), (-53.8181518, -16.4010783), (-53.5325072, -19.4632582)]\n",
    "\n",
    "is_point_in_polygon_udf = udf(lambda x, y: is_point_in_path(x, y, poly), BooleanType())\n",
    "\n",
    "spark.udf.register(\"is_point_in_polygon\", is_point_in_polygon_udf)"
   ]
  },
  {
   "cell_type": "markdown",
   "metadata": {},
   "source": [
    "# Querys a partir das Delta Tables"
   ]
  },
  {
   "cell_type": "markdown",
   "metadata": {},
   "source": [
    "## Consulta 1\n",
    "\n",
    "Recupere a soma de área (em hectares) para todas as propriedades agrícolas que pertencem ao MS e MT. Ordene os resultados em ordem decrescente."
   ]
  },
  {
   "cell_type": "code",
   "execution_count": 4,
   "metadata": {},
   "outputs": [
    {
     "name": "stdout",
     "output_type": "stream",
     "text": [
      "+---+------------------+\n",
      "| uf|soma_area_hectares|\n",
      "+---+------------------+\n",
      "| MT|    84,587,089.218|\n",
      "| MS|    36,321,882.660|\n",
      "+---+------------------+\n",
      "\n"
     ]
    },
    {
     "data": {
      "text/plain": [
       "13.060543537139893"
      ]
     },
     "execution_count": 4,
     "metadata": {},
     "output_type": "execute_result"
    }
   ],
   "source": [
    "query = \"\"\"\n",
    "SELECT \n",
    "   uf,\n",
    "   FORMAT_NUMBER(SUM(area_do_imovel), 3) as soma_area_hectares\n",
    "FROM delta.`/home/jovyan/app/data/silver/silver_distribuida_uf`\n",
    "\n",
    "WHERE uf IN ('MS', 'MT')\n",
    "\n",
    "GROUP BY uf\n",
    "\n",
    "ORDER BY soma_area_hectares DESC\n",
    "\n",
    "\"\"\"\n",
    "\n",
    "tempo_delta_1 = get_time(delta_table_query, query)\n",
    "tempo_delta_1"
   ]
  },
  {
   "cell_type": "markdown",
   "metadata": {},
   "source": [
    "## Consulta 2\n",
    "Filtre todas as propriedades que pertecem a região sudeste. "
   ]
  },
  {
   "cell_type": "code",
   "execution_count": 5,
   "metadata": {},
   "outputs": [
    {
     "name": "stdout",
     "output_type": "stream",
     "text": [
      "+---+-----------+\n",
      "| uf|codigo_ibge|\n",
      "+---+-----------+\n",
      "| AC|    1200302|\n",
      "| AC|    1200252|\n",
      "| AC|    1200401|\n",
      "| AC|    1200104|\n",
      "| AC|    1200450|\n",
      "| AC|    1200385|\n",
      "| AC|    1200609|\n",
      "| AC|    1200401|\n",
      "| AC|    1200401|\n",
      "| AC|    1200500|\n",
      "| AC|    1200401|\n",
      "| AC|    1200609|\n",
      "| AC|    1200401|\n",
      "| AC|    1200500|\n",
      "| AC|    1200302|\n",
      "| AC|    1200500|\n",
      "| AC|    1200302|\n",
      "| AC|    1200500|\n",
      "| AC|    1200401|\n",
      "| AC|    1200385|\n",
      "+---+-----------+\n",
      "only showing top 20 rows\n",
      "\n"
     ]
    },
    {
     "data": {
      "text/plain": [
       "1.6391515731811523"
      ]
     },
     "execution_count": 5,
     "metadata": {},
     "output_type": "execute_result"
    }
   ],
   "source": [
    "query = \"\"\"\n",
    "SELECT\n",
    "   uf,\n",
    "   codigo_ibge\n",
    "\n",
    "FROM delta.`/home/jovyan/app/data/silver/silver_distribuida_uf`\n",
    "\n",
    "\"\"\"\n",
    "\n",
    "tempo_delta_2 = get_time(delta_table_query, query)\n",
    "tempo_delta_2"
   ]
  },
  {
   "cell_type": "markdown",
   "metadata": {},
   "source": [
    "## Consulta 3\n",
    "Recupere todas as propriedades rurais que estão localizadas dentro de uma área geográfica específica delimitada por um polígono. Este polígono é descrito pelas seguintes coordenadas: POLYGON ((-53.5325072 -19.4632582, -51.0495971 -19.1625841, -51.3734501 -16.1924262, -53.8181518 -16.4010783, -53.5325072 -19.4632582))\n",
    "Verificar se um centroide está dentro dos pontos informados (ou mais)."
   ]
  },
  {
   "cell_type": "code",
   "execution_count": 6,
   "metadata": {},
   "outputs": [
    {
     "name": "stdout",
     "output_type": "stream",
     "text": [
      "+-----------+--------+---------+--------------+\n",
      "|codigo_ibge|latitude|longitude|inside_polygon|\n",
      "+-----------+--------+---------+--------------+\n",
      "+-----------+--------+---------+--------------+\n",
      "\n"
     ]
    },
    {
     "data": {
      "text/plain": [
       "17.52910017967224"
      ]
     },
     "execution_count": 6,
     "metadata": {},
     "output_type": "execute_result"
    }
   ],
   "source": [
    "query = \"\"\"\n",
    "SELECT\n",
    "    codigo_ibge,\n",
    "    latitude,\n",
    "    longitude,\n",
    "    is_point_in_polygon(latitude, longitude) AS inside_polygon\n",
    "\n",
    "FROM delta.`/home/jovyan/app/data/silver/silver_distribuida_uf`\n",
    "\n",
    "WHERE is_point_in_polygon(latitude, longitude) = True\n",
    "\"\"\"\n",
    "\n",
    "tempo_delta_3 = get_time(delta_table_query, query)\n",
    "tempo_delta_3"
   ]
  },
  {
   "cell_type": "markdown",
   "metadata": {},
   "source": [
    "## Consulta 4\n",
    "Calcule quantas propriedades foram cadastradas por ano. Apresente os resultados em ordem cronológica."
   ]
  },
  {
   "cell_type": "code",
   "execution_count": 7,
   "metadata": {},
   "outputs": [
    {
     "name": "stdout",
     "output_type": "stream",
     "text": [
      "+-------------+-------+\n",
      "|ano_inscricao|qnt_ano|\n",
      "+-------------+-------+\n",
      "|         NULL|     12|\n",
      "|         2013|    743|\n",
      "|         2014| 227468|\n",
      "|         2015|1240176|\n",
      "|         2016|1828786|\n",
      "|         2017| 794777|\n",
      "|         2018| 724856|\n",
      "|         2019| 746570|\n",
      "|         2020| 463322|\n",
      "|         2021| 443942|\n",
      "|         2022| 368448|\n",
      "+-------------+-------+\n",
      "\n"
     ]
    },
    {
     "data": {
      "text/plain": [
       "6.882412910461426"
      ]
     },
     "execution_count": 7,
     "metadata": {},
     "output_type": "execute_result"
    }
   ],
   "source": [
    "query = \"\"\"\n",
    "SELECT\n",
    "   YEAR(data_inscricao) AS ano_inscricao,\n",
    "   COUNT(*) AS qnt_ano\n",
    "\n",
    "FROM delta.`/home/jovyan/app/data/silver/silver_distribuida_uf`\n",
    "\n",
    "GROUP BY ano_inscricao\n",
    "\n",
    "ORDER BY ano_inscricao\n",
    "\"\"\"\n",
    "\n",
    "tempo_delta_4 = get_time(delta_table_query, query)\n",
    "tempo_delta_4"
   ]
  },
  {
   "cell_type": "markdown",
   "metadata": {},
   "source": [
    "## Consulta 5\n",
    "Calcule o percentual médio de área remanescente de vegetação nativa em comparação a área total da propriedade"
   ]
  },
  {
   "cell_type": "code",
   "execution_count": 8,
   "metadata": {},
   "outputs": [
    {
     "name": "stdout",
     "output_type": "stream",
     "text": [
      "+-----------+--------------+----------------------------------+----------------------+\n",
      "|codigo_ibge|area_do_imovel|area_remanescente_vegetacao_nativa|percentual_area_nativa|\n",
      "+-----------+--------------+----------------------------------+----------------------+\n",
      "|    1200302|       41.0618|                         16.521088|                 40.23|\n",
      "|    1200252|        3.5671|                          2.423295|                 67.93|\n",
      "|    1200401|       85.7813|                          14.51889|                 16.93|\n",
      "|    1200104|       33.6201|                         16.234642|                 48.29|\n",
      "|    1200450|       80.6683|                               0.0|                  0.00|\n",
      "|    1200385|       44.5476|                         19.857813|                 44.58|\n",
      "|    1200609|       42.9766|                         41.673923|                 96.97|\n",
      "|    1200401|        0.9943|                        0.39500403|                 39.73|\n",
      "|    1200401|       28.8663|                          6.928528|                 24.00|\n",
      "|    1200500|      150.2095|                         130.87053|                 87.13|\n",
      "|    1200401|        8.5808|                               0.0|                  0.00|\n",
      "|    1200609|      100.8504|                         55.850315|                 55.38|\n",
      "|    1200401|       20.0043|                         7.9160247|                 39.57|\n",
      "|    1200500|      103.2753|                          74.99457|                 72.62|\n",
      "|    1200302|       58.0949|                         51.370228|                 88.42|\n",
      "|    1200500|       56.8228|                         48.255722|                 84.92|\n",
      "|    1200302|      150.2032|                         136.12605|                 90.63|\n",
      "|    1200500|       23.6405|                          8.323043|                 35.21|\n",
      "|    1200401|       41.1399|                         18.687065|                 45.42|\n",
      "|    1200385|       98.3567|                         22.657467|                 23.04|\n",
      "+-----------+--------------+----------------------------------+----------------------+\n",
      "only showing top 20 rows\n",
      "\n"
     ]
    },
    {
     "data": {
      "text/plain": [
       "0.60634446144104"
      ]
     },
     "execution_count": 8,
     "metadata": {},
     "output_type": "execute_result"
    }
   ],
   "source": [
    "query = \"\"\"\n",
    "SELECT\n",
    "   codigo_ibge,\n",
    "   area_do_imovel,\n",
    "   area_remanescente_vegetacao_nativa,\n",
    "   FORMAT_NUMBER(area_remanescente_vegetacao_nativa / area_do_imovel * 100, 2) as percentual_area_nativa\n",
    "\n",
    "FROM delta.`/home/jovyan/app/data/silver/silver_distribuida_uf`\n",
    "\"\"\"\n",
    "\n",
    "tempo_delta_5 = get_time(delta_table_query, query)\n",
    "tempo_delta_5"
   ]
  },
  {
   "cell_type": "markdown",
   "metadata": {},
   "source": [
    "## Consulta 6\n",
    "Construa uma consulta que mostre a contagem de propriedades rurais por estado."
   ]
  },
  {
   "cell_type": "markdown",
   "metadata": {},
   "source": [
    "* AST – Assentamentos\n",
    "* CAR – Cadastro Ambiental Rural\n",
    "* CCU – Contrato de Concessão de Uso\n",
    "* CDRU – Concessão de Direito Real de Uso\n",
    "* DD – Diretoria de Desenvolvimento\n",
    "* IRU – Imóveis Rurais\n",
    "* MLC – Módulo Lote CAR\n",
    "* PA – Projeto de Assentamento\n",
    "* PCT – Povos e Comunidades Tradicionais\n",
    "* PRA – Programa de Regularização Ambiental\n",
    "* PNRA – Programa Nacional de Reforma Agrária\n",
    "* SICAR – Sistema de Cadastro Ambiental Rural\n",
    "* SR – Superintendência Regional\n",
    "* TCMS – Termo de Compromisso de Manutenção de Sigilo\n",
    "* TD – Título Definitivo\n",
    "* TED – Termo de Execução Descentralizada\n",
    "* URL – Uniform Resource Locator"
   ]
  },
  {
   "cell_type": "code",
   "execution_count": 9,
   "metadata": {},
   "outputs": [
    {
     "name": "stdout",
     "output_type": "stream",
     "text": [
      "+-----------------+\n",
      "|tipo_imovel_rural|\n",
      "+-----------------+\n",
      "|              AST|\n",
      "|              IRU|\n",
      "|              PCT|\n",
      "+-----------------+\n",
      "\n"
     ]
    }
   ],
   "source": [
    "query = \"\"\"\n",
    "SELECT\n",
    "DISTINCT tipo_imovel_rural\n",
    "                    \n",
    "FROM delta.`/home/jovyan/app/data/silver/silver_distribuida_uf`\n",
    "\"\"\"\n",
    "\n",
    "delta_table_query(query)"
   ]
  },
  {
   "cell_type": "code",
   "execution_count": 10,
   "metadata": {},
   "outputs": [
    {
     "name": "stdout",
     "output_type": "stream",
     "text": [
      "+---+----------------+\n",
      "| uf|count_prop_rural|\n",
      "+---+----------------+\n",
      "| BA|         1011503|\n",
      "| MG|          988921|\n",
      "| RS|          606013|\n",
      "| PR|          495650|\n",
      "| SP|          406885|\n",
      "| SC|          374768|\n",
      "| PE|          338392|\n",
      "| CE|          314168|\n",
      "| PA|          278097|\n",
      "| MA|          272010|\n",
      "| PI|          254577|\n",
      "| GO|          198524|\n",
      "| PB|          170484|\n",
      "| MT|          169775|\n",
      "| RO|          147099|\n",
      "| AL|          113222|\n",
      "| ES|          108848|\n",
      "| SE|           94203|\n",
      "| RN|           88788|\n",
      "| TO|           84990|\n",
      "+---+----------------+\n",
      "only showing top 20 rows\n",
      "\n"
     ]
    },
    {
     "data": {
      "text/plain": [
       "7.01518988609314"
      ]
     },
     "execution_count": 10,
     "metadata": {},
     "output_type": "execute_result"
    }
   ],
   "source": [
    "query = \"\"\"\n",
    "SELECT\n",
    "    uf,\n",
    "    COUNT(tipo_imovel_rural) AS count_prop_rural\n",
    "\n",
    "FROM delta.`/home/jovyan/app/data/silver/silver_distribuida_uf`\n",
    "\n",
    "WHERE tipo_imovel_rural = 'IRU'\n",
    "\n",
    "GROUP BY uf\n",
    "\n",
    "ORDER BY count_prop_rural DESC\n",
    "\"\"\"\n",
    "\n",
    "tempo_delta_6 = get_time(delta_table_query, query)\n",
    "tempo_delta_6"
   ]
  },
  {
   "cell_type": "markdown",
   "metadata": {},
   "source": [
    "## Consulta 7\n",
    "Veja qual é a maior propriedade entre todas e calcule a distância entre ela e Brasília. Utilize a coordenada de centródide da propriedade para calcular a distância entre ela e Brasília. Coordenadas de Brasília: -15.796943053171708, -47.891638482569476"
   ]
  },
  {
   "cell_type": "code",
   "execution_count": 11,
   "metadata": {},
   "outputs": [
    {
     "name": "stdout",
     "output_type": "stream",
     "text": [
      "+---------+---------+---------+------------------+\n",
      "| max_area| latitude|longitude|distancia_brasilia|\n",
      "+---------+---------+---------+------------------+\n",
      "|2420078.8|-5.475619|-68.88819|          2,596.98|\n",
      "+---------+---------+---------+------------------+\n",
      "\n"
     ]
    },
    {
     "data": {
      "text/plain": [
       "6.444031476974487"
      ]
     },
     "execution_count": 11,
     "metadata": {},
     "output_type": "execute_result"
    }
   ],
   "source": [
    "query = \"\"\"\n",
    "SELECT\n",
    "    max_area,\n",
    "    latitude,\n",
    "    longitude,\n",
    "    FORMAT_NUMBER(\n",
    "        SQRT(\n",
    "            POWER(latitude - (-15.796943053171708), 2) + \n",
    "            POWER(longitude - (-47.891638482569476), 2) \n",
    "            )* 111, 2\n",
    "        )  AS distancia_brasilia\n",
    "\n",
    "FROM (\n",
    "\n",
    "    SELECT \n",
    "        latitude, \n",
    "        longitude, \n",
    "        area_do_imovel AS max_area\n",
    "\n",
    "    FROM delta.`/home/jovyan/app/data/silver/silver_distribuida_uf`\n",
    "\n",
    "    ORDER BY area_do_imovel DESC\n",
    "\n",
    "    LIMIT 1\n",
    ")\n",
    "\"\"\"\n",
    "\n",
    "tempo_delta_7 = get_time(delta_table_query, query)\n",
    "tempo_delta_7"
   ]
  },
  {
   "cell_type": "markdown",
   "metadata": {},
   "source": [
    "## Consulta 8\n",
    "Faça a média de área entre todas as propriedades. Calcule quantas propriedades por estado, estão acima da média."
   ]
  },
  {
   "cell_type": "code",
   "execution_count": 12,
   "metadata": {},
   "outputs": [
    {
     "name": "stdout",
     "output_type": "stream",
     "text": [
      "+---+-----------+\n",
      "| uf|acima_media|\n",
      "+---+-----------+\n",
      "| MG|    4659636|\n",
      "| PA|    3040492|\n",
      "| MT|    2423798|\n",
      "| BA|    2301168|\n",
      "| GO|    1991271|\n",
      "| SP|    1942999|\n",
      "| RS|    1930717|\n",
      "| PR|    1668279|\n",
      "| MA|    1628578|\n",
      "| RO|    1337519|\n",
      "| PI|    1263794|\n",
      "| CE|    1043851|\n",
      "| TO|     979080|\n",
      "| MS|     957729|\n",
      "| AM|     732345|\n",
      "| SC|     729461|\n",
      "| PE|     661795|\n",
      "| AC|     492997|\n",
      "| ES|     395320|\n",
      "| PB|     385550|\n",
      "+---+-----------+\n",
      "only showing top 20 rows\n",
      "\n"
     ]
    },
    {
     "data": {
      "text/plain": [
       "13.55098843574524"
      ]
     },
     "execution_count": 12,
     "metadata": {},
     "output_type": "execute_result"
    }
   ],
   "source": [
    "query = \"\"\"\n",
    "WITH \n",
    "    avg_calc AS (\n",
    "        SELECT\n",
    "            AVG(area_do_imovel) AS avg_area\n",
    "\n",
    "        FROM delta.`/home/jovyan/app/data/silver/silver_distribuida_uf`\n",
    "\n",
    "        GROUP BY uf\n",
    "        ), \n",
    "\n",
    "    filtro_estado AS (\n",
    "        SELECT\n",
    "            uf,\n",
    "            area_do_imovel\n",
    "\n",
    "        FROM delta.`/home/jovyan/app/data/silver/silver_distribuida_uf`, avg_calc\n",
    "\n",
    "        WHERE area_do_imovel > avg_calc.avg_area\n",
    ")\n",
    "\n",
    "SELECT\n",
    "    uf,\n",
    "    COUNT(*) AS acima_media\n",
    "\n",
    "FROM filtro_estado\n",
    "\n",
    "GROUP BY uf\n",
    "\n",
    "ORDER BY acima_media DESC\n",
    "\n",
    "\"\"\"\n",
    "\n",
    "tempo_delta_8 = get_time(delta_table_query, query)\n",
    "tempo_delta_8"
   ]
  },
  {
   "cell_type": "markdown",
   "metadata": {},
   "source": [
    "## Tempo Total Delta Tables"
   ]
  },
  {
   "cell_type": "code",
   "execution_count": 13,
   "metadata": {},
   "outputs": [
    {
     "data": {
      "text/plain": [
       "66.72776246070862"
      ]
     },
     "execution_count": 13,
     "metadata": {},
     "output_type": "execute_result"
    }
   ],
   "source": [
    "total_delta = tempo_delta_1 + tempo_delta_2 + tempo_delta_3 + tempo_delta_4 + tempo_delta_5 + tempo_delta_6 + tempo_delta_7 + tempo_delta_8\n",
    "total_delta"
   ]
  },
  {
   "cell_type": "markdown",
   "metadata": {},
   "source": [
    "# Querys a partir da Hive Metastore"
   ]
  },
  {
   "cell_type": "markdown",
   "metadata": {},
   "source": [
    "## Salvando Gold (Distribuída)"
   ]
  },
  {
   "cell_type": "code",
   "execution_count": null,
   "metadata": {},
   "outputs": [
    {
     "data": {
      "text/plain": [
       "DataFrame[]"
      ]
     },
     "execution_count": 28,
     "metadata": {},
     "output_type": "execute_result"
    }
   ],
   "source": [
    "# spark.sql(\"DROP TABLE IF EXISTS gold_distribuida_uf\")"
   ]
  },
  {
   "cell_type": "code",
   "execution_count": 30,
   "metadata": {},
   "outputs": [],
   "source": [
    "df_test = spark.read.format(\"delta\").load(\"/home/jovyan/app/data/silver/silver_distribuida_uf\")\n",
    "\n",
    "df_test.write.partitionBy(\"uf\").saveAsTable(\"gold_distribuida_uf\")"
   ]
  },
  {
   "cell_type": "markdown",
   "metadata": {},
   "source": [
    "## Consulta 1\n",
    "\n",
    "Recupere a soma de área (em hectares) para todas as propriedades agrícolas que pertencem ao MS e MT. Ordene os resultados em ordem decrescente."
   ]
  },
  {
   "cell_type": "code",
   "execution_count": 31,
   "metadata": {},
   "outputs": [
    {
     "name": "stdout",
     "output_type": "stream",
     "text": [
      "+---+------------------+\n",
      "| uf|soma_area_hectares|\n",
      "+---+------------------+\n",
      "| MT|    84,587,089.218|\n",
      "| MS|    36,321,882.660|\n",
      "+---+------------------+\n",
      "\n"
     ]
    },
    {
     "data": {
      "text/plain": [
       "0.33525586128234863"
      ]
     },
     "execution_count": 31,
     "metadata": {},
     "output_type": "execute_result"
    }
   ],
   "source": [
    "query = \"\"\"\n",
    "SELECT \n",
    "   uf,\n",
    "   FORMAT_NUMBER(SUM(area_do_imovel), 3) as soma_area_hectares\n",
    "\n",
    "FROM gold_distribuida_uf\n",
    "\n",
    "WHERE uf IN ('MS', 'MT')\n",
    "\n",
    "GROUP BY uf\n",
    "\n",
    "ORDER BY soma_area_hectares DESC\n",
    "\n",
    "\"\"\"\n",
    "\n",
    "tempo_hive_1 = get_time(delta_table_query, query)\n",
    "tempo_hive_1"
   ]
  },
  {
   "cell_type": "markdown",
   "metadata": {},
   "source": [
    "## Consulta 2\n",
    "Filtre todas as propriedades que pertecem a região sudeste. "
   ]
  },
  {
   "cell_type": "code",
   "execution_count": 32,
   "metadata": {},
   "outputs": [
    {
     "name": "stdout",
     "output_type": "stream",
     "text": [
      "+---+-----------+\n",
      "| uf|codigo_ibge|\n",
      "+---+-----------+\n",
      "| MG|    3136801|\n",
      "| MG|    3136520|\n",
      "| MG|    3145604|\n",
      "| MG|    3171808|\n",
      "| MG|    3104007|\n",
      "| MG|    3123908|\n",
      "| MG|    3114600|\n",
      "| MG|    3155603|\n",
      "| MG|    3171071|\n",
      "| MG|    3112307|\n",
      "| MG|    3112406|\n",
      "| MG|    3169307|\n",
      "| MG|    3108503|\n",
      "| MG|    3139904|\n",
      "| MG|    3119906|\n",
      "| MG|    3170206|\n",
      "| MG|    3165578|\n",
      "| MG|    3158201|\n",
      "| MG|    3104452|\n",
      "| MG|    3131604|\n",
      "+---+-----------+\n",
      "only showing top 20 rows\n",
      "\n"
     ]
    },
    {
     "data": {
      "text/plain": [
       "1.0503020286560059"
      ]
     },
     "execution_count": 32,
     "metadata": {},
     "output_type": "execute_result"
    }
   ],
   "source": [
    "query = \"\"\"\n",
    "SELECT\n",
    "   uf,\n",
    "   codigo_ibge\n",
    "\n",
    "FROM gold_distribuida_uf\n",
    "\n",
    "\"\"\"\n",
    "\n",
    "tempo_hive_2 = get_time(delta_table_query, query)\n",
    "tempo_hive_2"
   ]
  },
  {
   "cell_type": "markdown",
   "metadata": {},
   "source": [
    "## Consulta 3\n",
    "Recupere todas as propriedades rurais que estão localizadas dentro de uma área geográfica específica delimitada por um polígono. Este polígono é descrito pelas seguintes coordenadas: POLYGON ((-53.5325072 -19.4632582, -51.0495971 -19.1625841, -51.3734501 -16.1924262, -53.8181518 -16.4010783, -53.5325072 -19.4632582))\n",
    "Verificar se um centroide está dentro dos pontos informados (ou mais)."
   ]
  },
  {
   "cell_type": "code",
   "execution_count": 33,
   "metadata": {},
   "outputs": [
    {
     "name": "stdout",
     "output_type": "stream",
     "text": [
      "+-----------+--------+---------+--------------+\n",
      "|codigo_ibge|latitude|longitude|inside_polygon|\n",
      "+-----------+--------+---------+--------------+\n",
      "+-----------+--------+---------+--------------+\n",
      "\n"
     ]
    },
    {
     "data": {
      "text/plain": [
       "11.994521379470825"
      ]
     },
     "execution_count": 33,
     "metadata": {},
     "output_type": "execute_result"
    }
   ],
   "source": [
    "query = \"\"\"\n",
    "SELECT\n",
    "    codigo_ibge,\n",
    "    latitude,\n",
    "    longitude,\n",
    "    is_point_in_polygon(latitude, longitude) AS inside_polygon\n",
    "\n",
    "FROM gold_distribuida_uf\n",
    "\n",
    "WHERE is_point_in_polygon(latitude, longitude) = True\n",
    "\"\"\"\n",
    "\n",
    "tempo_hive_3 = get_time(delta_table_query, query)\n",
    "tempo_hive_3"
   ]
  },
  {
   "cell_type": "markdown",
   "metadata": {},
   "source": [
    "## Consulta 4\n",
    "Calcule quantas propriedades foram cadastradas por ano. Apresente os resultados em ordem cronológica."
   ]
  },
  {
   "cell_type": "code",
   "execution_count": 34,
   "metadata": {},
   "outputs": [
    {
     "name": "stdout",
     "output_type": "stream",
     "text": [
      "+-------------+-------+\n",
      "|ano_inscricao|qnt_ano|\n",
      "+-------------+-------+\n",
      "|         NULL|     12|\n",
      "|         2013|    743|\n",
      "|         2014| 227468|\n",
      "|         2015|1240176|\n",
      "|         2016|1828786|\n",
      "|         2017| 794777|\n",
      "|         2018| 724856|\n",
      "|         2019| 746570|\n",
      "|         2020| 463322|\n",
      "|         2021| 443942|\n",
      "|         2022| 368448|\n",
      "+-------------+-------+\n",
      "\n"
     ]
    },
    {
     "data": {
      "text/plain": [
       "1.716068983078003"
      ]
     },
     "execution_count": 34,
     "metadata": {},
     "output_type": "execute_result"
    }
   ],
   "source": [
    "query = \"\"\"\n",
    "SELECT\n",
    "   YEAR(data_inscricao) AS ano_inscricao,\n",
    "   COUNT(*) AS qnt_ano\n",
    "\n",
    "FROM gold_distribuida_uf\n",
    "\n",
    "GROUP BY ano_inscricao\n",
    "\n",
    "ORDER BY ano_inscricao\n",
    "\"\"\"\n",
    "\n",
    "tempo_hive_4 = get_time(delta_table_query, query)\n",
    "tempo_hive_4"
   ]
  },
  {
   "cell_type": "markdown",
   "metadata": {},
   "source": [
    "## Consulta 5\n",
    "Calcule o percentual médio de área remanescente de vegetação nativa em comparação a área total da propriedade"
   ]
  },
  {
   "cell_type": "code",
   "execution_count": 35,
   "metadata": {},
   "outputs": [
    {
     "name": "stdout",
     "output_type": "stream",
     "text": [
      "+-----------+--------------+----------------------------------+----------------------+\n",
      "|codigo_ibge|area_do_imovel|area_remanescente_vegetacao_nativa|percentual_area_nativa|\n",
      "+-----------+--------------+----------------------------------+----------------------+\n",
      "|    3136801|      119.0454|                               0.0|                  0.00|\n",
      "|    3136520|       34.5053|                               0.0|                  0.00|\n",
      "|    3145604|        3.5613|                               0.0|                  0.00|\n",
      "|    3171808|       22.0177|                         1.1560909|                  5.25|\n",
      "|    3104007|       25.9163|                         5.0354385|                 19.43|\n",
      "|    3123908|        48.444|                               0.0|                  0.00|\n",
      "|    3114600|       35.5403|                         7.0675855|                 19.89|\n",
      "|    3155603|        1.8732|                               0.0|                  0.00|\n",
      "|    3171071|       20.7036|                          6.303867|                 30.45|\n",
      "|    3112307|         3.509|                               0.0|                  0.00|\n",
      "|    3112406|       75.3039|                         22.148973|                 29.41|\n",
      "|    3169307|       18.1656|                         2.1825976|                 12.02|\n",
      "|    3108503|       22.8717|                               0.0|                  0.00|\n",
      "|    3139904|        7.4606|                         1.5591056|                 20.90|\n",
      "|    3119906|         3.415|                               0.0|                  0.00|\n",
      "|    3170206|      394.2596|                               0.0|                  0.00|\n",
      "|    3165578|       21.9898|                          7.460772|                 33.93|\n",
      "|    3158201|       26.5998|                         6.8219266|                 25.65|\n",
      "|    3104452|       15.0519|                               0.0|                  0.00|\n",
      "|    3131604|       24.1363|                         14.994005|                 62.12|\n",
      "+-----------+--------------+----------------------------------+----------------------+\n",
      "only showing top 20 rows\n",
      "\n"
     ]
    },
    {
     "data": {
      "text/plain": [
       "0.17835283279418945"
      ]
     },
     "execution_count": 35,
     "metadata": {},
     "output_type": "execute_result"
    }
   ],
   "source": [
    "query = \"\"\"\n",
    "SELECT\n",
    "   codigo_ibge,\n",
    "   area_do_imovel,\n",
    "   area_remanescente_vegetacao_nativa,\n",
    "   FORMAT_NUMBER(area_remanescente_vegetacao_nativa / area_do_imovel * 100, 2) as percentual_area_nativa\n",
    "\n",
    "FROM gold_distribuida_uf\n",
    "\"\"\"\n",
    "\n",
    "tempo_hive_5 = get_time(delta_table_query, query)\n",
    "tempo_hive_5"
   ]
  },
  {
   "cell_type": "markdown",
   "metadata": {},
   "source": [
    "## Consulta 6\n",
    "Construa uma consulta que mostre a contagem de propriedades rurais por estado."
   ]
  },
  {
   "cell_type": "code",
   "execution_count": 36,
   "metadata": {},
   "outputs": [
    {
     "name": "stdout",
     "output_type": "stream",
     "text": [
      "+---+----------------+\n",
      "| uf|count_prop_rural|\n",
      "+---+----------------+\n",
      "| BA|         1011503|\n",
      "| MG|          988921|\n",
      "| RS|          606013|\n",
      "| PR|          495650|\n",
      "| SP|          406885|\n",
      "| SC|          374768|\n",
      "| PE|          338392|\n",
      "| CE|          314168|\n",
      "| PA|          278097|\n",
      "| MA|          272010|\n",
      "| PI|          254577|\n",
      "| GO|          198524|\n",
      "| PB|          170484|\n",
      "| MT|          169775|\n",
      "| RO|          147099|\n",
      "| AL|          113222|\n",
      "| ES|          108848|\n",
      "| SE|           94203|\n",
      "| RN|           88788|\n",
      "| TO|           84990|\n",
      "+---+----------------+\n",
      "only showing top 20 rows\n",
      "\n"
     ]
    },
    {
     "data": {
      "text/plain": [
       "1.3295278549194336"
      ]
     },
     "execution_count": 36,
     "metadata": {},
     "output_type": "execute_result"
    }
   ],
   "source": [
    "query = \"\"\"\n",
    "SELECT\n",
    "    uf,\n",
    "    COUNT(tipo_imovel_rural) AS count_prop_rural\n",
    "\n",
    "FROM gold_distribuida_uf\n",
    "\n",
    "WHERE tipo_imovel_rural = 'IRU'\n",
    "\n",
    "GROUP BY uf\n",
    "\n",
    "ORDER BY count_prop_rural DESC\n",
    "\"\"\"\n",
    "\n",
    "tempo_hive_6 = get_time(delta_table_query, query)\n",
    "tempo_hive_6"
   ]
  },
  {
   "cell_type": "markdown",
   "metadata": {},
   "source": [
    "## Consulta 7\n",
    "Veja qual é a maior propriedade entre todas e calcule a distância entre ela e Brasília. Utilize a coordenada de centródide da propriedade para calcular a distância entre ela e Brasília. Coordenadas de Brasília: -15.796943053171708, -47.891638482569476"
   ]
  },
  {
   "cell_type": "code",
   "execution_count": 37,
   "metadata": {},
   "outputs": [
    {
     "name": "stdout",
     "output_type": "stream",
     "text": [
      "+---------+---------+---------+------------------+\n",
      "| max_area| latitude|longitude|distancia_brasilia|\n",
      "+---------+---------+---------+------------------+\n",
      "|2420078.8|-5.475619|-68.88819|          2,596.98|\n",
      "+---------+---------+---------+------------------+\n",
      "\n"
     ]
    },
    {
     "data": {
      "text/plain": [
       "1.5660717487335205"
      ]
     },
     "execution_count": 37,
     "metadata": {},
     "output_type": "execute_result"
    }
   ],
   "source": [
    "query = \"\"\"\n",
    "SELECT\n",
    "    max_area,\n",
    "    latitude,\n",
    "    longitude,\n",
    "    FORMAT_NUMBER(\n",
    "        SQRT(\n",
    "            POWER(latitude - (-15.796943053171708), 2) + \n",
    "            POWER(longitude - (-47.891638482569476), 2) \n",
    "            )* 111, 2\n",
    "        )  AS distancia_brasilia\n",
    "\n",
    "FROM (\n",
    "\n",
    "    SELECT \n",
    "        latitude, \n",
    "        longitude, \n",
    "        area_do_imovel AS max_area\n",
    "\n",
    "    FROM gold_distribuida_uf\n",
    "\n",
    "    ORDER BY area_do_imovel DESC\n",
    "\n",
    "    LIMIT 1\n",
    ")\n",
    "\"\"\"\n",
    "\n",
    "tempo_hive_7 = get_time(delta_table_query, query)\n",
    "tempo_hive_7"
   ]
  },
  {
   "cell_type": "markdown",
   "metadata": {},
   "source": [
    "## Consulta 8\n",
    "Faça a média de área entre todas as propriedades. Calcule quantas propriedades por estado, estão acima da média."
   ]
  },
  {
   "cell_type": "code",
   "execution_count": 38,
   "metadata": {},
   "outputs": [
    {
     "name": "stdout",
     "output_type": "stream",
     "text": [
      "+---+-----------+\n",
      "| uf|acima_media|\n",
      "+---+-----------+\n",
      "| MG|    4659636|\n",
      "| PA|    3040492|\n",
      "| MT|    2423798|\n",
      "| BA|    2301168|\n",
      "| GO|    1991271|\n",
      "| SP|    1942999|\n",
      "| RS|    1930717|\n",
      "| PR|    1668279|\n",
      "| MA|    1628578|\n",
      "| RO|    1337519|\n",
      "| PI|    1263794|\n",
      "| CE|    1043851|\n",
      "| TO|     979080|\n",
      "| MS|     957729|\n",
      "| AM|     732345|\n",
      "| SC|     729461|\n",
      "| PE|     661795|\n",
      "| AC|     492997|\n",
      "| ES|     395320|\n",
      "| PB|     385550|\n",
      "+---+-----------+\n",
      "only showing top 20 rows\n",
      "\n"
     ]
    },
    {
     "data": {
      "text/plain": [
       "3.3028199672698975"
      ]
     },
     "execution_count": 38,
     "metadata": {},
     "output_type": "execute_result"
    }
   ],
   "source": [
    "query = \"\"\"\n",
    "WITH \n",
    "    avg_calc AS (\n",
    "        SELECT\n",
    "            AVG(area_do_imovel) AS avg_area\n",
    "\n",
    "        FROM gold_distribuida_uf\n",
    "\n",
    "        GROUP BY uf\n",
    "        ), \n",
    "\n",
    "    filtro_estado AS (\n",
    "        SELECT\n",
    "            uf,\n",
    "            area_do_imovel\n",
    "\n",
    "        FROM gold_distribuida_uf, avg_calc\n",
    "\n",
    "        WHERE area_do_imovel > avg_calc.avg_area\n",
    ")\n",
    "\n",
    "SELECT\n",
    "    uf,\n",
    "    COUNT(*) AS acima_media\n",
    "\n",
    "FROM filtro_estado\n",
    "\n",
    "GROUP BY uf\n",
    "\n",
    "ORDER BY acima_media DESC\n",
    "\n",
    "\"\"\"\n",
    "\n",
    "tempo_hive_8 = get_time(delta_table_query, query)\n",
    "tempo_hive_8"
   ]
  },
  {
   "cell_type": "markdown",
   "metadata": {},
   "source": [
    "## Tempo Total Hive Metastore"
   ]
  },
  {
   "cell_type": "code",
   "execution_count": 39,
   "metadata": {},
   "outputs": [
    {
     "data": {
      "text/plain": [
       "21.472920656204224"
      ]
     },
     "execution_count": 39,
     "metadata": {},
     "output_type": "execute_result"
    }
   ],
   "source": [
    "total_hive = tempo_hive_1 + tempo_hive_2 + tempo_hive_3 + tempo_hive_4 + tempo_hive_5 + tempo_hive_6 + tempo_hive_7 + tempo_hive_8\n",
    "total_hive"
   ]
  },
  {
   "cell_type": "markdown",
   "metadata": {},
   "source": [
    "# Querys a partir de Banco Centralizado (Professor)"
   ]
  }
 ],
 "metadata": {
  "kernelspec": {
   "display_name": "Python 3 (ipykernel)",
   "language": "python",
   "name": "python3"
  },
  "language_info": {
   "codemirror_mode": {
    "name": "ipython",
    "version": 3
   },
   "file_extension": ".py",
   "mimetype": "text/x-python",
   "name": "python",
   "nbconvert_exporter": "python",
   "pygments_lexer": "ipython3",
   "version": "3.11.6"
  }
 },
 "nbformat": 4,
 "nbformat_minor": 4
}

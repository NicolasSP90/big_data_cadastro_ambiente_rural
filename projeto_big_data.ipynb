{
 "cells": [
  {
   "cell_type": "markdown",
   "metadata": {},
   "source": [
    "# Iniciando Sessão Spark"
   ]
  },
  {
   "cell_type": "code",
   "execution_count": 1,
   "metadata": {},
   "outputs": [
    {
     "name": "stdout",
     "output_type": "stream",
     "text": [
      "3.5.0\n"
     ]
    }
   ],
   "source": [
    "from pyspark.sql import SparkSession\n",
    "\n",
    "# Iniciar a sessão Spark com a configuração do Delta Lake\n",
    "spark = (SparkSession.builder\n",
    "    .appName(\"DeltaLake\")\n",
    "    .config(\"spark.sql.extensions\", \"io.delta.sql.DeltaSparkSessionExtension\")  # Extensão do Delta\n",
    "    .config(\"spark.sql.catalog.spark_catalog\", \"org.apache.spark.sql.delta.catalog.DeltaCatalog\")  # Catálogo do Delta\n",
    "    .config(\"spark.jars\", \"/usr/local/spark/jars/delta-spark_2.12-3.0.0.jar,/usr/local/spark/jars/delta-storage-3.0.0.jar\")  # Caminho dos JARs no Docker\n",
    "    .getOrCreate()) # Se utilizar as limitações de hardware pelo spark, mover para o final\n",
    "#    .config(\"spark.executor.cores\", \"2\")  # Limitar o número de núcleos por executor\n",
    "#    .config(\"spark.driver.cores\", \"1\")    # Limitar o número de núcleos para o driver\n",
    "#    .config(\"spark.executor.memory\", \"4g\")\n",
    "#    .config(\"spark.driver.memory\", \"4g\")\n",
    "#    .config(\"spark.memory.fraction\", \"0.3\")  # Ajuste para controlar a fração de memória usada pelo Spark\n",
    "#    .config(\"spark.memory.storageFraction\", \"0.2\")  # Fração da memória usada para armazenar dados persistentes\"\"\"\n",
    "\n",
    "from pyspark.sql.functions import *\n",
    "from pyspark.sql.types import *\n",
    "from pyspark.sql.functions import udf\n",
    "\n",
    "import time\n",
    "\n",
    "# Verificar se a sessão Spark foi criada com sucesso\n",
    "print(spark.version)"
   ]
  },
  {
   "cell_type": "markdown",
   "metadata": {},
   "source": [
    "# Importando CSV"
   ]
  },
  {
   "cell_type": "code",
   "execution_count": null,
   "metadata": {},
   "outputs": [],
   "source": [
    "df_test = spark.read.csv(\"/home/jovyan/app/data/raw/temas_ambientais.csv\", sep=\";\", header=True)\n",
    "df_test.show()"
   ]
  },
  {
   "cell_type": "markdown",
   "metadata": {},
   "source": [
    "# Salvando Bronze (Distribuída)"
   ]
  },
  {
   "cell_type": "code",
   "execution_count": null,
   "metadata": {},
   "outputs": [],
   "source": [
    "df_test = df_test.dropDuplicates()"
   ]
  },
  {
   "cell_type": "code",
   "execution_count": null,
   "metadata": {},
   "outputs": [],
   "source": [
    "df_test.write.mode(\"overwrite\").format(\"delta\").save(\"/home/jovyan/app/data/bronze/bronze_distribuida\")"
   ]
  },
  {
   "cell_type": "markdown",
   "metadata": {},
   "source": [
    "# Limpeza e Salvando Silver (Distribuída)"
   ]
  },
  {
   "cell_type": "code",
   "execution_count": null,
   "metadata": {},
   "outputs": [],
   "source": [
    "df_test = spark.read.format(\"delta\").load(\"/home/jovyan/app/data/bronze/bronze_distribuida\")\n",
    "df_test.show(10)"
   ]
  },
  {
   "cell_type": "code",
   "execution_count": null,
   "metadata": {},
   "outputs": [],
   "source": [
    "# Criar uma lista com o nome das colunas e o número de nulos em cada uma\n",
    "null_counts_1 = df_test.select([sum(col(c).isNull().cast(\"int\")).alias(c) for c in df_test.columns]).first().asDict()\n",
    "\n",
    "# Exibir o resultado\n",
    "null_counts_1"
   ]
  },
  {
   "cell_type": "code",
   "execution_count": null,
   "metadata": {},
   "outputs": [],
   "source": [
    "df_test.printSchema()"
   ]
  },
  {
   "cell_type": "code",
   "execution_count": null,
   "metadata": {},
   "outputs": [],
   "source": [
    "int_columns = [\"codigo_ibge\"]\n",
    "float_columns = [\"area_do_imovel\", \"area_liquida\", \"area_remanescente_vegetacao_nativa\", \n",
    "                 \"area_reserva_legal_proposta\", \"area_preservacao_permanente\", \"area_nao_classificada\",\n",
    "                 \"latitude\", \"longitude\", \"area_rural_consolidada\", \"area_servidao_administrativa\",\n",
    "                 \"modulos_fiscais\", \"area_uso_restrito\", \"area_reserva_legal_averbada\",\n",
    "                 \"area_reserva_legal_aprovada_nao_averbada\", \"area_pousio\"]\n",
    "bool_columns = [\"solicitacao_adesao_pra\"]\n",
    "date_columns = [\"data_inscricao\", \"data_alteracao_condicao_cadastro\", \"data_ultima_retificacao\"]\n",
    "text_column = [x for x in df_test.columns if x not in int_columns+float_columns+bool_columns+date_columns]"
   ]
  },
  {
   "cell_type": "code",
   "execution_count": null,
   "metadata": {},
   "outputs": [],
   "source": [
    "# Dados Para Integer\n",
    "df_test = df_test.withColumn(\"codigo_ibge\", col(\"codigo_ibge\").cast(IntegerType()))\n",
    "\n",
    "# Dados Para Float\n",
    "for i in float_columns:\n",
    "    df_test = df_test.withColumn(i, col(i).cast(FloatType()))\n",
    "\n",
    "# Dados para Bool\n",
    "df_test = df_test.withColumn(\"solicitacao_adesao_pra\", \n",
    "                             when(col(\"solicitacao_adesao_pra\") == \"Sim\", True).\n",
    "                             when(col(\"solicitacao_adesao_pra\") == \"Nao\", False).\n",
    "                             otherwise(None))\n",
    "\n",
    "# Dados para Date\n",
    "for i in date_columns:\n",
    "    df_test = df_test.withColumn(i, to_timestamp(regexp_replace(col(i), r\"\\.\\d+$\", \"\"), \"yyyy-MM-dd HH:mm:ss\"))\n",
    "\n",
    "df_test.printSchema()"
   ]
  },
  {
   "cell_type": "code",
   "execution_count": null,
   "metadata": {},
   "outputs": [],
   "source": [
    "# Criar uma lista com o nome das colunas e o número de nulos em cada uma\n",
    "null_counts_2 = df_test.select([sum(col(c).isNull().cast(\"int\")).alias(c) for c in df_test.columns]).first().asDict()\n",
    "\n",
    "# Exibir o resultado\n",
    "null_counts_2"
   ]
  },
  {
   "cell_type": "code",
   "execution_count": null,
   "metadata": {},
   "outputs": [],
   "source": [
    "if null_counts_1 == null_counts_2:\n",
    "    print(\"Os valores de nulos são os mesmos em ambas as versões.\")\n",
    "else:\n",
    "    print(\"Há diferenças nos valores de nulos.\")\n",
    "    # Mostrar as diferenças\n",
    "    for coluna in null_counts_1.keys():\n",
    "        if null_counts_1[coluna] != null_counts_2[coluna]:\n",
    "            print(f\"Coluna '{coluna}': null_counts_1 = {null_counts_1[coluna]}, null_counts_2 = {null_counts_2[coluna]}\")"
   ]
  },
  {
   "cell_type": "markdown",
   "metadata": {},
   "source": [
    "# Salvando Silver (Distribuída - Por Estado)"
   ]
  },
  {
   "cell_type": "code",
   "execution_count": null,
   "metadata": {},
   "outputs": [],
   "source": [
    "(df_test.write.mode(\"overwrite\")\n",
    "              .format(\"delta\")\n",
    "              .partitionBy(\"uf\")\n",
    "              .save(\"/home/jovyan/app/data/silver/silver_distribuida_uf\"))"
   ]
  },
  {
   "cell_type": "markdown",
   "metadata": {},
   "source": [
    "# Querys a partir das Delta Tables"
   ]
  },
  {
   "cell_type": "markdown",
   "metadata": {},
   "source": [
    "## Funções e Definições"
   ]
  },
  {
   "cell_type": "code",
   "execution_count": 2,
   "metadata": {},
   "outputs": [
    {
     "data": {
      "text/plain": [
       "<pyspark.sql.udf.UserDefinedFunction at 0x7fd680481250>"
      ]
     },
     "execution_count": 2,
     "metadata": {},
     "output_type": "execute_result"
    }
   ],
   "source": [
    "def get_time_delta(query, path):\n",
    "    start_time = time.time()\n",
    "\n",
    "    table = spark.sql(query)\n",
    "\n",
    "    (table.write.mode(\"overwrite\")\n",
    "                .format(\"delta\")\n",
    "                .save(path))\n",
    "    \n",
    "    spark.sql(f\"\"\"SELECT * FROM delta.`{path}`\"\"\").show()\n",
    "\n",
    "    end_time = time.time()\n",
    "\n",
    "    tempo_query = end_time - start_time\n",
    "\n",
    "    return tempo_query\n",
    "\n",
    "def is_point_in_path(x: float, y: float, poly: list[tuple[float, float]]) -> bool:\n",
    "    \"\"\"Determine if the point is on the path, corner, or boundary of the polygon\n",
    "\n",
    "    Args:\n",
    "    x -- The x coordinates of point.\n",
    "    y -- The y coordinates of point.\n",
    "    poly -- a list of tuples [(x, y), (x, y), ...]\n",
    "\n",
    "    Returns:\n",
    "        True if the point is in the path or is a corner or on the boundary\"\"\"\n",
    "    \n",
    "    c = False\n",
    "\n",
    "    for i in range(len(poly)):\n",
    "        ax, ay = poly[i]\n",
    "        bx, by = poly[i - 1]\n",
    "        if (x == ax) and (y == ay):\n",
    "            # point is a corner\n",
    "            return True\n",
    "        if (ay > y) != (by > y):\n",
    "            slope = (x - ax) * (by - ay) - (bx - ax) * (y - ay)\n",
    "            if slope == 0:\n",
    "                # point is on boundary\n",
    "                return True\n",
    "            if (slope < 0) != (by < ay):\n",
    "                c = not c\n",
    "\n",
    "    return c\n",
    "\n",
    "# Registrar a UDF no Spark\n",
    "poly = [(-53.5325072, -19.4632582), (-51.0495971, -19.1625841), (-51.3734501, -16.1924262), (-53.8181518, -16.4010783), (-53.5325072, -19.4632582)]\n",
    "\n",
    "is_point_in_polygon_udf = udf(lambda x, y: is_point_in_path(x, y, poly), BooleanType())\n",
    "\n",
    "spark.udf.register(\"is_point_in_polygon\", is_point_in_polygon_udf)"
   ]
  },
  {
   "cell_type": "markdown",
   "metadata": {},
   "source": [
    "## Consulta 1\n",
    "\n",
    "Recupere a soma de área (em hectares) para todas as propriedades agrícolas que pertencem ao MS e MT. Ordene os resultados em ordem decrescente."
   ]
  },
  {
   "cell_type": "code",
   "execution_count": 3,
   "metadata": {},
   "outputs": [
    {
     "name": "stdout",
     "output_type": "stream",
     "text": [
      "+---+------------------+\n",
      "| uf|soma_area_hectares|\n",
      "+---+------------------+\n",
      "| MT|    84,587,089.218|\n",
      "| MS|    36,321,882.660|\n",
      "+---+------------------+\n",
      "\n"
     ]
    },
    {
     "data": {
      "text/plain": [
       "23.51868510246277"
      ]
     },
     "execution_count": 3,
     "metadata": {},
     "output_type": "execute_result"
    }
   ],
   "source": [
    "query = \"\"\"\n",
    "SELECT \n",
    "   uf,\n",
    "   FORMAT_NUMBER(SUM(area_do_imovel), 3) as soma_area_hectares\n",
    "FROM delta.`/home/jovyan/app/data/silver/silver_distribuida_uf`\n",
    "\n",
    "WHERE uf IN ('MS', 'MT')\n",
    "\n",
    "GROUP BY uf\n",
    "\n",
    "ORDER BY soma_area_hectares DESC\n",
    "\n",
    "\"\"\"\n",
    "\n",
    "tempo_delta_1 = get_time_delta(query, \"/home/jovyan/app/data/gold/delta/query_1\")\n",
    "tempo_delta_1"
   ]
  },
  {
   "cell_type": "markdown",
   "metadata": {},
   "source": [
    "## Consulta 2\n",
    "Filtre todas as propriedades que pertecem a região sudeste. "
   ]
  },
  {
   "cell_type": "code",
   "execution_count": 4,
   "metadata": {},
   "outputs": [
    {
     "name": "stdout",
     "output_type": "stream",
     "text": [
      "+---+-----------+\n",
      "| uf|codigo_ibge|\n",
      "+---+-----------+\n",
      "| AC|    1200807|\n",
      "| AC|    1200344|\n",
      "| AC|    1200104|\n",
      "| AC|    1200401|\n",
      "| AC|    1200302|\n",
      "| AC|    1200708|\n",
      "| AC|    1200302|\n",
      "| AC|    1200450|\n",
      "| AC|    1200179|\n",
      "| AC|    1200104|\n",
      "| AC|    1200401|\n",
      "| AC|    1200104|\n",
      "| AC|    1200344|\n",
      "| AC|    1200500|\n",
      "| AC|    1200500|\n",
      "| AC|    1200708|\n",
      "| AC|    1200450|\n",
      "| AC|    1200609|\n",
      "| AC|    1200138|\n",
      "| AC|    1200609|\n",
      "+---+-----------+\n",
      "only showing top 20 rows\n",
      "\n"
     ]
    },
    {
     "data": {
      "text/plain": [
       "14.173457622528076"
      ]
     },
     "execution_count": 4,
     "metadata": {},
     "output_type": "execute_result"
    }
   ],
   "source": [
    "query = \"\"\"\n",
    "SELECT\n",
    "   uf,\n",
    "   codigo_ibge\n",
    "\n",
    "FROM delta.`/home/jovyan/app/data/silver/silver_distribuida_uf`\n",
    "\n",
    "\"\"\"\n",
    "\n",
    "tempo_delta_2 = get_time_delta(query, \"/home/jovyan/app/data/gold/delta/query_2\")\n",
    "tempo_delta_2"
   ]
  },
  {
   "cell_type": "markdown",
   "metadata": {},
   "source": [
    "## Consulta 3\n",
    "Recupere todas as propriedades rurais que estão localizadas dentro de uma área geográfica específica delimitada por um polígono. Este polígono é descrito pelas seguintes coordenadas: POLYGON ((-53.5325072 -19.4632582, -51.0495971 -19.1625841, -51.3734501 -16.1924262, -53.8181518 -16.4010783, -53.5325072 -19.4632582))\n",
    "Verificar se um centroide está dentro dos pontos informados (ou mais)."
   ]
  },
  {
   "cell_type": "code",
   "execution_count": 5,
   "metadata": {},
   "outputs": [
    {
     "name": "stdout",
     "output_type": "stream",
     "text": [
      "+-----------+--------+---------+--------------+\n",
      "|codigo_ibge|latitude|longitude|inside_polygon|\n",
      "+-----------+--------+---------+--------------+\n",
      "+-----------+--------+---------+--------------+\n",
      "\n"
     ]
    },
    {
     "data": {
      "text/plain": [
       "21.466993808746338"
      ]
     },
     "execution_count": 5,
     "metadata": {},
     "output_type": "execute_result"
    }
   ],
   "source": [
    "query = \"\"\"\n",
    "SELECT\n",
    "    codigo_ibge,\n",
    "    latitude,\n",
    "    longitude,\n",
    "    is_point_in_polygon(latitude, longitude) AS inside_polygon\n",
    "\n",
    "FROM delta.`/home/jovyan/app/data/silver/silver_distribuida_uf`\n",
    "\n",
    "WHERE is_point_in_polygon(latitude, longitude) = True\n",
    "\"\"\"\n",
    "\n",
    "tempo_delta_3 = get_time_delta(query, \"/home/jovyan/app/data/gold/delta/query_3\")\n",
    "tempo_delta_3"
   ]
  },
  {
   "cell_type": "markdown",
   "metadata": {},
   "source": [
    "## Consulta 4\n",
    "Calcule quantas propriedades foram cadastradas por ano. Apresente os resultados em ordem cronológica."
   ]
  },
  {
   "cell_type": "code",
   "execution_count": 6,
   "metadata": {},
   "outputs": [
    {
     "name": "stdout",
     "output_type": "stream",
     "text": [
      "+-------------+-------+\n",
      "|ano_inscricao|qnt_ano|\n",
      "+-------------+-------+\n",
      "|         NULL|     12|\n",
      "|         2013|    743|\n",
      "|         2014| 227468|\n",
      "|         2015|1240176|\n",
      "|         2016|1828786|\n",
      "|         2017| 794777|\n",
      "|         2018| 724856|\n",
      "|         2019| 746570|\n",
      "|         2020| 463322|\n",
      "|         2021| 443942|\n",
      "|         2022| 368448|\n",
      "+-------------+-------+\n",
      "\n"
     ]
    },
    {
     "data": {
      "text/plain": [
       "14.781372547149658"
      ]
     },
     "execution_count": 6,
     "metadata": {},
     "output_type": "execute_result"
    }
   ],
   "source": [
    "query = \"\"\"\n",
    "SELECT\n",
    "   YEAR(data_inscricao) AS ano_inscricao,\n",
    "   COUNT(*) AS qnt_ano\n",
    "\n",
    "FROM delta.`/home/jovyan/app/data/silver/silver_distribuida_uf`\n",
    "\n",
    "GROUP BY ano_inscricao\n",
    "\n",
    "ORDER BY ano_inscricao\n",
    "\"\"\"\n",
    "\n",
    "tempo_delta_4 = get_time_delta(query, \"/home/jovyan/app/data/gold/delta/query_4\")\n",
    "tempo_delta_4"
   ]
  },
  {
   "cell_type": "markdown",
   "metadata": {},
   "source": [
    "## Consulta 5\n",
    "Calcule o percentual médio de área remanescente de vegetação nativa em comparação a área total da propriedade"
   ]
  },
  {
   "cell_type": "code",
   "execution_count": 7,
   "metadata": {},
   "outputs": [
    {
     "name": "stdout",
     "output_type": "stream",
     "text": [
      "+-----------+--------------+----------------------------------+----------------------+\n",
      "|codigo_ibge|area_do_imovel|area_remanescente_vegetacao_nativa|percentual_area_nativa|\n",
      "+-----------+--------------+----------------------------------+----------------------+\n",
      "|    3524709|        2.1643|                        0.16377169|                  7.57|\n",
      "|    3507605|        1.4262|                               0.0|                  0.00|\n",
      "|    3550605|        0.8601|                         0.5189845|                 60.34|\n",
      "|    3541802|       46.5078|                               0.0|                  0.00|\n",
      "|    3528809|       58.1119|                         0.7498494|                  1.29|\n",
      "|    3510401|        1.1288|                        0.04275784|                  3.79|\n",
      "|    3556701|        2.3052|                               0.0|                  0.00|\n",
      "|    3537107|       229.792|                          69.41208|                 30.21|\n",
      "|    3500303|        7.2557|                        0.23072062|                  3.18|\n",
      "|    3533007|       62.2775|                         5.7625394|                  9.25|\n",
      "|    3500303|        6.0498|                               0.0|                  0.00|\n",
      "|    3542404|        2.8394|                               0.0|                  0.00|\n",
      "|    3517406|        3.2989|                               0.0|                  0.00|\n",
      "|    3527900|      161.5143|                         34.830036|                 21.56|\n",
      "|    3527702|       49.8749|                               0.0|                  0.00|\n",
      "|    3530607|       19.4419|                               0.0|                  0.00|\n",
      "|    3535804|       61.6544|                         2.7833776|                  4.51|\n",
      "|    3521705|       46.4189|                               0.0|                  0.00|\n",
      "|    3505906|       51.0718|                          7.246237|                 14.19|\n",
      "|    3511102|       24.6956|                               0.0|                  0.00|\n",
      "+-----------+--------------+----------------------------------+----------------------+\n",
      "only showing top 20 rows\n",
      "\n"
     ]
    },
    {
     "data": {
      "text/plain": [
       "25.969940662384033"
      ]
     },
     "execution_count": 7,
     "metadata": {},
     "output_type": "execute_result"
    }
   ],
   "source": [
    "query = \"\"\"\n",
    "SELECT\n",
    "   codigo_ibge,\n",
    "   area_do_imovel,\n",
    "   area_remanescente_vegetacao_nativa,\n",
    "   FORMAT_NUMBER(area_remanescente_vegetacao_nativa / area_do_imovel * 100, 2) as percentual_area_nativa\n",
    "\n",
    "FROM delta.`/home/jovyan/app/data/silver/silver_distribuida_uf`\n",
    "\"\"\"\n",
    "\n",
    "tempo_delta_5 = get_time_delta(query, \"/home/jovyan/app/data/gold/delta/query_5\")\n",
    "tempo_delta_5"
   ]
  },
  {
   "cell_type": "markdown",
   "metadata": {},
   "source": [
    "## Consulta 6\n",
    "Construa uma consulta que mostre a contagem de propriedades rurais por estado."
   ]
  },
  {
   "cell_type": "markdown",
   "metadata": {},
   "source": [
    "* AST – Assentamentos\n",
    "* CAR – Cadastro Ambiental Rural\n",
    "* CCU – Contrato de Concessão de Uso\n",
    "* CDRU – Concessão de Direito Real de Uso\n",
    "* DD – Diretoria de Desenvolvimento\n",
    "* IRU – Imóveis Rurais\n",
    "* MLC – Módulo Lote CAR\n",
    "* PA – Projeto de Assentamento\n",
    "* PCT – Povos e Comunidades Tradicionais\n",
    "* PRA – Programa de Regularização Ambiental\n",
    "* PNRA – Programa Nacional de Reforma Agrária\n",
    "* SICAR – Sistema de Cadastro Ambiental Rural\n",
    "* SR – Superintendência Regional\n",
    "* TCMS – Termo de Compromisso de Manutenção de Sigilo\n",
    "* TD – Título Definitivo\n",
    "* TED – Termo de Execução Descentralizada\n",
    "* URL – Uniform Resource Locator"
   ]
  },
  {
   "cell_type": "code",
   "execution_count": 10,
   "metadata": {},
   "outputs": [
    {
     "name": "stdout",
     "output_type": "stream",
     "text": [
      "+-----------------+\n",
      "|tipo_imovel_rural|\n",
      "+-----------------+\n",
      "|              AST|\n",
      "|              IRU|\n",
      "|              PCT|\n",
      "+-----------------+\n",
      "\n"
     ]
    }
   ],
   "source": [
    "query = \"\"\"\n",
    "SELECT\n",
    "DISTINCT tipo_imovel_rural\n",
    "                    \n",
    "FROM delta.`/home/jovyan/app/data/silver/silver_distribuida_uf`\n",
    "\"\"\"\n",
    "\n",
    "spark.sql(query).show()"
   ]
  },
  {
   "cell_type": "code",
   "execution_count": 11,
   "metadata": {},
   "outputs": [
    {
     "name": "stdout",
     "output_type": "stream",
     "text": [
      "+---+----------------+\n",
      "| uf|count_prop_rural|\n",
      "+---+----------------+\n",
      "| BA|         1011503|\n",
      "| MG|          988921|\n",
      "| RS|          606013|\n",
      "| PR|          495650|\n",
      "| SP|          406885|\n",
      "| SC|          374768|\n",
      "| PE|          338392|\n",
      "| CE|          314168|\n",
      "| PA|          278097|\n",
      "| MA|          272010|\n",
      "| PI|          254577|\n",
      "| GO|          198524|\n",
      "| PB|          170484|\n",
      "| MT|          169775|\n",
      "| RO|          147099|\n",
      "| AL|          113222|\n",
      "| ES|          108848|\n",
      "| SE|           94203|\n",
      "| RN|           88788|\n",
      "| TO|           84990|\n",
      "+---+----------------+\n",
      "only showing top 20 rows\n",
      "\n"
     ]
    },
    {
     "data": {
      "text/plain": [
       "11.769421815872192"
      ]
     },
     "execution_count": 11,
     "metadata": {},
     "output_type": "execute_result"
    }
   ],
   "source": [
    "query = \"\"\"\n",
    "SELECT\n",
    "    uf,\n",
    "    COUNT(tipo_imovel_rural) AS count_prop_rural\n",
    "\n",
    "FROM delta.`/home/jovyan/app/data/silver/silver_distribuida_uf`\n",
    "\n",
    "WHERE tipo_imovel_rural = 'IRU'\n",
    "\n",
    "GROUP BY uf\n",
    "\n",
    "ORDER BY count_prop_rural DESC\n",
    "\"\"\"\n",
    "\n",
    "tempo_delta_6 = get_time_delta(query, \"/home/jovyan/app/data/gold/delta/query_6\")\n",
    "tempo_delta_6"
   ]
  },
  {
   "cell_type": "markdown",
   "metadata": {},
   "source": [
    "## Consulta 7\n",
    "Veja qual é a maior propriedade entre todas e calcule a distância entre ela e Brasília. Utilize a coordenada de centródide da propriedade para calcular a distância entre ela e Brasília. Coordenadas de Brasília: -15.796943053171708, -47.891638482569476"
   ]
  },
  {
   "cell_type": "code",
   "execution_count": 24,
   "metadata": {},
   "outputs": [
    {
     "name": "stdout",
     "output_type": "stream",
     "text": [
      "+---------+---------+---------+------------------+\n",
      "| max_area| latitude|longitude|distancia_brasilia|\n",
      "+---------+---------+---------+------------------+\n",
      "|2420078.8|-5.475619|-68.88819|          2,596.98|\n",
      "+---------+---------+---------+------------------+\n",
      "\n"
     ]
    },
    {
     "data": {
      "text/plain": [
       "10.904946327209473"
      ]
     },
     "execution_count": 24,
     "metadata": {},
     "output_type": "execute_result"
    }
   ],
   "source": [
    "query = \"\"\"\n",
    "SELECT\n",
    "    max_area,\n",
    "    latitude,\n",
    "    longitude,\n",
    "    FORMAT_NUMBER(\n",
    "        SQRT(\n",
    "            POWER(latitude - (-15.796943053171708), 2) + \n",
    "            POWER(longitude - (-47.891638482569476), 2) \n",
    "            )* 111, 2\n",
    "        )  AS distancia_brasilia\n",
    "\n",
    "FROM (\n",
    "\n",
    "    SELECT \n",
    "        latitude, \n",
    "        longitude, \n",
    "        area_do_imovel AS max_area\n",
    "\n",
    "    FROM delta.`/home/jovyan/app/data/silver/silver_distribuida_uf`\n",
    "\n",
    "    ORDER BY area_do_imovel DESC\n",
    "\n",
    "    LIMIT 1\n",
    ")\n",
    "\"\"\"\n",
    "\n",
    "tempo_delta_7 = get_time_delta(query, \"/home/jovyan/app/data/gold/delta/query_7\")\n",
    "tempo_delta_7"
   ]
  },
  {
   "cell_type": "markdown",
   "metadata": {},
   "source": [
    "## Consulta 8\n",
    "Faça a média de área entre todas as propriedades. Calcule quantas propriedades por estado, estão acima da média."
   ]
  },
  {
   "cell_type": "code",
   "execution_count": 12,
   "metadata": {},
   "outputs": [
    {
     "name": "stdout",
     "output_type": "stream",
     "text": [
      "+---+-----------+\n",
      "| uf|acima_media|\n",
      "+---+-----------+\n",
      "| MG|    4659636|\n",
      "| PA|    3040492|\n",
      "| MT|    2423798|\n",
      "| BA|    2301168|\n",
      "| GO|    1991271|\n",
      "| SP|    1942999|\n",
      "| RS|    1930717|\n",
      "| PR|    1668279|\n",
      "| MA|    1628578|\n",
      "| RO|    1337519|\n",
      "| PI|    1263794|\n",
      "| CE|    1043851|\n",
      "| TO|     979080|\n",
      "| MS|     957729|\n",
      "| AM|     732345|\n",
      "| SC|     729461|\n",
      "| PE|     661795|\n",
      "| AC|     492997|\n",
      "| ES|     395320|\n",
      "| PB|     385550|\n",
      "+---+-----------+\n",
      "only showing top 20 rows\n",
      "\n"
     ]
    },
    {
     "data": {
      "text/plain": [
       "19.08970046043396"
      ]
     },
     "execution_count": 12,
     "metadata": {},
     "output_type": "execute_result"
    }
   ],
   "source": [
    "query = \"\"\"\n",
    "WITH \n",
    "    avg_calc AS (\n",
    "        SELECT\n",
    "            AVG(area_do_imovel) AS avg_area\n",
    "\n",
    "        FROM delta.`/home/jovyan/app/data/silver/silver_distribuida_uf`\n",
    "\n",
    "        GROUP BY uf\n",
    "        ), \n",
    "\n",
    "    filtro_estado AS (\n",
    "        SELECT\n",
    "            uf,\n",
    "            area_do_imovel\n",
    "\n",
    "        FROM delta.`/home/jovyan/app/data/silver/silver_distribuida_uf`, avg_calc\n",
    "\n",
    "        WHERE area_do_imovel > avg_calc.avg_area\n",
    ")\n",
    "\n",
    "SELECT\n",
    "    uf,\n",
    "    COUNT(*) AS acima_media\n",
    "\n",
    "FROM filtro_estado\n",
    "\n",
    "GROUP BY uf\n",
    "\n",
    "ORDER BY acima_media DESC\n",
    "\n",
    "\"\"\"\n",
    "\n",
    "tempo_delta_8 = get_time_delta(query, \"/home/jovyan/app/data/gold/delta/query_8\")\n",
    "tempo_delta_8"
   ]
  },
  {
   "cell_type": "markdown",
   "metadata": {},
   "source": [
    "## Tempo Total Delta Tables"
   ]
  },
  {
   "cell_type": "code",
   "execution_count": 25,
   "metadata": {},
   "outputs": [
    {
     "data": {
      "text/plain": [
       "141.6745183467865"
      ]
     },
     "execution_count": 25,
     "metadata": {},
     "output_type": "execute_result"
    }
   ],
   "source": [
    "total_delta = tempo_delta_1 + tempo_delta_2 + tempo_delta_3 + tempo_delta_4 + tempo_delta_5 + tempo_delta_6 + tempo_delta_7 + tempo_delta_8\n",
    "total_delta"
   ]
  },
  {
   "cell_type": "markdown",
   "metadata": {},
   "source": [
    "# Querys a partir da Hive Metastore"
   ]
  },
  {
   "cell_type": "markdown",
   "metadata": {},
   "source": [
    "## Salvando Gold (Distribuída)"
   ]
  },
  {
   "cell_type": "code",
   "execution_count": 17,
   "metadata": {},
   "outputs": [
    {
     "data": {
      "text/plain": [
       "DataFrame[]"
      ]
     },
     "execution_count": 17,
     "metadata": {},
     "output_type": "execute_result"
    }
   ],
   "source": [
    "spark.sql(\"CREATE SCHEMA IF NOT EXISTS gold_from_delta\")"
   ]
  },
  {
   "cell_type": "code",
   "execution_count": 19,
   "metadata": {},
   "outputs": [],
   "source": [
    "df_test = spark.read.format(\"delta\").load(\"/home/jovyan/app/data/silver/silver_distribuida_uf\")\n",
    "\n",
    "df_test.write.partitionBy(\"uf\").saveAsTable(\"gold_from_delta.gold_distribuida_uf\")"
   ]
  },
  {
   "cell_type": "markdown",
   "metadata": {},
   "source": [
    "## Funções e Definições"
   ]
  },
  {
   "cell_type": "code",
   "execution_count": 28,
   "metadata": {},
   "outputs": [],
   "source": [
    "def get_time_hive(query, table_name):\n",
    "    start_time = time.time()\n",
    "\n",
    "    table = spark.sql(query)\n",
    "\n",
    "    (table.write.mode(\"overwrite\")\n",
    "                .saveAsTable(f\"gold_from_delta.{table_name}\"))\n",
    "    \n",
    "    spark.sql(f\"\"\"SELECT * FROM gold_from_delta.{table_name}\"\"\").show()\n",
    "\n",
    "    end_time = time.time()\n",
    "\n",
    "    tempo_query = end_time - start_time\n",
    "\n",
    "    return tempo_query"
   ]
  },
  {
   "cell_type": "markdown",
   "metadata": {},
   "source": [
    "## Consulta 1\n",
    "\n",
    "Recupere a soma de área (em hectares) para todas as propriedades agrícolas que pertencem ao MS e MT. Ordene os resultados em ordem decrescente."
   ]
  },
  {
   "cell_type": "code",
   "execution_count": 29,
   "metadata": {},
   "outputs": [
    {
     "name": "stdout",
     "output_type": "stream",
     "text": [
      "+---+------------------+\n",
      "| uf|soma_area_hectares|\n",
      "+---+------------------+\n",
      "| MT|    84,587,089.218|\n",
      "| MS|    36,321,882.660|\n",
      "+---+------------------+\n",
      "\n"
     ]
    },
    {
     "data": {
      "text/plain": [
       "1.3467965126037598"
      ]
     },
     "execution_count": 29,
     "metadata": {},
     "output_type": "execute_result"
    }
   ],
   "source": [
    "query = \"\"\"\n",
    "SELECT \n",
    "   uf,\n",
    "   FORMAT_NUMBER(SUM(area_do_imovel), 3) as soma_area_hectares\n",
    "\n",
    "FROM gold_from_delta.gold_distribuida_uf\n",
    "\n",
    "WHERE uf IN ('MS', 'MT')\n",
    "\n",
    "GROUP BY uf\n",
    "\n",
    "ORDER BY soma_area_hectares DESC\n",
    "\n",
    "\"\"\"\n",
    "\n",
    "tempo_hive_1 = get_time_hive(query, \"query_1\")\n",
    "tempo_hive_1"
   ]
  },
  {
   "cell_type": "markdown",
   "metadata": {},
   "source": [
    "## Consulta 2\n",
    "Filtre todas as propriedades que pertecem a região sudeste. "
   ]
  },
  {
   "cell_type": "code",
   "execution_count": 33,
   "metadata": {},
   "outputs": [
    {
     "name": "stdout",
     "output_type": "stream",
     "text": [
      "+---+-----------+\n",
      "| uf|codigo_ibge|\n",
      "+---+-----------+\n",
      "| SC|    4212205|\n",
      "| SC|    4201273|\n",
      "| SC|    4207809|\n",
      "| SC|    4214300|\n",
      "| SC|    4212106|\n",
      "| SC|    4202800|\n",
      "| SC|    4212502|\n",
      "| SC|    4208609|\n",
      "| SC|    4204103|\n",
      "| SC|    4208401|\n",
      "| SC|    4203808|\n",
      "| SC|    4203006|\n",
      "| SC|    4216255|\n",
      "| SC|    4213708|\n",
      "| SC|    4210704|\n",
      "| SC|    4209300|\n",
      "| SC|    4217006|\n",
      "| SC|    4202131|\n",
      "| SC|    4211652|\n",
      "| SC|    4204194|\n",
      "+---+-----------+\n",
      "only showing top 20 rows\n",
      "\n"
     ]
    },
    {
     "data": {
      "text/plain": [
       "5.564049243927002"
      ]
     },
     "execution_count": 33,
     "metadata": {},
     "output_type": "execute_result"
    }
   ],
   "source": [
    "query = \"\"\"\n",
    "SELECT\n",
    "   uf,\n",
    "   codigo_ibge\n",
    "\n",
    "FROM gold_from_delta.gold_distribuida_uf\n",
    "\n",
    "\"\"\"\n",
    "\n",
    "tempo_hive_2 = get_time_hive(query, \"query_2\")\n",
    "tempo_hive_2"
   ]
  },
  {
   "cell_type": "markdown",
   "metadata": {},
   "source": [
    "## Consulta 3\n",
    "Recupere todas as propriedades rurais que estão localizadas dentro de uma área geográfica específica delimitada por um polígono. Este polígono é descrito pelas seguintes coordenadas: POLYGON ((-53.5325072 -19.4632582, -51.0495971 -19.1625841, -51.3734501 -16.1924262, -53.8181518 -16.4010783, -53.5325072 -19.4632582))\n",
    "Verificar se um centroide está dentro dos pontos informados (ou mais)."
   ]
  },
  {
   "cell_type": "code",
   "execution_count": 34,
   "metadata": {},
   "outputs": [
    {
     "name": "stdout",
     "output_type": "stream",
     "text": [
      "+-----------+--------+---------+--------------+\n",
      "|codigo_ibge|latitude|longitude|inside_polygon|\n",
      "+-----------+--------+---------+--------------+\n",
      "+-----------+--------+---------+--------------+\n",
      "\n"
     ]
    },
    {
     "data": {
      "text/plain": [
       "13.390249013900757"
      ]
     },
     "execution_count": 34,
     "metadata": {},
     "output_type": "execute_result"
    }
   ],
   "source": [
    "query = \"\"\"\n",
    "SELECT\n",
    "    codigo_ibge,\n",
    "    latitude,\n",
    "    longitude,\n",
    "    is_point_in_polygon(latitude, longitude) AS inside_polygon\n",
    "\n",
    "FROM gold_from_delta.gold_distribuida_uf\n",
    "\n",
    "WHERE is_point_in_polygon(latitude, longitude) = True\n",
    "\"\"\"\n",
    "\n",
    "tempo_hive_3 = get_time_hive(query, \"query_3\")\n",
    "tempo_hive_3"
   ]
  },
  {
   "cell_type": "markdown",
   "metadata": {},
   "source": [
    "## Consulta 4\n",
    "Calcule quantas propriedades foram cadastradas por ano. Apresente os resultados em ordem cronológica."
   ]
  },
  {
   "cell_type": "code",
   "execution_count": 35,
   "metadata": {},
   "outputs": [
    {
     "name": "stdout",
     "output_type": "stream",
     "text": [
      "+-------------+-------+\n",
      "|ano_inscricao|qnt_ano|\n",
      "+-------------+-------+\n",
      "|         NULL|     12|\n",
      "|         2013|    743|\n",
      "|         2014| 227468|\n",
      "|         2015|1240176|\n",
      "|         2016|1828786|\n",
      "|         2017| 794777|\n",
      "|         2018| 724856|\n",
      "|         2019| 746570|\n",
      "|         2020| 463322|\n",
      "|         2021| 443942|\n",
      "|         2022| 368448|\n",
      "+-------------+-------+\n",
      "\n"
     ]
    },
    {
     "data": {
      "text/plain": [
       "2.9008851051330566"
      ]
     },
     "execution_count": 35,
     "metadata": {},
     "output_type": "execute_result"
    }
   ],
   "source": [
    "query = \"\"\"\n",
    "SELECT\n",
    "   YEAR(data_inscricao) AS ano_inscricao,\n",
    "   COUNT(*) AS qnt_ano\n",
    "\n",
    "FROM gold_from_delta.gold_distribuida_uf\n",
    "\n",
    "GROUP BY ano_inscricao\n",
    "\n",
    "ORDER BY ano_inscricao\n",
    "\"\"\"\n",
    "\n",
    "tempo_hive_4 = get_time_hive(query, \"query_4\")\n",
    "tempo_hive_4"
   ]
  },
  {
   "cell_type": "markdown",
   "metadata": {},
   "source": [
    "## Consulta 5\n",
    "Calcule o percentual médio de área remanescente de vegetação nativa em comparação a área total da propriedade"
   ]
  },
  {
   "cell_type": "code",
   "execution_count": 36,
   "metadata": {},
   "outputs": [
    {
     "name": "stdout",
     "output_type": "stream",
     "text": [
      "+-----------+--------------+----------------------------------+----------------------+\n",
      "|codigo_ibge|area_do_imovel|area_remanescente_vegetacao_nativa|percentual_area_nativa|\n",
      "+-----------+--------------+----------------------------------+----------------------+\n",
      "|    4212205|       28.0898|                               0.0|                  0.00|\n",
      "|    4201273|        5.0051|                               0.0|                  0.00|\n",
      "|    4207809|     2306.3633|                          1770.341|                 76.76|\n",
      "|    4214300|      101.7228|                          35.28556|                 34.69|\n",
      "|    4212106|       12.9867|                         3.1989775|                 24.63|\n",
      "|    4202800|       22.1912|                          2.443931|                 11.01|\n",
      "|    4212502|        3.3022|                         1.2982384|                 39.31|\n",
      "|    4208609|         4.846|                         1.7747418|                 36.62|\n",
      "|    4204103|       24.8799|                       0.103927635|                  0.42|\n",
      "|    4208401|        0.9151|                               0.0|                  0.00|\n",
      "|    4203808|        3.5315|                               0.0|                  0.00|\n",
      "|    4203006|        2.4546|                               0.0|                  0.00|\n",
      "|    4216255|       13.1293|                               0.0|                  0.00|\n",
      "|    4213708|        3.2013|                               0.0|                  0.00|\n",
      "|    4210704|        6.0344|                         1.2067319|                 20.00|\n",
      "|    4209300|       12.3814|                               0.0|                  0.00|\n",
      "|    4217006|       15.8039|                          5.194622|                 32.87|\n",
      "|    4202131|        4.4304|                         1.6237642|                 36.65|\n",
      "|    4211652|       35.5769|                               0.0|                  0.00|\n",
      "|    4204194|       11.1699|                         5.2959833|                 47.41|\n",
      "+-----------+--------------+----------------------------------+----------------------+\n",
      "only showing top 20 rows\n",
      "\n"
     ]
    },
    {
     "data": {
      "text/plain": [
       "7.592971086502075"
      ]
     },
     "execution_count": 36,
     "metadata": {},
     "output_type": "execute_result"
    }
   ],
   "source": [
    "query = \"\"\"\n",
    "SELECT\n",
    "   codigo_ibge,\n",
    "   area_do_imovel,\n",
    "   area_remanescente_vegetacao_nativa,\n",
    "   FORMAT_NUMBER(area_remanescente_vegetacao_nativa / area_do_imovel * 100, 2) as percentual_area_nativa\n",
    "\n",
    "FROM gold_from_delta.gold_distribuida_uf\n",
    "\"\"\"\n",
    "\n",
    "tempo_hive_5 = get_time_hive(query, \"query_5\")\n",
    "tempo_hive_5"
   ]
  },
  {
   "cell_type": "markdown",
   "metadata": {},
   "source": [
    "## Consulta 6\n",
    "Construa uma consulta que mostre a contagem de propriedades rurais por estado."
   ]
  },
  {
   "cell_type": "code",
   "execution_count": 37,
   "metadata": {},
   "outputs": [
    {
     "name": "stdout",
     "output_type": "stream",
     "text": [
      "+---+----------------+\n",
      "| uf|count_prop_rural|\n",
      "+---+----------------+\n",
      "| BA|         1011503|\n",
      "| MG|          988921|\n",
      "| RS|          606013|\n",
      "| PR|          495650|\n",
      "| SP|          406885|\n",
      "| SC|          374768|\n",
      "| PE|          338392|\n",
      "| CE|          314168|\n",
      "| PA|          278097|\n",
      "| MA|          272010|\n",
      "| PI|          254577|\n",
      "| GO|          198524|\n",
      "| PB|          170484|\n",
      "| MT|          169775|\n",
      "| RO|          147099|\n",
      "| AL|          113222|\n",
      "| ES|          108848|\n",
      "| SE|           94203|\n",
      "| RN|           88788|\n",
      "| TO|           84990|\n",
      "+---+----------------+\n",
      "only showing top 20 rows\n",
      "\n"
     ]
    },
    {
     "data": {
      "text/plain": [
       "2.4305200576782227"
      ]
     },
     "execution_count": 37,
     "metadata": {},
     "output_type": "execute_result"
    }
   ],
   "source": [
    "query = \"\"\"\n",
    "SELECT\n",
    "    uf,\n",
    "    COUNT(tipo_imovel_rural) AS count_prop_rural\n",
    "\n",
    "FROM gold_from_delta.gold_distribuida_uf\n",
    "\n",
    "WHERE tipo_imovel_rural = 'IRU'\n",
    "\n",
    "GROUP BY uf\n",
    "\n",
    "ORDER BY count_prop_rural DESC\n",
    "\"\"\"\n",
    "\n",
    "tempo_hive_6 = get_time_hive(query, \"query_6\")\n",
    "tempo_hive_6"
   ]
  },
  {
   "cell_type": "markdown",
   "metadata": {},
   "source": [
    "## Consulta 7\n",
    "Veja qual é a maior propriedade entre todas e calcule a distância entre ela e Brasília. Utilize a coordenada de centródide da propriedade para calcular a distância entre ela e Brasília. Coordenadas de Brasília: -15.796943053171708, -47.891638482569476"
   ]
  },
  {
   "cell_type": "code",
   "execution_count": 38,
   "metadata": {},
   "outputs": [
    {
     "name": "stdout",
     "output_type": "stream",
     "text": [
      "+---------+---------+---------+------------------+\n",
      "| max_area| latitude|longitude|distancia_brasilia|\n",
      "+---------+---------+---------+------------------+\n",
      "|2420078.8|-5.475619|-68.88819|          2,596.98|\n",
      "+---------+---------+---------+------------------+\n",
      "\n"
     ]
    },
    {
     "data": {
      "text/plain": [
       "2.6913340091705322"
      ]
     },
     "execution_count": 38,
     "metadata": {},
     "output_type": "execute_result"
    }
   ],
   "source": [
    "query = \"\"\"\n",
    "SELECT\n",
    "    max_area,\n",
    "    latitude,\n",
    "    longitude,\n",
    "    FORMAT_NUMBER(\n",
    "        SQRT(\n",
    "            POWER(latitude - (-15.796943053171708), 2) + \n",
    "            POWER(longitude - (-47.891638482569476), 2) \n",
    "            )* 111, 2\n",
    "        )  AS distancia_brasilia\n",
    "\n",
    "FROM (\n",
    "\n",
    "    SELECT \n",
    "        latitude, \n",
    "        longitude, \n",
    "        area_do_imovel AS max_area\n",
    "\n",
    "    FROM gold_from_delta.gold_distribuida_uf\n",
    "\n",
    "    ORDER BY area_do_imovel DESC\n",
    "\n",
    "    LIMIT 1\n",
    ")\n",
    "\"\"\"\n",
    "\n",
    "tempo_hive_7 = get_time_hive(query, \"query_7\")\n",
    "tempo_hive_7"
   ]
  },
  {
   "cell_type": "markdown",
   "metadata": {},
   "source": [
    "## Consulta 8\n",
    "Faça a média de área entre todas as propriedades. Calcule quantas propriedades por estado, estão acima da média."
   ]
  },
  {
   "cell_type": "code",
   "execution_count": 39,
   "metadata": {},
   "outputs": [
    {
     "name": "stdout",
     "output_type": "stream",
     "text": [
      "+---+-----------+\n",
      "| uf|acima_media|\n",
      "+---+-----------+\n",
      "| MG|    4659636|\n",
      "| PA|    3040492|\n",
      "| MT|    2423798|\n",
      "| BA|    2301168|\n",
      "| GO|    1991271|\n",
      "| SP|    1942999|\n",
      "| RS|    1930717|\n",
      "| PR|    1668279|\n",
      "| MA|    1628578|\n",
      "| RO|    1337519|\n",
      "| PI|    1263794|\n",
      "| CE|    1043851|\n",
      "| TO|     979080|\n",
      "| MS|     957729|\n",
      "| AM|     732345|\n",
      "| SC|     729461|\n",
      "| PE|     661795|\n",
      "| AC|     492997|\n",
      "| ES|     395320|\n",
      "| PB|     385550|\n",
      "+---+-----------+\n",
      "only showing top 20 rows\n",
      "\n"
     ]
    },
    {
     "data": {
      "text/plain": [
       "4.643881559371948"
      ]
     },
     "execution_count": 39,
     "metadata": {},
     "output_type": "execute_result"
    }
   ],
   "source": [
    "query = \"\"\"\n",
    "WITH \n",
    "    avg_calc AS (\n",
    "        SELECT\n",
    "            AVG(area_do_imovel) AS avg_area\n",
    "\n",
    "        FROM gold_from_delta.gold_distribuida_uf\n",
    "\n",
    "        GROUP BY uf\n",
    "        ), \n",
    "\n",
    "    filtro_estado AS (\n",
    "        SELECT\n",
    "            uf,\n",
    "            area_do_imovel\n",
    "\n",
    "        FROM gold_from_delta.gold_distribuida_uf, avg_calc\n",
    "\n",
    "        WHERE area_do_imovel > avg_calc.avg_area\n",
    ")\n",
    "\n",
    "SELECT\n",
    "    uf,\n",
    "    COUNT(*) AS acima_media\n",
    "\n",
    "FROM filtro_estado\n",
    "\n",
    "GROUP BY uf\n",
    "\n",
    "ORDER BY acima_media DESC\n",
    "\n",
    "\"\"\"\n",
    "\n",
    "tempo_hive_8 = get_time_hive(query, \"query_8\")\n",
    "tempo_hive_8"
   ]
  },
  {
   "cell_type": "markdown",
   "metadata": {},
   "source": [
    "## Tempo Total Hive Metastore"
   ]
  },
  {
   "cell_type": "code",
   "execution_count": 40,
   "metadata": {},
   "outputs": [
    {
     "data": {
      "text/plain": [
       "40.56068658828735"
      ]
     },
     "execution_count": 40,
     "metadata": {},
     "output_type": "execute_result"
    }
   ],
   "source": [
    "total_hive = tempo_hive_1 + tempo_hive_2 + tempo_hive_3 + tempo_hive_4 + tempo_hive_5 + tempo_hive_6 + tempo_hive_7 + tempo_hive_8\n",
    "total_hive"
   ]
  },
  {
   "cell_type": "code",
   "execution_count": 41,
   "metadata": {},
   "outputs": [
    {
     "name": "stdout",
     "output_type": "stream",
     "text": [
      "+---------------+\n",
      "|      namespace|\n",
      "+---------------+\n",
      "|        default|\n",
      "|gold_from_delta|\n",
      "+---------------+\n",
      "\n"
     ]
    }
   ],
   "source": [
    "spark.sql(\"SHOW SCHEMAS\").show()"
   ]
  },
  {
   "cell_type": "code",
   "execution_count": 42,
   "metadata": {},
   "outputs": [
    {
     "name": "stdout",
     "output_type": "stream",
     "text": [
      "+---------------+-------------------+-----------+\n",
      "|      namespace|          tableName|isTemporary|\n",
      "+---------------+-------------------+-----------+\n",
      "|gold_from_delta|gold_distribuida_uf|      false|\n",
      "|gold_from_delta|            query_1|      false|\n",
      "|gold_from_delta|            query_2|      false|\n",
      "|gold_from_delta|            query_3|      false|\n",
      "|gold_from_delta|            query_4|      false|\n",
      "|gold_from_delta|            query_5|      false|\n",
      "|gold_from_delta|            query_6|      false|\n",
      "|gold_from_delta|            query_7|      false|\n",
      "|gold_from_delta|            query_8|      false|\n",
      "+---------------+-------------------+-----------+\n",
      "\n"
     ]
    }
   ],
   "source": [
    "spark.sql(\"SHOW TABLES IN gold_from_delta\").show()"
   ]
  },
  {
   "cell_type": "markdown",
   "metadata": {},
   "source": [
    "# Querys a partir de Banco Centralizado (Professor)"
   ]
  },
  {
   "cell_type": "code",
   "execution_count": null,
   "metadata": {},
   "outputs": [],
   "source": [
    "spark_mysql = (SparkSession.builder\n",
    "               .getOrCreate())"
   ]
  }
 ],
 "metadata": {
  "kernelspec": {
   "display_name": "Python 3 (ipykernel)",
   "language": "python",
   "name": "python3"
  },
  "language_info": {
   "codemirror_mode": {
    "name": "ipython",
    "version": 3
   },
   "file_extension": ".py",
   "mimetype": "text/x-python",
   "name": "python",
   "nbconvert_exporter": "python",
   "pygments_lexer": "ipython3",
   "version": "3.11.6"
  }
 },
 "nbformat": 4,
 "nbformat_minor": 4
}

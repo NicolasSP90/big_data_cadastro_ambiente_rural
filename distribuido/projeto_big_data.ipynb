{
 "cells": [
  {
   "cell_type": "markdown",
   "metadata": {},
   "source": [
    "# Iniciando Sessão Spark"
   ]
  },
  {
   "cell_type": "code",
   "execution_count": 1,
   "metadata": {},
   "outputs": [
    {
     "name": "stdout",
     "output_type": "stream",
     "text": [
      "3.5.0\n"
     ]
    }
   ],
   "source": [
    "from pyspark.sql import SparkSession\n",
    "\n",
    "# Iniciar a sessão Spark com a configuração do Delta Lake\n",
    "spark = (SparkSession.builder\n",
    "    .appName(\"DeltaLake\")\n",
    "    .config(\"spark.sql.extensions\", \"io.delta.sql.DeltaSparkSessionExtension\")  # Extensão do Delta\n",
    "    .config(\"spark.sql.catalog.spark_catalog\", \"org.apache.spark.sql.delta.catalog.DeltaCatalog\")  # Catálogo do Delta\n",
    "    .config(\"spark.jars\", \"/usr/local/spark/jars/delta-spark_2.12-3.0.0.jar,/usr/local/spark/jars/delta-storage-3.0.0.jar\")  # Caminho dos JARs no Docker\n",
    "    .config(\"spark.sql.warehouse.dir\", \"/home/jovyan/app/data/gold/hive_warehouse/gold_from_delta.db\")\n",
    "    .enableHiveSupport()\n",
    "    .getOrCreate()) # Se utilizar as limitações de hardware pelo spark, mover para o final\n",
    "#    .config(\"spark.executor.cores\", \"2\")  # Limitar o número de núcleos por executor\n",
    "#    .config(\"spark.driver.cores\", \"1\")    # Limitar o número de núcleos para o driver\n",
    "#    .config(\"spark.executor.memory\", \"4g\")\n",
    "#    .config(\"spark.driver.memory\", \"4g\")\n",
    "#    .config(\"spark.memory.fraction\", \"0.3\")  # Ajuste para controlar a fração de memória usada pelo Spark\n",
    "#    .config(\"spark.memory.storageFraction\", \"0.2\")  # Fração da memória usada para armazenar dados persistentes\"\"\"\n",
    "\n",
    "from pyspark.sql.functions import *\n",
    "from pyspark.sql.types import *\n",
    "from pyspark.sql.functions import udf\n",
    "\n",
    "import time\n",
    "\n",
    "# Verificar se a sessão Spark foi criada com sucesso\n",
    "print(spark.version)"
   ]
  },
  {
   "cell_type": "markdown",
   "metadata": {},
   "source": [
    "# Importando CSV"
   ]
  },
  {
   "cell_type": "code",
   "execution_count": null,
   "metadata": {},
   "outputs": [],
   "source": [
    "df_test = spark.read.csv(\"/home/jovyan/app/data/raw/temas_ambientais.csv\", sep=\";\", header=True)\n",
    "df_test.show()"
   ]
  },
  {
   "cell_type": "markdown",
   "metadata": {},
   "source": [
    "# Salvando Bronze (Distribuída)"
   ]
  },
  {
   "cell_type": "code",
   "execution_count": null,
   "metadata": {},
   "outputs": [],
   "source": [
    "df_test = df_test.dropDuplicates()"
   ]
  },
  {
   "cell_type": "code",
   "execution_count": null,
   "metadata": {},
   "outputs": [],
   "source": [
    "df_test.write.mode(\"overwrite\").format(\"delta\").save(\"/home/jovyan/app/data/bronze/bronze_distribuida\")"
   ]
  },
  {
   "cell_type": "markdown",
   "metadata": {},
   "source": [
    "# Limpeza e Salvando Silver (Distribuída)"
   ]
  },
  {
   "cell_type": "code",
   "execution_count": null,
   "metadata": {},
   "outputs": [],
   "source": [
    "df_test = spark.read.format(\"delta\").load(\"/home/jovyan/app/data/bronze/bronze_distribuida\")\n",
    "df_test.show(10)"
   ]
  },
  {
   "cell_type": "code",
   "execution_count": null,
   "metadata": {},
   "outputs": [],
   "source": [
    "# Criar uma lista com o nome das colunas e o número de nulos em cada uma\n",
    "null_counts_1 = df_test.select([sum(col(c).isNull().cast(\"int\")).alias(c) for c in df_test.columns]).first().asDict()\n",
    "\n",
    "# Exibir o resultado\n",
    "null_counts_1"
   ]
  },
  {
   "cell_type": "code",
   "execution_count": null,
   "metadata": {},
   "outputs": [],
   "source": [
    "df_test.printSchema()"
   ]
  },
  {
   "cell_type": "code",
   "execution_count": null,
   "metadata": {},
   "outputs": [],
   "source": [
    "int_columns = [\"codigo_ibge\"]\n",
    "float_columns = [\"area_do_imovel\", \"area_liquida\", \"area_remanescente_vegetacao_nativa\", \n",
    "                 \"area_reserva_legal_proposta\", \"area_preservacao_permanente\", \"area_nao_classificada\",\n",
    "                 \"latitude\", \"longitude\", \"area_rural_consolidada\", \"area_servidao_administrativa\",\n",
    "                 \"modulos_fiscais\", \"area_uso_restrito\", \"area_reserva_legal_averbada\",\n",
    "                 \"area_reserva_legal_aprovada_nao_averbada\", \"area_pousio\"]\n",
    "bool_columns = [\"solicitacao_adesao_pra\"]\n",
    "date_columns = [\"data_inscricao\", \"data_alteracao_condicao_cadastro\", \"data_ultima_retificacao\"]\n",
    "text_column = [x for x in df_test.columns if x not in int_columns+float_columns+bool_columns+date_columns]"
   ]
  },
  {
   "cell_type": "code",
   "execution_count": null,
   "metadata": {},
   "outputs": [],
   "source": [
    "# Dados Para Integer\n",
    "df_test = df_test.withColumn(\"codigo_ibge\", col(\"codigo_ibge\").cast(IntegerType()))\n",
    "\n",
    "# Dados Para Float\n",
    "for i in float_columns:\n",
    "    df_test = df_test.withColumn(i, col(i).cast(FloatType()))\n",
    "\n",
    "# Dados para Bool\n",
    "df_test = df_test.withColumn(\"solicitacao_adesao_pra\", \n",
    "                             when(col(\"solicitacao_adesao_pra\") == \"Sim\", True).\n",
    "                             when(col(\"solicitacao_adesao_pra\") == \"Nao\", False).\n",
    "                             otherwise(None))\n",
    "\n",
    "# Dados para Date\n",
    "for i in date_columns:\n",
    "    df_test = df_test.withColumn(i, to_timestamp(regexp_replace(col(i), r\"\\.\\d+$\", \"\"), \"yyyy-MM-dd HH:mm:ss\"))\n",
    "\n",
    "df_test.printSchema()"
   ]
  },
  {
   "cell_type": "code",
   "execution_count": null,
   "metadata": {},
   "outputs": [],
   "source": [
    "# Criar uma lista com o nome das colunas e o número de nulos em cada uma\n",
    "null_counts_2 = df_test.select([sum(col(c).isNull().cast(\"int\")).alias(c) for c in df_test.columns]).first().asDict()\n",
    "\n",
    "# Exibir o resultado\n",
    "null_counts_2"
   ]
  },
  {
   "cell_type": "code",
   "execution_count": null,
   "metadata": {},
   "outputs": [],
   "source": [
    "if null_counts_1 == null_counts_2:\n",
    "    print(\"Os valores de nulos são os mesmos em ambas as versões.\")\n",
    "else:\n",
    "    print(\"Há diferenças nos valores de nulos.\")\n",
    "    # Mostrar as diferenças\n",
    "    for coluna in null_counts_1.keys():\n",
    "        if null_counts_1[coluna] != null_counts_2[coluna]:\n",
    "            print(f\"Coluna '{coluna}': null_counts_1 = {null_counts_1[coluna]}, null_counts_2 = {null_counts_2[coluna]}\")"
   ]
  },
  {
   "cell_type": "markdown",
   "metadata": {},
   "source": [
    "# Salvando Silver (Distribuída - Por Estado)"
   ]
  },
  {
   "cell_type": "code",
   "execution_count": null,
   "metadata": {},
   "outputs": [],
   "source": [
    "(df_test.write.mode(\"overwrite\")\n",
    "              .format(\"delta\")\n",
    "              .partitionBy(\"uf\")\n",
    "              .save(\"/home/jovyan/app/data/silver/silver_distribuida_uf\"))"
   ]
  },
  {
   "cell_type": "markdown",
   "metadata": {},
   "source": [
    "# Querys a partir das Delta Tables"
   ]
  },
  {
   "cell_type": "markdown",
   "metadata": {},
   "source": [
    "## Funções e Definições"
   ]
  },
  {
   "cell_type": "code",
   "execution_count": 2,
   "metadata": {},
   "outputs": [
    {
     "data": {
      "text/plain": [
       "<pyspark.sql.udf.UserDefinedFunction at 0x7fb5b86b3850>"
      ]
     },
     "execution_count": 2,
     "metadata": {},
     "output_type": "execute_result"
    }
   ],
   "source": [
    "def get_time_delta(query, path):\n",
    "    start_time = time.time()\n",
    "\n",
    "    table = spark.sql(query)\n",
    "\n",
    "    end_time = time.time()\n",
    "\n",
    "    (table.write.mode(\"overwrite\")\n",
    "                .format(\"delta\")\n",
    "                .save(path))\n",
    "    \n",
    "    spark.sql(f\"\"\"SELECT * FROM delta.`{path}`\"\"\").show()\n",
    "\n",
    "    tempo_query = end_time - start_time\n",
    "\n",
    "    return tempo_query\n",
    "\n",
    "def is_point_in_path(x: float, y: float, poly: list[tuple[float, float]]) -> bool:\n",
    "    \"\"\"Determine if the point is on the path, corner, or boundary of the polygon\n",
    "\n",
    "    Args:\n",
    "    x -- The x coordinates of point.\n",
    "    y -- The y coordinates of point.\n",
    "    poly -- a list of tuples [(x, y), (x, y), ...]\n",
    "\n",
    "    Returns:\n",
    "        True if the point is in the path or is a corner or on the boundary\"\"\"\n",
    "    \n",
    "    c = False\n",
    "\n",
    "    for i in range(len(poly)):\n",
    "        ax, ay = poly[i]\n",
    "        bx, by = poly[i - 1]\n",
    "        if (x == ax) and (y == ay):\n",
    "            # point is a corner\n",
    "            return True\n",
    "        if (ay > y) != (by > y):\n",
    "            slope = (x - ax) * (by - ay) - (bx - ax) * (y - ay)\n",
    "            if slope == 0:\n",
    "                # point is on boundary\n",
    "                return True\n",
    "            if (slope < 0) != (by < ay):\n",
    "                c = not c\n",
    "\n",
    "    return c\n",
    "\n",
    "# Registrar a UDF no Spark\n",
    "poly = [(-53.5325072, -19.4632582), (-51.0495971, -19.1625841), (-51.3734501, -16.1924262), (-53.8181518, -16.4010783), (-53.5325072, -19.4632582)]\n",
    "\n",
    "is_point_in_polygon_udf = udf(lambda x, y: is_point_in_path(x, y, poly), BooleanType())\n",
    "\n",
    "spark.udf.register(\"is_point_in_polygon\", is_point_in_polygon_udf)"
   ]
  },
  {
   "cell_type": "markdown",
   "metadata": {},
   "source": [
    "## Consulta 1\n",
    "\n",
    "Recupere a soma de área (em hectares) para todas as propriedades agrícolas que pertencem ao MS e MT. Ordene os resultados em ordem decrescente."
   ]
  },
  {
   "cell_type": "code",
   "execution_count": 3,
   "metadata": {},
   "outputs": [
    {
     "name": "stdout",
     "output_type": "stream",
     "text": [
      "+---+------------------+\n",
      "| uf|soma_area_hectares|\n",
      "+---+------------------+\n",
      "| MT|    84,587,089.218|\n",
      "| MS|    36,321,882.660|\n",
      "+---+------------------+\n",
      "\n"
     ]
    },
    {
     "data": {
      "text/plain": [
       "9.684890270233154"
      ]
     },
     "execution_count": 3,
     "metadata": {},
     "output_type": "execute_result"
    }
   ],
   "source": [
    "query = \"\"\"\n",
    "SELECT \n",
    "   uf,\n",
    "   FORMAT_NUMBER(SUM(area_do_imovel), 3) as soma_area_hectares\n",
    "FROM delta.`/home/jovyan/app/data/silver/silver_distribuida_uf`\n",
    "\n",
    "WHERE uf IN ('MS', 'MT')\n",
    "\n",
    "GROUP BY uf\n",
    "\n",
    "ORDER BY soma_area_hectares DESC\n",
    "\n",
    "\"\"\"\n",
    "\n",
    "tempo_delta_1 = get_time_delta(query, \"/home/jovyan/app/data/gold/delta/query_1\")\n",
    "tempo_delta_1"
   ]
  },
  {
   "cell_type": "markdown",
   "metadata": {},
   "source": [
    "## Consulta 2\n",
    "Filtre todas as propriedades que pertecem a região sudeste. "
   ]
  },
  {
   "cell_type": "code",
   "execution_count": 4,
   "metadata": {},
   "outputs": [
    {
     "name": "stdout",
     "output_type": "stream",
     "text": [
      "+---+-----------+\n",
      "| uf|codigo_ibge|\n",
      "+---+-----------+\n",
      "| PB|    2514008|\n",
      "| PB|    2512408|\n",
      "| PB|    2514107|\n",
      "| PB|    2509701|\n",
      "| PB|    2502003|\n",
      "| PB|    2511400|\n",
      "| PB|    2510105|\n",
      "| PB|    2503605|\n",
      "| PB|    2507903|\n",
      "| PB|    2511400|\n",
      "| PB|    2513604|\n",
      "| PB|    2515906|\n",
      "| PB|    2506707|\n",
      "| PB|    2511400|\n",
      "| PB|    2510659|\n",
      "| PB|    2516755|\n",
      "| PB|    2507705|\n",
      "| PB|    2501609|\n",
      "| PB|    2510006|\n",
      "| PB|    2511905|\n",
      "+---+-----------+\n",
      "only showing top 20 rows\n",
      "\n"
     ]
    },
    {
     "data": {
      "text/plain": [
       "0.06244778633117676"
      ]
     },
     "execution_count": 4,
     "metadata": {},
     "output_type": "execute_result"
    }
   ],
   "source": [
    "query = \"\"\"\n",
    "SELECT\n",
    "   uf,\n",
    "   codigo_ibge\n",
    "\n",
    "FROM delta.`/home/jovyan/app/data/silver/silver_distribuida_uf`\n",
    "\n",
    "\"\"\"\n",
    "\n",
    "tempo_delta_2 = get_time_delta(query, \"/home/jovyan/app/data/gold/delta/query_2\")\n",
    "tempo_delta_2"
   ]
  },
  {
   "cell_type": "markdown",
   "metadata": {},
   "source": [
    "## Consulta 3\n",
    "Recupere todas as propriedades rurais que estão localizadas dentro de uma área geográfica específica delimitada por um polígono. Este polígono é descrito pelas seguintes coordenadas: POLYGON ((-53.5325072 -19.4632582, -51.0495971 -19.1625841, -51.3734501 -16.1924262, -53.8181518 -16.4010783, -53.5325072 -19.4632582))\n",
    "Verificar se um centroide está dentro dos pontos informados (ou mais)."
   ]
  },
  {
   "cell_type": "code",
   "execution_count": 5,
   "metadata": {},
   "outputs": [
    {
     "name": "stdout",
     "output_type": "stream",
     "text": [
      "+-----------+--------+---------+--------------+\n",
      "|codigo_ibge|latitude|longitude|inside_polygon|\n",
      "+-----------+--------+---------+--------------+\n",
      "+-----------+--------+---------+--------------+\n",
      "\n"
     ]
    },
    {
     "data": {
      "text/plain": [
       "0.07390379905700684"
      ]
     },
     "execution_count": 5,
     "metadata": {},
     "output_type": "execute_result"
    }
   ],
   "source": [
    "query = \"\"\"\n",
    "SELECT\n",
    "    codigo_ibge,\n",
    "    latitude,\n",
    "    longitude,\n",
    "    is_point_in_polygon(latitude, longitude) AS inside_polygon\n",
    "\n",
    "FROM delta.`/home/jovyan/app/data/silver/silver_distribuida_uf`\n",
    "\n",
    "WHERE is_point_in_polygon(latitude, longitude) = True\n",
    "\"\"\"\n",
    "\n",
    "tempo_delta_3 = get_time_delta(query, \"/home/jovyan/app/data/gold/delta/query_3\")\n",
    "tempo_delta_3"
   ]
  },
  {
   "cell_type": "markdown",
   "metadata": {},
   "source": [
    "## Consulta 4\n",
    "Calcule quantas propriedades foram cadastradas por ano. Apresente os resultados em ordem cronológica."
   ]
  },
  {
   "cell_type": "code",
   "execution_count": 6,
   "metadata": {},
   "outputs": [
    {
     "name": "stdout",
     "output_type": "stream",
     "text": [
      "+-------------+-------+\n",
      "|ano_inscricao|qnt_ano|\n",
      "+-------------+-------+\n",
      "|         NULL|     12|\n",
      "|         2013|    743|\n",
      "|         2014| 227468|\n",
      "|         2015|1240176|\n",
      "|         2016|1828786|\n",
      "|         2017| 794777|\n",
      "|         2018| 724856|\n",
      "|         2019| 746570|\n",
      "|         2020| 463322|\n",
      "|         2021| 443942|\n",
      "|         2022| 368448|\n",
      "+-------------+-------+\n",
      "\n"
     ]
    },
    {
     "data": {
      "text/plain": [
       "0.07050156593322754"
      ]
     },
     "execution_count": 6,
     "metadata": {},
     "output_type": "execute_result"
    }
   ],
   "source": [
    "query = \"\"\"\n",
    "SELECT\n",
    "   YEAR(data_inscricao) AS ano_inscricao,\n",
    "   COUNT(*) AS qnt_ano\n",
    "\n",
    "FROM delta.`/home/jovyan/app/data/silver/silver_distribuida_uf`\n",
    "\n",
    "GROUP BY ano_inscricao\n",
    "\n",
    "ORDER BY ano_inscricao\n",
    "\"\"\"\n",
    "\n",
    "tempo_delta_4 = get_time_delta(query, \"/home/jovyan/app/data/gold/delta/query_4\")\n",
    "tempo_delta_4"
   ]
  },
  {
   "cell_type": "markdown",
   "metadata": {},
   "source": [
    "## Consulta 5\n",
    "Calcule o percentual médio de área remanescente de vegetação nativa em comparação a área total da propriedade"
   ]
  },
  {
   "cell_type": "code",
   "execution_count": 7,
   "metadata": {},
   "outputs": [
    {
     "name": "stdout",
     "output_type": "stream",
     "text": [
      "+-----------+--------------+----------------------------------+----------------------+\n",
      "|codigo_ibge|area_do_imovel|area_remanescente_vegetacao_nativa|percentual_area_nativa|\n",
      "+-----------+--------------+----------------------------------+----------------------+\n",
      "|    2931400|        0.2827|                               0.0|                  0.00|\n",
      "|    2917359|        48.179|                           47.1282|                 97.82|\n",
      "|    2902104|         1.581|                               0.0|                  0.00|\n",
      "|    2900702|        9.9957|                               0.0|                  0.00|\n",
      "|    2910776|       48.2983|                           30.9848|                 64.15|\n",
      "|    2930907|       85.2115|                            5.8017|                  6.81|\n",
      "|    2904605|       16.0861|                               0.0|                  0.00|\n",
      "|    2903607|        5.9669|                               0.0|                  0.00|\n",
      "|    2910305|        1.2534|                               0.0|                  0.00|\n",
      "|    2918209|        0.5826|                             0.194|                 33.30|\n",
      "|    2906105|       13.7453|                            7.4509|                 54.21|\n",
      "|    2926509|        5.9698|                               0.0|                  0.00|\n",
      "|    2916302|      103.9084|                               0.0|                  0.00|\n",
      "|    2917508|        0.2929|                               0.0|                  0.00|\n",
      "|    2916401|       777.848|                           79.6763|                 10.24|\n",
      "|    2917409|           0.2|                               0.0|                  0.00|\n",
      "|    2911105|        0.4247|                               0.0|                  0.00|\n",
      "|    2923605|        1.6292|                               0.0|                  0.00|\n",
      "|    2904209|        9.3191|                            2.0029|                 21.49|\n",
      "|    2909703|        8.0551|                            1.7077|                 21.20|\n",
      "+-----------+--------------+----------------------------------+----------------------+\n",
      "only showing top 20 rows\n",
      "\n"
     ]
    },
    {
     "data": {
      "text/plain": [
       "0.07050728797912598"
      ]
     },
     "execution_count": 7,
     "metadata": {},
     "output_type": "execute_result"
    }
   ],
   "source": [
    "query = \"\"\"\n",
    "SELECT\n",
    "   codigo_ibge,\n",
    "   area_do_imovel,\n",
    "   area_remanescente_vegetacao_nativa,\n",
    "   FORMAT_NUMBER(area_remanescente_vegetacao_nativa / area_do_imovel * 100, 2) as percentual_area_nativa\n",
    "\n",
    "FROM delta.`/home/jovyan/app/data/silver/silver_distribuida_uf`\n",
    "\"\"\"\n",
    "\n",
    "tempo_delta_5 = get_time_delta(query, \"/home/jovyan/app/data/gold/delta/query_5\")\n",
    "tempo_delta_5"
   ]
  },
  {
   "cell_type": "markdown",
   "metadata": {},
   "source": [
    "## Consulta 6\n",
    "Construa uma consulta que mostre a contagem de propriedades rurais por estado."
   ]
  },
  {
   "cell_type": "markdown",
   "metadata": {},
   "source": [
    "* AST – Assentamentos\n",
    "* CAR – Cadastro Ambiental Rural\n",
    "* CCU – Contrato de Concessão de Uso\n",
    "* CDRU – Concessão de Direito Real de Uso\n",
    "* DD – Diretoria de Desenvolvimento\n",
    "* IRU – Imóveis Rurais\n",
    "* MLC – Módulo Lote CAR\n",
    "* PA – Projeto de Assentamento\n",
    "* PCT – Povos e Comunidades Tradicionais\n",
    "* PRA – Programa de Regularização Ambiental\n",
    "* PNRA – Programa Nacional de Reforma Agrária\n",
    "* SICAR – Sistema de Cadastro Ambiental Rural\n",
    "* SR – Superintendência Regional\n",
    "* TCMS – Termo de Compromisso de Manutenção de Sigilo\n",
    "* TD – Título Definitivo\n",
    "* TED – Termo de Execução Descentralizada\n",
    "* URL – Uniform Resource Locator"
   ]
  },
  {
   "cell_type": "code",
   "execution_count": 8,
   "metadata": {},
   "outputs": [
    {
     "name": "stdout",
     "output_type": "stream",
     "text": [
      "+-----------------+\n",
      "|tipo_imovel_rural|\n",
      "+-----------------+\n",
      "|              AST|\n",
      "|              IRU|\n",
      "|              PCT|\n",
      "+-----------------+\n",
      "\n"
     ]
    }
   ],
   "source": [
    "query = \"\"\"\n",
    "SELECT\n",
    "DISTINCT tipo_imovel_rural\n",
    "                    \n",
    "FROM delta.`/home/jovyan/app/data/silver/silver_distribuida_uf`\n",
    "\"\"\"\n",
    "\n",
    "spark.sql(query).show()"
   ]
  },
  {
   "cell_type": "code",
   "execution_count": 9,
   "metadata": {},
   "outputs": [
    {
     "name": "stdout",
     "output_type": "stream",
     "text": [
      "+---+----------------+\n",
      "| uf|count_prop_rural|\n",
      "+---+----------------+\n",
      "| BA|         1011503|\n",
      "| MG|          988921|\n",
      "| RS|          606013|\n",
      "| PR|          495650|\n",
      "| SP|          406885|\n",
      "| SC|          374768|\n",
      "| PE|          338392|\n",
      "| CE|          314168|\n",
      "| PA|          278097|\n",
      "| MA|          272010|\n",
      "| PI|          254577|\n",
      "| GO|          198524|\n",
      "| PB|          170484|\n",
      "| MT|          169775|\n",
      "| RO|          147099|\n",
      "| AL|          113222|\n",
      "| ES|          108848|\n",
      "| SE|           94203|\n",
      "| RN|           88788|\n",
      "| TO|           84990|\n",
      "+---+----------------+\n",
      "only showing top 20 rows\n",
      "\n"
     ]
    },
    {
     "data": {
      "text/plain": [
       "0.053200721740722656"
      ]
     },
     "execution_count": 9,
     "metadata": {},
     "output_type": "execute_result"
    }
   ],
   "source": [
    "query = \"\"\"\n",
    "SELECT\n",
    "    uf,\n",
    "    COUNT(tipo_imovel_rural) AS count_prop_rural\n",
    "\n",
    "FROM delta.`/home/jovyan/app/data/silver/silver_distribuida_uf`\n",
    "\n",
    "WHERE tipo_imovel_rural = 'IRU'\n",
    "\n",
    "GROUP BY uf\n",
    "\n",
    "ORDER BY count_prop_rural DESC\n",
    "\"\"\"\n",
    "\n",
    "tempo_delta_6 = get_time_delta(query, \"/home/jovyan/app/data/gold/delta/query_6\")\n",
    "tempo_delta_6"
   ]
  },
  {
   "cell_type": "markdown",
   "metadata": {},
   "source": [
    "## Consulta 7\n",
    "Veja qual é a maior propriedade entre todas e calcule a distância entre ela e Brasília. Utilize a coordenada de centródide da propriedade para calcular a distância entre ela e Brasília. Coordenadas de Brasília: -15.796943053171708, -47.891638482569476"
   ]
  },
  {
   "cell_type": "code",
   "execution_count": 10,
   "metadata": {},
   "outputs": [
    {
     "name": "stdout",
     "output_type": "stream",
     "text": [
      "+---------+---------+---------+------------------+\n",
      "| max_area| latitude|longitude|distancia_brasilia|\n",
      "+---------+---------+---------+------------------+\n",
      "|2420078.8|-5.475619|-68.88819|          2,596.98|\n",
      "+---------+---------+---------+------------------+\n",
      "\n"
     ]
    },
    {
     "data": {
      "text/plain": [
       "0.08759307861328125"
      ]
     },
     "execution_count": 10,
     "metadata": {},
     "output_type": "execute_result"
    }
   ],
   "source": [
    "query = \"\"\"\n",
    "SELECT\n",
    "    max_area,\n",
    "    latitude,\n",
    "    longitude,\n",
    "    FORMAT_NUMBER(\n",
    "        SQRT(\n",
    "            POWER(latitude - (-15.796943053171708), 2) + \n",
    "            POWER(longitude - (-47.891638482569476), 2) \n",
    "            )* 111, 2\n",
    "        )  AS distancia_brasilia\n",
    "\n",
    "FROM (\n",
    "\n",
    "    SELECT \n",
    "        latitude, \n",
    "        longitude, \n",
    "        area_do_imovel AS max_area\n",
    "\n",
    "    FROM delta.`/home/jovyan/app/data/silver/silver_distribuida_uf`\n",
    "\n",
    "    ORDER BY area_do_imovel DESC\n",
    "\n",
    "    LIMIT 1\n",
    ")\n",
    "\"\"\"\n",
    "\n",
    "tempo_delta_7 = get_time_delta(query, \"/home/jovyan/app/data/gold/delta/query_7\")\n",
    "tempo_delta_7"
   ]
  },
  {
   "cell_type": "markdown",
   "metadata": {},
   "source": [
    "## Consulta 8\n",
    "Faça a média de área entre todas as propriedades. Calcule quantas propriedades por estado, estão acima da média."
   ]
  },
  {
   "cell_type": "code",
   "execution_count": 11,
   "metadata": {},
   "outputs": [
    {
     "name": "stdout",
     "output_type": "stream",
     "text": [
      "+---+-----------+\n",
      "| uf|acima_media|\n",
      "+---+-----------+\n",
      "| MG|    4659636|\n",
      "| PA|    3040492|\n",
      "| MT|    2423798|\n",
      "| BA|    2301168|\n",
      "| GO|    1991271|\n",
      "| SP|    1942999|\n",
      "| RS|    1930717|\n",
      "| PR|    1668279|\n",
      "| MA|    1628578|\n",
      "| RO|    1337519|\n",
      "| PI|    1263794|\n",
      "| CE|    1043851|\n",
      "| TO|     979080|\n",
      "| MS|     957729|\n",
      "| AM|     732345|\n",
      "| SC|     729461|\n",
      "| PE|     661795|\n",
      "| AC|     492997|\n",
      "| ES|     395320|\n",
      "| PB|     385550|\n",
      "+---+-----------+\n",
      "only showing top 20 rows\n",
      "\n"
     ]
    },
    {
     "data": {
      "text/plain": [
       "0.11788749694824219"
      ]
     },
     "execution_count": 11,
     "metadata": {},
     "output_type": "execute_result"
    }
   ],
   "source": [
    "query = \"\"\"\n",
    "WITH \n",
    "    avg_calc AS (\n",
    "        SELECT\n",
    "            AVG(area_do_imovel) AS avg_area\n",
    "\n",
    "        FROM delta.`/home/jovyan/app/data/silver/silver_distribuida_uf`\n",
    "\n",
    "        GROUP BY uf\n",
    "        ), \n",
    "\n",
    "    filtro_estado AS (\n",
    "        SELECT\n",
    "            uf,\n",
    "            area_do_imovel\n",
    "\n",
    "        FROM delta.`/home/jovyan/app/data/silver/silver_distribuida_uf`, avg_calc\n",
    "\n",
    "        WHERE area_do_imovel > avg_calc.avg_area\n",
    ")\n",
    "\n",
    "SELECT\n",
    "    uf,\n",
    "    COUNT(*) AS acima_media\n",
    "\n",
    "FROM filtro_estado\n",
    "\n",
    "GROUP BY uf\n",
    "\n",
    "ORDER BY acima_media DESC\n",
    "\n",
    "\"\"\"\n",
    "\n",
    "tempo_delta_8 = get_time_delta(query, \"/home/jovyan/app/data/gold/delta/query_8\")\n",
    "tempo_delta_8"
   ]
  },
  {
   "cell_type": "markdown",
   "metadata": {},
   "source": [
    "## Tempo Total Delta Tables"
   ]
  },
  {
   "cell_type": "code",
   "execution_count": 12,
   "metadata": {},
   "outputs": [
    {
     "data": {
      "text/plain": [
       "10.220932006835938"
      ]
     },
     "execution_count": 12,
     "metadata": {},
     "output_type": "execute_result"
    }
   ],
   "source": [
    "total_delta = tempo_delta_1 + tempo_delta_2 + tempo_delta_3 + tempo_delta_4 + tempo_delta_5 + tempo_delta_6 + tempo_delta_7 + tempo_delta_8\n",
    "total_delta"
   ]
  },
  {
   "cell_type": "markdown",
   "metadata": {},
   "source": [
    "# Querys a partir da Hive Metastore"
   ]
  },
  {
   "cell_type": "markdown",
   "metadata": {},
   "source": [
    "## Salvando Gold (Distribuída)"
   ]
  },
  {
   "cell_type": "code",
   "execution_count": 13,
   "metadata": {},
   "outputs": [
    {
     "data": {
      "text/plain": [
       "DataFrame[]"
      ]
     },
     "execution_count": 13,
     "metadata": {},
     "output_type": "execute_result"
    }
   ],
   "source": [
    "spark.sql(\"CREATE SCHEMA IF NOT EXISTS gold_from_delta\")"
   ]
  },
  {
   "cell_type": "code",
   "execution_count": 14,
   "metadata": {},
   "outputs": [],
   "source": [
    "df_test = spark.read.format(\"delta\").load(\"/home/jovyan/app/data/silver/silver_distribuida_uf\")\n",
    "\n",
    "df_test.write.format(\"delta\").option(\"overwriteSchema\", \"true\").mode(\"overwrite\").partitionBy(\"uf\").saveAsTable(\"gold_from_delta.gold_distribuida_uf\")"
   ]
  },
  {
   "cell_type": "markdown",
   "metadata": {},
   "source": [
    "## Funções e Definições"
   ]
  },
  {
   "cell_type": "code",
   "execution_count": 15,
   "metadata": {},
   "outputs": [],
   "source": [
    "def get_time_hive(query, table_name):\n",
    "    start_time = time.time()\n",
    "\n",
    "    table = spark.sql(query)\n",
    "\n",
    "    end_time = time.time()\n",
    "\n",
    "    (table.write.format(\"delta\")\n",
    "                .mode(\"overwrite\")\n",
    "                .saveAsTable(f\"gold_from_delta.{table_name}\"))\n",
    "    \n",
    "    spark.sql(f\"\"\"SELECT * FROM gold_from_delta.{table_name}\"\"\").show()\n",
    "\n",
    "    tempo_query = end_time - start_time\n",
    "\n",
    "    return tempo_query"
   ]
  },
  {
   "cell_type": "markdown",
   "metadata": {},
   "source": [
    "## Consulta 1\n",
    "\n",
    "Recupere a soma de área (em hectares) para todas as propriedades agrícolas que pertencem ao MS e MT. Ordene os resultados em ordem decrescente."
   ]
  },
  {
   "cell_type": "code",
   "execution_count": 16,
   "metadata": {},
   "outputs": [
    {
     "name": "stdout",
     "output_type": "stream",
     "text": [
      "+---+------------------+\n",
      "| uf|soma_area_hectares|\n",
      "+---+------------------+\n",
      "| MT|    84,587,089.218|\n",
      "| MS|    36,321,882.660|\n",
      "+---+------------------+\n",
      "\n"
     ]
    },
    {
     "data": {
      "text/plain": [
       "0.10805630683898926"
      ]
     },
     "execution_count": 16,
     "metadata": {},
     "output_type": "execute_result"
    }
   ],
   "source": [
    "query = \"\"\"\n",
    "SELECT \n",
    "   uf,\n",
    "   FORMAT_NUMBER(SUM(area_do_imovel), 3) as soma_area_hectares\n",
    "\n",
    "FROM gold_from_delta.gold_distribuida_uf\n",
    "\n",
    "WHERE uf IN ('MS', 'MT')\n",
    "\n",
    "GROUP BY uf\n",
    "\n",
    "ORDER BY soma_area_hectares DESC\n",
    "\n",
    "\"\"\"\n",
    "\n",
    "tempo_hive_1 = get_time_hive(query, \"query_1\")\n",
    "tempo_hive_1"
   ]
  },
  {
   "cell_type": "markdown",
   "metadata": {},
   "source": [
    "## Consulta 2\n",
    "Filtre todas as propriedades que pertecem a região sudeste. "
   ]
  },
  {
   "cell_type": "code",
   "execution_count": 17,
   "metadata": {},
   "outputs": [
    {
     "name": "stdout",
     "output_type": "stream",
     "text": [
      "+---+-----------+\n",
      "| uf|codigo_ibge|\n",
      "+---+-----------+\n",
      "| RR|    1400100|\n",
      "| RR|    1400209|\n",
      "| RR|    1400472|\n",
      "| RR|    1400209|\n",
      "| RR|    1400472|\n",
      "| RR|    1400472|\n",
      "| RR|    1400472|\n",
      "| RR|    1400209|\n",
      "| RR|    1400100|\n",
      "| RR|    1400175|\n",
      "| RR|    1400308|\n",
      "| RR|    1400605|\n",
      "| RR|    1400175|\n",
      "| RR|    1400282|\n",
      "| RR|    1400209|\n",
      "| RR|    1400282|\n",
      "| RR|    1400209|\n",
      "| RR|    1400506|\n",
      "| RR|    1400209|\n",
      "| RR|    1400506|\n",
      "+---+-----------+\n",
      "only showing top 20 rows\n",
      "\n"
     ]
    },
    {
     "data": {
      "text/plain": [
       "0.09836697578430176"
      ]
     },
     "execution_count": 17,
     "metadata": {},
     "output_type": "execute_result"
    }
   ],
   "source": [
    "query = \"\"\"\n",
    "SELECT\n",
    "   uf,\n",
    "   codigo_ibge\n",
    "\n",
    "FROM gold_from_delta.gold_distribuida_uf\n",
    "\n",
    "\"\"\"\n",
    "\n",
    "tempo_hive_2 = get_time_hive(query, \"query_2\")\n",
    "tempo_hive_2"
   ]
  },
  {
   "cell_type": "markdown",
   "metadata": {},
   "source": [
    "## Consulta 3\n",
    "Recupere todas as propriedades rurais que estão localizadas dentro de uma área geográfica específica delimitada por um polígono. Este polígono é descrito pelas seguintes coordenadas: POLYGON ((-53.5325072 -19.4632582, -51.0495971 -19.1625841, -51.3734501 -16.1924262, -53.8181518 -16.4010783, -53.5325072 -19.4632582))\n",
    "Verificar se um centroide está dentro dos pontos informados (ou mais)."
   ]
  },
  {
   "cell_type": "code",
   "execution_count": 18,
   "metadata": {},
   "outputs": [
    {
     "name": "stdout",
     "output_type": "stream",
     "text": [
      "+-----------+--------+---------+--------------+\n",
      "|codigo_ibge|latitude|longitude|inside_polygon|\n",
      "+-----------+--------+---------+--------------+\n",
      "+-----------+--------+---------+--------------+\n",
      "\n"
     ]
    },
    {
     "data": {
      "text/plain": [
       "0.09427809715270996"
      ]
     },
     "execution_count": 18,
     "metadata": {},
     "output_type": "execute_result"
    }
   ],
   "source": [
    "query = \"\"\"\n",
    "SELECT\n",
    "    codigo_ibge,\n",
    "    latitude,\n",
    "    longitude,\n",
    "    is_point_in_polygon(latitude, longitude) AS inside_polygon\n",
    "\n",
    "FROM gold_from_delta.gold_distribuida_uf\n",
    "\n",
    "WHERE is_point_in_polygon(latitude, longitude) = True\n",
    "\"\"\"\n",
    "\n",
    "tempo_hive_3 = get_time_hive(query, \"query_3\")\n",
    "tempo_hive_3"
   ]
  },
  {
   "cell_type": "markdown",
   "metadata": {},
   "source": [
    "## Consulta 4\n",
    "Calcule quantas propriedades foram cadastradas por ano. Apresente os resultados em ordem cronológica."
   ]
  },
  {
   "cell_type": "code",
   "execution_count": 19,
   "metadata": {},
   "outputs": [
    {
     "name": "stdout",
     "output_type": "stream",
     "text": [
      "+-------------+-------+\n",
      "|ano_inscricao|qnt_ano|\n",
      "+-------------+-------+\n",
      "|         NULL|     12|\n",
      "|         2013|    743|\n",
      "|         2014| 227468|\n",
      "|         2015|1240176|\n",
      "|         2016|1828786|\n",
      "|         2017| 794777|\n",
      "|         2018| 724856|\n",
      "|         2019| 746570|\n",
      "|         2020| 463322|\n",
      "|         2021| 443942|\n",
      "|         2022| 368448|\n",
      "+-------------+-------+\n",
      "\n"
     ]
    },
    {
     "data": {
      "text/plain": [
       "0.08590245246887207"
      ]
     },
     "execution_count": 19,
     "metadata": {},
     "output_type": "execute_result"
    }
   ],
   "source": [
    "query = \"\"\"\n",
    "SELECT\n",
    "   YEAR(data_inscricao) AS ano_inscricao,\n",
    "   COUNT(*) AS qnt_ano\n",
    "\n",
    "FROM gold_from_delta.gold_distribuida_uf\n",
    "\n",
    "GROUP BY ano_inscricao\n",
    "\n",
    "ORDER BY ano_inscricao\n",
    "\"\"\"\n",
    "\n",
    "tempo_hive_4 = get_time_hive(query, \"query_4\")\n",
    "tempo_hive_4"
   ]
  },
  {
   "cell_type": "markdown",
   "metadata": {},
   "source": [
    "## Consulta 5\n",
    "Calcule o percentual médio de área remanescente de vegetação nativa em comparação a área total da propriedade"
   ]
  },
  {
   "cell_type": "code",
   "execution_count": 20,
   "metadata": {},
   "outputs": [
    {
     "name": "stdout",
     "output_type": "stream",
     "text": [
      "+-----------+--------------+----------------------------------+----------------------+\n",
      "|codigo_ibge|area_do_imovel|area_remanescente_vegetacao_nativa|percentual_area_nativa|\n",
      "+-----------+--------------+----------------------------------+----------------------+\n",
      "|    2907202|        10.639|                               0.0|                  0.00|\n",
      "|    2931905|        0.6496|                               0.0|                  0.00|\n",
      "|    2902104|       92.5162|                               0.0|                  0.00|\n",
      "|    2911303|       13.9253|                               0.0|                  0.00|\n",
      "|    2909505|        15.879|                               0.0|                  0.00|\n",
      "|    2904852|        1.0636|                               0.0|                  0.00|\n",
      "|    2930154|        1.2613|                            0.1888|                 14.97|\n",
      "|    2921500|       18.8363|                           12.0494|                 63.97|\n",
      "|    2909000|       42.5978|                            5.9771|                 14.03|\n",
      "|    2906600|       64.8461|                               0.0|                  0.00|\n",
      "|    2923803|        6.0E-4|                               0.0|                  0.00|\n",
      "|    2919504|        0.2337|                               0.0|                  0.00|\n",
      "|    2917508|        2.6431|                               0.0|                  0.00|\n",
      "|    2916500|        1.7847|                               0.0|                  0.00|\n",
      "|    2900355|        9.0925|                               0.0|                  0.00|\n",
      "|    2922904|        8.7478|                               0.0|                  0.00|\n",
      "|    2910602|        4.0046|                               0.0|                  0.00|\n",
      "|    2903904|        52.761|                               0.0|                  0.00|\n",
      "|    2921203|        2.1912|                               0.0|                  0.00|\n",
      "|    2921708|         3.189|                               0.0|                  0.00|\n",
      "+-----------+--------------+----------------------------------+----------------------+\n",
      "only showing top 20 rows\n",
      "\n"
     ]
    },
    {
     "data": {
      "text/plain": [
       "0.08273434638977051"
      ]
     },
     "execution_count": 20,
     "metadata": {},
     "output_type": "execute_result"
    }
   ],
   "source": [
    "query = \"\"\"\n",
    "SELECT\n",
    "   codigo_ibge,\n",
    "   area_do_imovel,\n",
    "   area_remanescente_vegetacao_nativa,\n",
    "   FORMAT_NUMBER(area_remanescente_vegetacao_nativa / area_do_imovel * 100, 2) as percentual_area_nativa\n",
    "\n",
    "FROM gold_from_delta.gold_distribuida_uf\n",
    "\"\"\"\n",
    "\n",
    "tempo_hive_5 = get_time_hive(query, \"query_5\")\n",
    "tempo_hive_5"
   ]
  },
  {
   "cell_type": "markdown",
   "metadata": {},
   "source": [
    "## Consulta 6\n",
    "Construa uma consulta que mostre a contagem de propriedades rurais por estado."
   ]
  },
  {
   "cell_type": "code",
   "execution_count": 21,
   "metadata": {},
   "outputs": [
    {
     "name": "stdout",
     "output_type": "stream",
     "text": [
      "+---+----------------+\n",
      "| uf|count_prop_rural|\n",
      "+---+----------------+\n",
      "| BA|         1011503|\n",
      "| MG|          988921|\n",
      "| RS|          606013|\n",
      "| PR|          495650|\n",
      "| SP|          406885|\n",
      "| SC|          374768|\n",
      "| PE|          338392|\n",
      "| CE|          314168|\n",
      "| PA|          278097|\n",
      "| MA|          272010|\n",
      "| PI|          254577|\n",
      "| GO|          198524|\n",
      "| PB|          170484|\n",
      "| MT|          169775|\n",
      "| RO|          147099|\n",
      "| AL|          113222|\n",
      "| ES|          108848|\n",
      "| SE|           94203|\n",
      "| RN|           88788|\n",
      "| TO|           84990|\n",
      "+---+----------------+\n",
      "only showing top 20 rows\n",
      "\n"
     ]
    },
    {
     "data": {
      "text/plain": [
       "0.08842158317565918"
      ]
     },
     "execution_count": 21,
     "metadata": {},
     "output_type": "execute_result"
    }
   ],
   "source": [
    "query = \"\"\"\n",
    "SELECT\n",
    "    uf,\n",
    "    COUNT(tipo_imovel_rural) AS count_prop_rural\n",
    "\n",
    "FROM gold_from_delta.gold_distribuida_uf\n",
    "\n",
    "WHERE tipo_imovel_rural = 'IRU'\n",
    "\n",
    "GROUP BY uf\n",
    "\n",
    "ORDER BY count_prop_rural DESC\n",
    "\"\"\"\n",
    "\n",
    "tempo_hive_6 = get_time_hive(query, \"query_6\")\n",
    "tempo_hive_6"
   ]
  },
  {
   "cell_type": "markdown",
   "metadata": {},
   "source": [
    "## Consulta 7\n",
    "Veja qual é a maior propriedade entre todas e calcule a distância entre ela e Brasília. Utilize a coordenada de centródide da propriedade para calcular a distância entre ela e Brasília. Coordenadas de Brasília: -15.796943053171708, -47.891638482569476"
   ]
  },
  {
   "cell_type": "code",
   "execution_count": 22,
   "metadata": {},
   "outputs": [
    {
     "name": "stdout",
     "output_type": "stream",
     "text": [
      "+---------+---------+---------+------------------+\n",
      "| max_area| latitude|longitude|distancia_brasilia|\n",
      "+---------+---------+---------+------------------+\n",
      "|2420078.8|-5.475619|-68.88819|          2,596.98|\n",
      "+---------+---------+---------+------------------+\n",
      "\n"
     ]
    },
    {
     "data": {
      "text/plain": [
       "0.09237504005432129"
      ]
     },
     "execution_count": 22,
     "metadata": {},
     "output_type": "execute_result"
    }
   ],
   "source": [
    "query = \"\"\"\n",
    "SELECT\n",
    "    max_area,\n",
    "    latitude,\n",
    "    longitude,\n",
    "    FORMAT_NUMBER(\n",
    "        SQRT(\n",
    "            POWER(latitude - (-15.796943053171708), 2) + \n",
    "            POWER(longitude - (-47.891638482569476), 2) \n",
    "            )* 111, 2\n",
    "        )  AS distancia_brasilia\n",
    "\n",
    "FROM (\n",
    "\n",
    "    SELECT \n",
    "        latitude, \n",
    "        longitude, \n",
    "        area_do_imovel AS max_area\n",
    "\n",
    "    FROM gold_from_delta.gold_distribuida_uf\n",
    "\n",
    "    ORDER BY area_do_imovel DESC\n",
    "\n",
    "    LIMIT 1\n",
    ")\n",
    "\"\"\"\n",
    "\n",
    "tempo_hive_7 = get_time_hive(query, \"query_7\")\n",
    "tempo_hive_7"
   ]
  },
  {
   "cell_type": "markdown",
   "metadata": {},
   "source": [
    "## Consulta 8\n",
    "Faça a média de área entre todas as propriedades. Calcule quantas propriedades por estado, estão acima da média."
   ]
  },
  {
   "cell_type": "code",
   "execution_count": 23,
   "metadata": {},
   "outputs": [
    {
     "name": "stdout",
     "output_type": "stream",
     "text": [
      "+---+-----------+\n",
      "| uf|acima_media|\n",
      "+---+-----------+\n",
      "| MG|    4659636|\n",
      "| PA|    3040492|\n",
      "| MT|    2423798|\n",
      "| BA|    2301168|\n",
      "| GO|    1991271|\n",
      "| SP|    1942999|\n",
      "| RS|    1930717|\n",
      "| PR|    1668279|\n",
      "| MA|    1628578|\n",
      "| RO|    1337519|\n",
      "| PI|    1263794|\n",
      "| CE|    1043851|\n",
      "| TO|     979080|\n",
      "| MS|     957729|\n",
      "| AM|     732345|\n",
      "| SC|     729461|\n",
      "| PE|     661795|\n",
      "| AC|     492997|\n",
      "| ES|     395320|\n",
      "| PB|     385550|\n",
      "+---+-----------+\n",
      "only showing top 20 rows\n",
      "\n"
     ]
    },
    {
     "data": {
      "text/plain": [
       "0.09636473655700684"
      ]
     },
     "execution_count": 23,
     "metadata": {},
     "output_type": "execute_result"
    }
   ],
   "source": [
    "query = \"\"\"\n",
    "WITH \n",
    "    avg_calc AS (\n",
    "        SELECT\n",
    "            AVG(area_do_imovel) AS avg_area\n",
    "\n",
    "        FROM gold_from_delta.gold_distribuida_uf\n",
    "\n",
    "        GROUP BY uf\n",
    "        ), \n",
    "\n",
    "    filtro_estado AS (\n",
    "        SELECT\n",
    "            uf,\n",
    "            area_do_imovel\n",
    "\n",
    "        FROM gold_from_delta.gold_distribuida_uf, avg_calc\n",
    "\n",
    "        WHERE area_do_imovel > avg_calc.avg_area\n",
    ")\n",
    "\n",
    "SELECT\n",
    "    uf,\n",
    "    COUNT(*) AS acima_media\n",
    "\n",
    "FROM filtro_estado\n",
    "\n",
    "GROUP BY uf\n",
    "\n",
    "ORDER BY acima_media DESC\n",
    "\n",
    "\"\"\"\n",
    "\n",
    "tempo_hive_8 = get_time_hive(query, \"query_8\")\n",
    "tempo_hive_8"
   ]
  },
  {
   "cell_type": "markdown",
   "metadata": {},
   "source": [
    "## Tempo Total Hive Metastore"
   ]
  },
  {
   "cell_type": "code",
   "execution_count": 24,
   "metadata": {},
   "outputs": [
    {
     "data": {
      "text/plain": [
       "0.7464995384216309"
      ]
     },
     "execution_count": 24,
     "metadata": {},
     "output_type": "execute_result"
    }
   ],
   "source": [
    "total_hive = tempo_hive_1 + tempo_hive_2 + tempo_hive_3 + tempo_hive_4 + tempo_hive_5 + tempo_hive_6 + tempo_hive_7 + tempo_hive_8\n",
    "total_hive"
   ]
  },
  {
   "cell_type": "code",
   "execution_count": 2,
   "metadata": {},
   "outputs": [
    {
     "name": "stdout",
     "output_type": "stream",
     "text": [
      "+---------------+\n",
      "|      namespace|\n",
      "+---------------+\n",
      "|        default|\n",
      "|gold_from_delta|\n",
      "+---------------+\n",
      "\n"
     ]
    }
   ],
   "source": [
    "spark.sql(\"SHOW SCHEMAS\").show()"
   ]
  },
  {
   "cell_type": "code",
   "execution_count": 3,
   "metadata": {},
   "outputs": [
    {
     "name": "stdout",
     "output_type": "stream",
     "text": [
      "+---------------+-------------------+-----------+\n",
      "|      namespace|          tableName|isTemporary|\n",
      "+---------------+-------------------+-----------+\n",
      "|gold_from_delta|gold_distribuida_uf|      false|\n",
      "|gold_from_delta|            query_1|      false|\n",
      "|gold_from_delta|            query_2|      false|\n",
      "|gold_from_delta|            query_3|      false|\n",
      "|gold_from_delta|            query_4|      false|\n",
      "|gold_from_delta|            query_5|      false|\n",
      "|gold_from_delta|            query_6|      false|\n",
      "|gold_from_delta|            query_7|      false|\n",
      "|gold_from_delta|            query_8|      false|\n",
      "+---------------+-------------------+-----------+\n",
      "\n"
     ]
    }
   ],
   "source": [
    "spark.sql(\"SHOW TABLES IN gold_from_delta\").show()"
   ]
  }
 ],
 "metadata": {
  "kernelspec": {
   "display_name": "Python 3 (ipykernel)",
   "language": "python",
   "name": "python3"
  },
  "language_info": {
   "codemirror_mode": {
    "name": "ipython",
    "version": 3
   },
   "file_extension": ".py",
   "mimetype": "text/x-python",
   "name": "python",
   "nbconvert_exporter": "python",
   "pygments_lexer": "ipython3",
   "version": "3.11.6"
  }
 },
 "nbformat": 4,
 "nbformat_minor": 4
}

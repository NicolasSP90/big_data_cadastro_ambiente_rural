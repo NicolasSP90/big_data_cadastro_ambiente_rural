{
 "cells": [
  {
   "cell_type": "code",
   "execution_count": 2,
   "metadata": {},
   "outputs": [
    {
     "name": "stdout",
     "output_type": "stream",
     "text": [
      "3.5.0\n"
     ]
    }
   ],
   "source": [
    "from pyspark.sql import SparkSession\n",
    "\n",
    "# Iniciar a sessão Spark com a configuração do Delta Lake\n",
    "spark = SparkSession.builder \\\n",
    "    .appName(\"DeltaLake Example\") \\\n",
    "    .config(\"spark.sql.extensions\", \"io.delta.sql.DeltaSparkSessionExtension\") \\\n",
    "    .config(\"spark.sql.catalog.spark_catalog\", \"org.apache.spark.sql.delta.catalog.DeltaCatalog\") \\\n",
    "    .getOrCreate()\n",
    "\n",
    "# Verificar se a sessão Spark foi criada com sucesso\n",
    "print(spark.version)"
   ]
  },
  {
   "cell_type": "code",
   "execution_count": 12,
   "metadata": {},
   "outputs": [
    {
     "name": "stdout",
     "output_type": "stream",
     "text": [
      "+---+--------------------+-----------+--------------+--------------------+-----------------+--------------------+------------+----------------------------------+---------------------------+---------------------------+---------------------+----------------------+-----------------+-----------------+--------------------+--------------------------------+----------------------+----------------------------+-----------------+---------------+-----------------+---------------------------+----------------------------------------+----------------+-----------------------+\n",
      "| uf|           municipio|codigo_ibge|area_do_imovel|        registro_car|situacao_cadastro|   condicao_cadastro|area_liquida|area_remanescente_vegetacao_nativa|area_reserva_legal_proposta|area_preservacao_permanente|area_nao_classificada|solicitacao_adesao_pra|         latitude|        longitude|      data_inscricao|data_alteracao_condicao_cadastro|area_rural_consolidada|area_servidao_administrativa|tipo_imovel_rural|modulos_fiscais|area_uso_restrito|area_reserva_legal_averbada|area_reserva_legal_aprovada_nao_averbada|     area_pousio|data_ultima_retificacao|\n",
      "+---+--------------------+-----------+--------------+--------------------+-----------------+--------------------+------------+----------------------------------+---------------------------+---------------------------+---------------------+----------------------+-----------------+-----------------+--------------------+--------------------------------+----------------------+----------------------------+-----------------+---------------+-----------------+---------------------------+----------------------------------------+----------------+-----------------------+\n",
      "| GO|             Nazário|    5214408|      119.6326|GO-5214408-3AEF20...|               AT|Analisado com pen...|    119.6326|                  6.43202795367569|                     6.4320|           5.29751084282892|  0.00102295610380904|                   Sim|-16.5923058689987|-49.9019017039191|2014-05-07 16:01:...|                            NULL|      112.301149046683|                           0|              IRU|         5.4378|                0|                     0.0000|                                  0.0000|               0|   2014-05-07 16:01:...|\n",
      "| SC|             Meleiro|    4210803|        7.5340|SC-4210803-BC127B...|               AT|Aguardando anális...|      7.5340|                  5.51785410336982|                     0.0000|                          0|  0.00159349317984888|                   Nao|-28.7930798512303|-49.6472023744097|2014-05-07 16:02:...|                            NULL|      2.01445162492469|                           0|              IRU|         0.4186|                0|                     1.5060|                                  0.0000|               0|   2014-05-07 16:02:...|\n",
      "| GO|           Nova Roma|    5214903|       19.4883|GO-5214903-7F5804...|               PE|Analisado com pen...|     19.3600|                  19.4882633569717|                     3.8720|                          0|                    0|                   Nao|-13.6370551503248|-47.0339670619739|2014-05-07 16:06:...|                            NULL|                     0|                           0|              IRU|         0.2784|                0|                     0.0000|                                  0.0000|               0|   2014-05-07 16:06:...|\n",
      "| GO|Santa Helena de G...|    5219308|       22.9340|GO-5219308-647819...|               PE|Analisado com pen...|     22.8800|                   1.5021496193707|                     1.5028|          0.568927694143718|     18.2335997514784|                   Sim|-17.8327877579625|-50.6015145422339|2014-05-07 17:49:...|                            NULL|      3.08289042473435|                           0|              IRU|         1.1467|                0|                     0.0000|                                  0.0000|               0|   2014-05-07 17:49:...|\n",
      "| PR|   Cornélio Procópio|    4106407|       10.9560|PR-4106407-0F0608...|               AT|          Em análise|     10.9560|                                 0|                     0.0000|                          0|    0.161657419734154|                   Nao|-23.1841101335722|-50.6715645967419|2014-05-07 17:52:...|                            NULL|      10.7942669028953|                           0|              IRU|         0.6087|                0|                     0.0000|                                  0.0000|               0|   2014-05-07 17:52:...|\n",
      "| GO|     Buriti de Goiás|    5203939|       37.3628|GO-5203939-24B667...|               AT|Analisado com pen...|     37.2710|                                 0|                     7.4542|           3.48182904076294|     36.6495720619986|                   Sim|-16.2164807816082|-50.4953581696022|2014-05-07 18:10:...|                            NULL|                     0|                           0|              IRU|         1.6983|                0|                     0.0000|                                  0.0000|               0|   2014-05-07 18:10:...|\n",
      "| GO|          Planaltina|    5217609|       97.9881|GO-5217609-5AF397...|               PE|Analisado com pen...|     98.1345|                                 0|                    21.8673|           2.12858352269074|     97.6714521959102|                   Nao|-15.1179720733421|-47.8383739460241|2014-05-08 00:02:...|                            NULL|                     0|                           0|              IRU|         2.7997|                0|                     0.0000|                                  0.0000|               0|   2014-05-08 00:02:...|\n",
      "| PR|      Jandaia do Sul|    4112108|        6.1533|PR-4112108-9A8173...|               AT|Aguardando anális...|      6.1533|                                 0|                     0.0000|                          0|     6.14899874393451|                   Sim|-23.6224664264801|-51.6578666515836|2014-05-08 08:00:...|                            NULL|                     0|                           0|              IRU|         0.3846|                0|                     0.0000|                                  0.0000|               0|   2014-05-08 08:00:...|\n",
      "| PR|      Jandaia do Sul|    4112108|        4.9027|PR-4112108-A5B59A...|               AT|Aguardando anális...|      4.9027|                                 0|                     0.0000|                          0|     4.89928986130661|                   Sim|-23.6224240639671|-51.6578657246737|2014-05-08 08:03:...|                            NULL|                     0|                           0|              IRU|         0.3064|                0|                     0.0000|                                  0.0000|               0|   2014-05-08 08:03:...|\n",
      "| GO|             Formosa|    5208004|        5.4097|GO-5208004-4F872D...|               PE|Analisado com pen...|      5.4139|                                 0|                     1.1026|           2.27859310705466|     1.21704276768816|                   Sim|-15.5759058160859| -47.347320962841|2014-05-08 08:36:...|                            NULL|      3.76410267729312|                           0|              IRU|         0.1352|                0|                     0.0000|                                  0.0000|1.21609669322065|   2014-05-08 08:36:...|\n",
      "| GO|Santa Helena de G...|    5219308|        3.9105|GO-5219308-AF2363...|               PE|Analisado com pen...|      3.9017|                 0.245592305220291|                     0.2439|                          0|     3.11964077305441|                   Sim|  -17.76391298631|-50.7645585662756|2014-05-08 08:41:...|                            NULL|      0.53817772397697|                           0|              IRU|         0.1955|                0|                     0.0000|                                  0.0000|               0|   2014-05-08 08:41:...|\n",
      "| PR|             Astorga|    4102109|      213.8016|PR-4102109-2E8FF9...|               AT|Aguardando anális...|    213.8016|                                 0|                     0.0000|           15.1908326805634|     128.481619369247|                   Nao|-23.3388741895933|-51.6458730432584|2014-05-08 09:03:...|                            NULL|      83.6068667104104|                           0|              IRU|        13.3626|                0|                   103.3418|                                  0.0000|               0|   2014-05-08 09:03:...|\n",
      "| GO|             Itapaci|    5210901|      177.3984|GO-5210901-18295A...|               AT|Analisado com pen...|    177.3984|                                 0|                    32.4073|           9.65986396424072|     175.233119654483|                   Nao|-15.0467079484747|-49.8101753503116|2014-05-08 10:37:...|                            NULL|                     0|                           0|              IRU|         5.9133|                0|                    29.4853|                                  0.0000|               0|   2014-05-08 10:37:...|\n",
      "| GO|           Morrinhos|    5213806|        6.8385|GO-5213806-B36B17...|               AT|Analisado com pen...|      6.8385|                  6.49708147328459|                     1.3888|          0.770908967393169|    0.238097099980264|                   Nao|-17.9207537479263|-48.9040563161888|2014-05-08 10:40:...|                            NULL|                     0|                           0|              IRU|         0.1710|                0|                     0.0000|                                  0.0000|               0|   2014-05-08 10:40:...|\n",
      "| GO|           Goianésia|    5208608|       20.3658|GO-5208608-9D8E6D...|               PE|Analisado com pen...|     20.3016|                                 0|                     4.1670|           2.89464033310083|      20.036599391474|                   Nao|-15.5639038390729|-49.1886739921727|2014-05-08 10:53:...|                            NULL|                     0|                           0|              IRU|         1.0183|                0|                     0.0000|                                  0.0000|               0|   2014-05-08 10:53:...|\n",
      "| RJ|           Itaperuna|    3302205|        6.0851|RJ-3302205-169354...|               PE|Analisado com pen...|      5.9310|                                 0|                     1.4792|           1.61754906789992|     5.83886665807348|                   Sim|-21.3214432276222|  -41.80444759989|2014-05-08 11:02:...|                            NULL|    0.0501235222115647|                      0.1619|              IRU|         0.2028|                0|                     0.0000|                                  0.0000|4.33622302031857|   2014-05-08 11:02:...|\n",
      "| GO|           Goianésia|    5208608|       20.3658|GO-5208608-A154F2...|               PE|Analisado com pen...|     20.3016|                                 0|                     4.1670|           2.89464033310083|      20.036599391474|                   Nao|-15.5639038390729|-49.1886739921727|2014-05-08 11:07:...|                            NULL|                     0|                           0|              IRU|         1.0183|                0|                     0.0000|                                  0.0000|               0|   2014-05-08 11:07:...|\n",
      "| PR|Marechal Cândido ...|    4114609|        3.3549|PR-4114609-2D4A70...|               AT|Aguardando anális...|      3.3549|                                 0|                     0.0000|                          0|     3.35944271401332|                   Sim|-24.5530118986487|-54.0842691356302|2014-05-08 11:14:...|                            NULL|                     0|                           0|              IRU|         0.1864|                0|                     0.0000|                                  0.0000|               0|   2014-05-08 11:14:...|\n",
      "| MA|            Pinheiro|    2108603|      291.6915|MA-2108603-3C550F...|               PE|Analisado com pen...|    287.8908|                   234.09707247566|                   230.4369|                          0|     5.47498268246462|                   Nao|-2.30715012142595| -45.002070084726|2014-05-08 11:51:...|            2021-12-17 12:28:...|      52.0483564388429|                           0|              IRU|         5.3035|                0|                     0.0000|                                  0.0000|               0|   2014-05-08 11:51:...|\n",
      "| RJ|           Itaperuna|    3302205|       44.4215|RJ-3302205-1DEA02...|               PE|Analisado com pen...|     43.3195|                                 0|                     8.8523|           11.0546352649015|     40.9607595756084|                   Sim|-21.3400673460579|-41.6868689432052|2014-05-08 12:03:...|                            NULL|     0.113328063728078|                      1.1514|              IRU|         1.4807|                0|                     0.0000|                                  0.0000|31.9864053125698|   2014-05-08 12:03:...|\n",
      "+---+--------------------+-----------+--------------+--------------------+-----------------+--------------------+------------+----------------------------------+---------------------------+---------------------------+---------------------+----------------------+-----------------+-----------------+--------------------+--------------------------------+----------------------+----------------------------+-----------------+---------------+-----------------+---------------------------+----------------------------------------+----------------+-----------------------+\n",
      "only showing top 20 rows\n",
      "\n"
     ]
    }
   ],
   "source": [
    "df_test = spark.read.csv(\"./data/raw/temas_ambientais.csv\", sep=\";\", header=True)\n",
    "df_test.show()"
   ]
  },
  {
   "cell_type": "code",
   "execution_count": null,
   "metadata": {},
   "outputs": [
    {
     "name": "stdout",
     "output_type": "stream",
     "text": [
      "['uf', 'municipio', 'registro_car', 'situacao_cadastro', 'condicao_cadastro', 'tipo_imovel_rural']\n"
     ]
    },
    {
     "data": {
      "text/plain": [
       "26"
      ]
     },
     "execution_count": 16,
     "metadata": {},
     "output_type": "execute_result"
    }
   ],
   "source": [
    "int_columns = [\"codigo_ibge\"]\n",
    "float_columns = [\"area_do_imovel\", \"area_liquida\", \"area_remanescente_vegetacao_nativa\", \n",
    "                 \"area_reserva_legal_proposta\", \"area_preservacao_permanente\", \"area_nao_classificada\",\n",
    "                 \"latitude\", \"longitude\", \"area_rural_consolidada\", \"area_servidao_administrativa\",\n",
    "                 \"modulos_fiscais\", \"area_uso_restrito\", \"area_reserva_legal_averbada\",\n",
    "                 \"area_reserva_legal_aprovada_nao_averbada\", \"area_pousio\"]\n",
    "bool_columns = [\"solicitacao_adesao_pra\"]\n",
    "date_columns = [\"data_inscricao\", \"data_alteracao_condicao_cadastro\", \"data_ultima_retificacao\"]\n",
    "text_column = [x for x in df_test.columns if x not in int_columns+float_columns+bool_columns+date_columns]"
   ]
  },
  {
   "cell_type": "code",
   "execution_count": 18,
   "metadata": {},
   "outputs": [
    {
     "name": "stdout",
     "output_type": "stream",
     "text": [
      "root\n",
      " |-- uf: string (nullable = true)\n",
      " |-- municipio: string (nullable = true)\n",
      " |-- codigo_ibge: string (nullable = true)\n",
      " |-- area_do_imovel: string (nullable = true)\n",
      " |-- registro_car: string (nullable = true)\n",
      " |-- situacao_cadastro: string (nullable = true)\n",
      " |-- condicao_cadastro: string (nullable = true)\n",
      " |-- area_liquida: string (nullable = true)\n",
      " |-- area_remanescente_vegetacao_nativa: string (nullable = true)\n",
      " |-- area_reserva_legal_proposta: string (nullable = true)\n",
      " |-- area_preservacao_permanente: string (nullable = true)\n",
      " |-- area_nao_classificada: string (nullable = true)\n",
      " |-- solicitacao_adesao_pra: string (nullable = true)\n",
      " |-- latitude: string (nullable = true)\n",
      " |-- longitude: string (nullable = true)\n",
      " |-- data_inscricao: string (nullable = true)\n",
      " |-- data_alteracao_condicao_cadastro: string (nullable = true)\n",
      " |-- area_rural_consolidada: string (nullable = true)\n",
      " |-- area_servidao_administrativa: string (nullable = true)\n",
      " |-- tipo_imovel_rural: string (nullable = true)\n",
      " |-- modulos_fiscais: string (nullable = true)\n",
      " |-- area_uso_restrito: string (nullable = true)\n",
      " |-- area_reserva_legal_averbada: string (nullable = true)\n",
      " |-- area_reserva_legal_aprovada_nao_averbada: string (nullable = true)\n",
      " |-- area_pousio: string (nullable = true)\n",
      " |-- data_ultima_retificacao: string (nullable = true)\n",
      "\n"
     ]
    }
   ],
   "source": [
    "df_test.printSchema()"
   ]
  }
 ],
 "metadata": {
  "kernelspec": {
   "display_name": "Python 3 (ipykernel)",
   "language": "python",
   "name": "python3"
  },
  "language_info": {
   "codemirror_mode": {
    "name": "ipython",
    "version": 3
   },
   "file_extension": ".py",
   "mimetype": "text/x-python",
   "name": "python",
   "nbconvert_exporter": "python",
   "pygments_lexer": "ipython3",
   "version": "3.11.6"
  }
 },
 "nbformat": 4,
 "nbformat_minor": 2
}

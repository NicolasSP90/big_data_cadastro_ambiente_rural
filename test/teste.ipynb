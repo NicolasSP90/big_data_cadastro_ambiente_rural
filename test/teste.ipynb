{
 "cells": [
  {
   "cell_type": "markdown",
   "metadata": {},
   "source": [
    "# Iniciando Sessão Spark"
   ]
  },
  {
   "cell_type": "code",
   "execution_count": 1,
   "metadata": {},
   "outputs": [
    {
     "name": "stdout",
     "output_type": "stream",
     "text": [
      "3.5.0\n"
     ]
    }
   ],
   "source": [
    "from pyspark.sql import SparkSession\n",
    "\n",
    "# Iniciar a sessão Spark com a configuração do Delta Lake\n",
    "spark = (SparkSession.builder\n",
    "    .appName(\"DeltaLake\")\n",
    "    .config(\"spark.sql.extensions\", \"io.delta.sql.DeltaSparkSessionExtension\")  # Extensão do Delta\n",
    "    .config(\"spark.sql.catalog.spark_catalog\", \"org.apache.spark.sql.delta.catalog.DeltaCatalog\")  # Catálogo do Delta\n",
    "    .config(\"spark.jars\", \"/usr/local/spark/jars/delta-spark_2.12-3.0.0.jar,/usr/local/spark/jars/delta-storage-3.0.0.jar\")  # Caminho dos JARs no Docker\n",
    "    .getOrCreate())\n",
    "\"\"\"    .config(\"spark.executor.cores\", \"2\")  # Limitar o número de núcleos por executor\n",
    "    .config(\"spark.driver.cores\", \"1\")    # Limitar o número de núcleos para o driver\n",
    "    .config(\"spark.executor.memory\", \"4g\")\n",
    "    .config(\"spark.driver.memory\", \"4g\")\n",
    "    .config(\"spark.memory.fraction\", \"0.3\")  # Ajuste para controlar a fração de memória usada pelo Spark\n",
    "    .config(\"spark.memory.storageFraction\", \"0.2\")  # Fração da memória usada para armazenar dados persistentes\"\"\"\n",
    "\n",
    "\n",
    "# Verificar se a sessão Spark foi criada com sucesso\n",
    "print(spark.version)"
   ]
  },
  {
   "cell_type": "markdown",
   "metadata": {},
   "source": [
    "# Importando CSV"
   ]
  },
  {
   "cell_type": "code",
   "execution_count": 2,
   "metadata": {},
   "outputs": [],
   "source": [
    "df_test = spark.read.csv(\"/home/jovyan/app/data/raw/temas_ambientais.csv\", sep=\";\", header=True)\n",
    "df_test.show()"
   ]
  },
  {
   "cell_type": "markdown",
   "metadata": {},
   "source": [
    "# Salvando Bronze (Distribuída)"
   ]
  },
  {
   "cell_type": "code",
   "execution_count": 3,
   "metadata": {},
   "outputs": [],
   "source": [
    "df_test = df_test.dropDuplicates()"
   ]
  },
  {
   "cell_type": "code",
   "execution_count": null,
   "metadata": {},
   "outputs": [],
   "source": [
    "df_test.write.mode(\"overwrite\").format(\"delta\").save(\"/home/jovyan/app/data/bronze/bronze_distribuida\")"
   ]
  },
  {
   "cell_type": "markdown",
   "metadata": {},
   "source": [
    "# Limpeza e Salvando Silver (Distribuída)"
   ]
  },
  {
   "cell_type": "code",
   "execution_count": 4,
   "metadata": {},
   "outputs": [],
   "source": [
    "from pyspark.sql.functions import *\n",
    "from pyspark.sql.types import *"
   ]
  },
  {
   "cell_type": "code",
   "execution_count": 2,
   "metadata": {},
   "outputs": [
    {
     "name": "stdout",
     "output_type": "stream",
     "text": [
      "+---+-----------------+-----------+--------------+--------------------+-----------------+--------------------+------------+----------------------------------+---------------------------+---------------------------+---------------------+----------------------+-----------------+-----------------+--------------------+--------------------------------+----------------------+----------------------------+-----------------+---------------+-----------------+---------------------------+----------------------------------------+-----------+-----------------------+\n",
      "| uf|        municipio|codigo_ibge|area_do_imovel|        registro_car|situacao_cadastro|   condicao_cadastro|area_liquida|area_remanescente_vegetacao_nativa|area_reserva_legal_proposta|area_preservacao_permanente|area_nao_classificada|solicitacao_adesao_pra|         latitude|        longitude|      data_inscricao|data_alteracao_condicao_cadastro|area_rural_consolidada|area_servidao_administrativa|tipo_imovel_rural|modulos_fiscais|area_uso_restrito|area_reserva_legal_averbada|area_reserva_legal_aprovada_nao_averbada|area_pousio|data_ultima_retificacao|\n",
      "+---+-----------------+-----------+--------------+--------------------+-----------------+--------------------+------------+----------------------------------+---------------------------+---------------------------+---------------------+----------------------+-----------------+-----------------+--------------------+--------------------------------+----------------------+----------------------------+-----------------+---------------+-----------------+---------------------------+----------------------------------------+-----------+-----------------------+\n",
      "| AM|           Lábrea|    1302405|       82.9099|AM-1302405-60C132...|               PE|Analisado com pen...|     82.9098|                  49.0594596577163|                    66.2808|           2.92893049846099|     17.2212823151367|                   Sim|-8.82441366302527|-66.7203153604377|2014-08-18 13:17:...|            2022-08-11 09:19:...|      16.1401565513901|                           0|              AST|         0.8291|                0|                     0.0000|                                  0.0000|          0|   2014-08-18 13:17:...|\n",
      "| MA|        São Bento|    2110500|     3914.6239|MA-2110500-D11369...|               PE|Analisado com pen...|   3911.3655|                                 0|                     0.0000|                          0|     3911.38835785304|                   Nao|-2.83546096820604|-45.0704518287366|2014-08-29 10:30:...|            2021-08-20 10:36:...|                     0|                           0|              IRU|        71.1750|                0|                     0.0000|                                  0.0000|          0|   2014-08-29 10:30:...|\n",
      "| AC|            Feijó|    1200302|       44.0566|AC-1200302-E1DDA4...|               PE|Analisado com pen...|     44.0566|                  27.6701256134942|                     0.0000|                          0|   0.0344355503874977|                   Nao|-8.21028562491248|-70.2350991000402|2014-10-20 22:07:...|            2022-01-12 11:47:...|      16.3519375305264|                           0|              IRU|         0.4406|                0|                     0.0000|                                  0.0000|          0|   2014-10-20 22:07:...|\n",
      "| MT|    Alta Floresta|    5100250|       39.3635|MT-5100250-080A49...|               PE|Analisado com pen...|     39.3635|                  3.85235561523438|                     3.8524|           8.43652768554688|      35.246773762831|                   Nao|-9.68213805175886|-56.2314455726238|2014-10-22 02:29:...|            2021-11-30 15:22:...|                     0|                           0|              IRU|         0.3936|                0|                     0.0000|                                  0.0000|          0|   2014-10-22 02:29:...|\n",
      "| MT|          Tapurah|    5108006|      510.9969|MT-5108006-863BFD...|               AT|Analisado com pen...|    510.9969|                  249.907166210938|                   249.9072|           7.83154116210938|     261.092095898566|                   Nao|-12.2719274016526|-56.3539554111014|2014-10-22 04:41:...|            2021-11-28 03:37:...|                     0|                           0|              IRU|         5.1100|                0|                     0.0000|                                  0.0000|          0|   2014-10-22 04:41:...|\n",
      "| SP|        Arco-Íris|    3503356|       60.5745|SP-3503356-F0489E...|               AT|Revisado, aguarda...|     60.5310|                                 0|                     0.0000|                          0|     60.5158120007595|                   Nao|-21.7416707440427|-50.4486015536734|2014-11-15 22:59:...|            2022-04-08 17:01:...|                     0|                           0|              IRU|         3.0287|                0|                     0.0000|                                  0.0000|          0|   2014-11-17 22:57:...|\n",
      "| SP|            Matão|    3529302|        2.1734|SP-3529302-6BFA76...|               AT|Revisado, aguarda...|      2.1756|                                 0|                     0.0000|                          0|     2.17559332323338|                   Nao|-21.5835194131746|-48.3936632884126|2014-11-15 23:04:...|            2022-02-04 09:23:...|                     0|                           0|              IRU|         0.1811|                0|                     0.0000|                                  0.0000|          0|   2014-11-17 23:02:...|\n",
      "| SP|         Guapiara|    3517604|      398.9194|SP-3517604-886E15...|               AT|Revisado, aguarda...|    391.9408|                  116.684347490692|                     0.0000|                          0|      270.75866189252|                   Nao|-24.1505309663166|-48.4981964065886|2014-11-15 23:11:...|            2022-09-09 05:13:...|        4.148183984375|            7.29066806640625|              IRU|        24.4768|                0|                     0.0000|                                  0.0000|          0|   2014-11-17 23:10:...|\n",
      "| SP|          Guaraci|    3517901|       45.4524|SP-3517901-FA714D...|               AT|Revisado, aguarda...|     44.1543|                                 0|                     0.0000|                          0|     44.1543033300598|                   Nao|-20.5411065920448|-48.9533778298427|2014-11-15 23:46:...|            2022-09-09 05:46:...|                     0|                1.3124328125|              IRU|         1.4713|                0|                     0.0000|                                  0.0000|          0|   2014-11-18 22:24:...|\n",
      "| SP|Alfredo Marcondes|    3500808|       48.2747|SP-3500808-C4EDB3...|               AT|Revisado, aguarda...|     47.8503|                  1.05830142822266|                     0.0000|                          0|     45.5003467240862|                   Nao|-21.9327166234325|-51.3861386998586|2014-11-16 22:55:...|            2022-09-10 17:18:...|      1.29041671624184|           0.387990161132812|              IRU|         2.1767|                0|                     0.0000|                                  0.0000|          0|   2014-11-19 23:08:...|\n",
      "+---+-----------------+-----------+--------------+--------------------+-----------------+--------------------+------------+----------------------------------+---------------------------+---------------------------+---------------------+----------------------+-----------------+-----------------+--------------------+--------------------------------+----------------------+----------------------------+-----------------+---------------+-----------------+---------------------------+----------------------------------------+-----------+-----------------------+\n",
      "only showing top 10 rows\n",
      "\n"
     ]
    }
   ],
   "source": [
    "df_test = spark.read.format(\"delta\").load(\"/home/jovyan/app/data/bronze/bronze_distribuida\")\n",
    "df_test.show(10)"
   ]
  },
  {
   "cell_type": "code",
   "execution_count": 5,
   "metadata": {},
   "outputs": [
    {
     "data": {
      "text/plain": [
       "{'uf': 0,\n",
       " 'municipio': 0,\n",
       " 'codigo_ibge': 0,\n",
       " 'area_do_imovel': 0,\n",
       " 'registro_car': 0,\n",
       " 'situacao_cadastro': 0,\n",
       " 'condicao_cadastro': 0,\n",
       " 'area_liquida': 60416,\n",
       " 'area_remanescente_vegetacao_nativa': 60416,\n",
       " 'area_reserva_legal_proposta': 60416,\n",
       " 'area_preservacao_permanente': 60416,\n",
       " 'area_nao_classificada': 60416,\n",
       " 'solicitacao_adesao_pra': 0,\n",
       " 'latitude': 0,\n",
       " 'longitude': 0,\n",
       " 'data_inscricao': 12,\n",
       " 'data_alteracao_condicao_cadastro': 5132886,\n",
       " 'area_rural_consolidada': 60416,\n",
       " 'area_servidao_administrativa': 60416,\n",
       " 'tipo_imovel_rural': 0,\n",
       " 'modulos_fiscais': 0,\n",
       " 'area_uso_restrito': 60416,\n",
       " 'area_reserva_legal_averbada': 60416,\n",
       " 'area_reserva_legal_aprovada_nao_averbada': 60416,\n",
       " 'area_pousio': 60416,\n",
       " 'data_ultima_retificacao': 0}"
      ]
     },
     "execution_count": 5,
     "metadata": {},
     "output_type": "execute_result"
    }
   ],
   "source": [
    "# Criar uma lista com o nome das colunas e o número de nulos em cada uma\n",
    "null_counts_1 = df_test.select([sum(col(c).isNull().cast(\"int\")).alias(c) for c in df_test.columns]).first().asDict()\n",
    "\n",
    "# Exibir o resultado\n",
    "null_counts_1"
   ]
  },
  {
   "cell_type": "code",
   "execution_count": 6,
   "metadata": {},
   "outputs": [
    {
     "name": "stdout",
     "output_type": "stream",
     "text": [
      "root\n",
      " |-- uf: string (nullable = true)\n",
      " |-- municipio: string (nullable = true)\n",
      " |-- codigo_ibge: string (nullable = true)\n",
      " |-- area_do_imovel: string (nullable = true)\n",
      " |-- registro_car: string (nullable = true)\n",
      " |-- situacao_cadastro: string (nullable = true)\n",
      " |-- condicao_cadastro: string (nullable = true)\n",
      " |-- area_liquida: string (nullable = true)\n",
      " |-- area_remanescente_vegetacao_nativa: string (nullable = true)\n",
      " |-- area_reserva_legal_proposta: string (nullable = true)\n",
      " |-- area_preservacao_permanente: string (nullable = true)\n",
      " |-- area_nao_classificada: string (nullable = true)\n",
      " |-- solicitacao_adesao_pra: string (nullable = true)\n",
      " |-- latitude: string (nullable = true)\n",
      " |-- longitude: string (nullable = true)\n",
      " |-- data_inscricao: string (nullable = true)\n",
      " |-- data_alteracao_condicao_cadastro: string (nullable = true)\n",
      " |-- area_rural_consolidada: string (nullable = true)\n",
      " |-- area_servidao_administrativa: string (nullable = true)\n",
      " |-- tipo_imovel_rural: string (nullable = true)\n",
      " |-- modulos_fiscais: string (nullable = true)\n",
      " |-- area_uso_restrito: string (nullable = true)\n",
      " |-- area_reserva_legal_averbada: string (nullable = true)\n",
      " |-- area_reserva_legal_aprovada_nao_averbada: string (nullable = true)\n",
      " |-- area_pousio: string (nullable = true)\n",
      " |-- data_ultima_retificacao: string (nullable = true)\n",
      "\n"
     ]
    }
   ],
   "source": [
    "df_test.printSchema()"
   ]
  },
  {
   "cell_type": "code",
   "execution_count": 7,
   "metadata": {},
   "outputs": [
    {
     "data": {
      "text/plain": [
       "['uf',\n",
       " 'municipio',\n",
       " 'codigo_ibge',\n",
       " 'area_do_imovel',\n",
       " 'registro_car',\n",
       " 'situacao_cadastro',\n",
       " 'condicao_cadastro',\n",
       " 'area_liquida',\n",
       " 'area_remanescente_vegetacao_nativa',\n",
       " 'area_reserva_legal_proposta',\n",
       " 'area_preservacao_permanente',\n",
       " 'area_nao_classificada',\n",
       " 'solicitacao_adesao_pra',\n",
       " 'latitude',\n",
       " 'longitude',\n",
       " 'data_inscricao',\n",
       " 'data_alteracao_condicao_cadastro',\n",
       " 'area_rural_consolidada',\n",
       " 'area_servidao_administrativa',\n",
       " 'tipo_imovel_rural',\n",
       " 'modulos_fiscais',\n",
       " 'area_uso_restrito',\n",
       " 'area_reserva_legal_averbada',\n",
       " 'area_reserva_legal_aprovada_nao_averbada',\n",
       " 'area_pousio',\n",
       " 'data_ultima_retificacao']"
      ]
     },
     "execution_count": 7,
     "metadata": {},
     "output_type": "execute_result"
    }
   ],
   "source": [
    "df_test.columns"
   ]
  },
  {
   "cell_type": "code",
   "execution_count": 8,
   "metadata": {},
   "outputs": [],
   "source": [
    "int_columns = [\"codigo_ibge\"]\n",
    "float_columns = [\"area_do_imovel\", \"area_liquida\", \"area_remanescente_vegetacao_nativa\", \n",
    "                 \"area_reserva_legal_proposta\", \"area_preservacao_permanente\", \"area_nao_classificada\",\n",
    "                 \"latitude\", \"longitude\", \"area_rural_consolidada\", \"area_servidao_administrativa\",\n",
    "                 \"modulos_fiscais\", \"area_uso_restrito\", \"area_reserva_legal_averbada\",\n",
    "                 \"area_reserva_legal_aprovada_nao_averbada\", \"area_pousio\"]\n",
    "bool_columns = [\"solicitacao_adesao_pra\"]\n",
    "date_columns = [\"data_inscricao\", \"data_alteracao_condicao_cadastro\", \"data_ultima_retificacao\"]\n",
    "text_column = [x for x in df_test.columns if x not in int_columns+float_columns+bool_columns+date_columns]"
   ]
  },
  {
   "cell_type": "code",
   "execution_count": 9,
   "metadata": {},
   "outputs": [
    {
     "name": "stdout",
     "output_type": "stream",
     "text": [
      "root\n",
      " |-- uf: string (nullable = true)\n",
      " |-- municipio: string (nullable = true)\n",
      " |-- codigo_ibge: integer (nullable = true)\n",
      " |-- area_do_imovel: float (nullable = true)\n",
      " |-- registro_car: string (nullable = true)\n",
      " |-- situacao_cadastro: string (nullable = true)\n",
      " |-- condicao_cadastro: string (nullable = true)\n",
      " |-- area_liquida: float (nullable = true)\n",
      " |-- area_remanescente_vegetacao_nativa: float (nullable = true)\n",
      " |-- area_reserva_legal_proposta: float (nullable = true)\n",
      " |-- area_preservacao_permanente: float (nullable = true)\n",
      " |-- area_nao_classificada: float (nullable = true)\n",
      " |-- solicitacao_adesao_pra: boolean (nullable = true)\n",
      " |-- latitude: float (nullable = true)\n",
      " |-- longitude: float (nullable = true)\n",
      " |-- data_inscricao: timestamp (nullable = true)\n",
      " |-- data_alteracao_condicao_cadastro: timestamp (nullable = true)\n",
      " |-- area_rural_consolidada: float (nullable = true)\n",
      " |-- area_servidao_administrativa: float (nullable = true)\n",
      " |-- tipo_imovel_rural: string (nullable = true)\n",
      " |-- modulos_fiscais: float (nullable = true)\n",
      " |-- area_uso_restrito: float (nullable = true)\n",
      " |-- area_reserva_legal_averbada: float (nullable = true)\n",
      " |-- area_reserva_legal_aprovada_nao_averbada: float (nullable = true)\n",
      " |-- area_pousio: float (nullable = true)\n",
      " |-- data_ultima_retificacao: timestamp (nullable = true)\n",
      "\n"
     ]
    }
   ],
   "source": [
    "# Dados Para Integer\n",
    "df_test = df_test.withColumn(\"codigo_ibge\", col(\"codigo_ibge\").cast(IntegerType()))\n",
    "\n",
    "# Dados Para Float\n",
    "for i in float_columns:\n",
    "    df_test = df_test.withColumn(i, col(i).cast(FloatType()))\n",
    "\n",
    "# Dados para Bool\n",
    "df_test = df_test.withColumn(\"solicitacao_adesao_pra\", \n",
    "                             when(col(\"solicitacao_adesao_pra\") == \"Sim\", True).\n",
    "                             when(col(\"solicitacao_adesao_pra\") == \"Nao\", False).\n",
    "                             otherwise(None))\n",
    "\n",
    "# Dados para Date\n",
    "for i in date_columns:\n",
    "    df_test = df_test.withColumn(i, to_timestamp(regexp_replace(col(i), r\"\\.\\d+$\", \"\"), \"yyyy-MM-dd HH:mm:ss\"))\n",
    "\n",
    "df_test.printSchema()"
   ]
  },
  {
   "cell_type": "code",
   "execution_count": 10,
   "metadata": {},
   "outputs": [
    {
     "data": {
      "text/plain": [
       "{'uf': 0,\n",
       " 'municipio': 0,\n",
       " 'codigo_ibge': 0,\n",
       " 'area_do_imovel': 0,\n",
       " 'registro_car': 0,\n",
       " 'situacao_cadastro': 0,\n",
       " 'condicao_cadastro': 0,\n",
       " 'area_liquida': 60416,\n",
       " 'area_remanescente_vegetacao_nativa': 60416,\n",
       " 'area_reserva_legal_proposta': 60416,\n",
       " 'area_preservacao_permanente': 60416,\n",
       " 'area_nao_classificada': 60416,\n",
       " 'solicitacao_adesao_pra': 0,\n",
       " 'latitude': 0,\n",
       " 'longitude': 0,\n",
       " 'data_inscricao': 12,\n",
       " 'data_alteracao_condicao_cadastro': 5132886,\n",
       " 'area_rural_consolidada': 60416,\n",
       " 'area_servidao_administrativa': 60416,\n",
       " 'tipo_imovel_rural': 0,\n",
       " 'modulos_fiscais': 0,\n",
       " 'area_uso_restrito': 60416,\n",
       " 'area_reserva_legal_averbada': 60416,\n",
       " 'area_reserva_legal_aprovada_nao_averbada': 60416,\n",
       " 'area_pousio': 60416,\n",
       " 'data_ultima_retificacao': 0}"
      ]
     },
     "execution_count": 10,
     "metadata": {},
     "output_type": "execute_result"
    }
   ],
   "source": [
    "# Criar uma lista com o nome das colunas e o número de nulos em cada uma\n",
    "null_counts_2 = df_test.select([sum(col(c).isNull().cast(\"int\")).alias(c) for c in df_test.columns]).first().asDict()\n",
    "\n",
    "# Exibir o resultado\n",
    "null_counts_2"
   ]
  },
  {
   "cell_type": "code",
   "execution_count": 11,
   "metadata": {},
   "outputs": [
    {
     "name": "stdout",
     "output_type": "stream",
     "text": [
      "Os valores de nulos são os mesmos em ambas as versões.\n"
     ]
    }
   ],
   "source": [
    "if null_counts_1 == null_counts_2:\n",
    "    print(\"Os valores de nulos são os mesmos em ambas as versões.\")\n",
    "else:\n",
    "    print(\"Há diferenças nos valores de nulos.\")\n",
    "    # Mostrar as diferenças\n",
    "    for coluna in null_counts_1.keys():\n",
    "        if null_counts_1[coluna] != null_counts_2[coluna]:\n",
    "            print(f\"Coluna '{coluna}': null_counts_1 = {null_counts_1[coluna]}, null_counts_2 = {null_counts_2[coluna]}\")"
   ]
  },
  {
   "cell_type": "markdown",
   "metadata": {},
   "source": [
    "# Salvando Silver (Distribuída)"
   ]
  },
  {
   "cell_type": "code",
   "execution_count": 12,
   "metadata": {},
   "outputs": [],
   "source": [
    "df_test.write.mode(\"overwrite\").format(\"delta\").save(\"/home/jovyan/app/data/silver/silver_distribuida\")"
   ]
  },
  {
   "cell_type": "markdown",
   "metadata": {},
   "source": []
  },
  {
   "cell_type": "markdown",
   "metadata": {},
   "source": [
    "# Salvando Gold (Distribuída)"
   ]
  },
  {
   "cell_type": "markdown",
   "metadata": {},
   "source": []
  },
  {
   "cell_type": "markdown",
   "metadata": {},
   "source": []
  }
 ],
 "metadata": {
  "kernelspec": {
   "display_name": "Python 3 (ipykernel)",
   "language": "python",
   "name": "python3"
  },
  "language_info": {
   "codemirror_mode": {
    "name": "ipython",
    "version": 3
   },
   "file_extension": ".py",
   "mimetype": "text/x-python",
   "name": "python",
   "nbconvert_exporter": "python",
   "pygments_lexer": "ipython3",
   "version": "3.11.6"
  }
 },
 "nbformat": 4,
 "nbformat_minor": 4
}

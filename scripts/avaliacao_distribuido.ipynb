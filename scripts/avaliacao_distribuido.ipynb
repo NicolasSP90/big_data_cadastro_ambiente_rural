{
 "cells": [
  {
   "cell_type": "markdown",
   "metadata": {},
   "source": [
    "# Iniciando Sessão Spark"
   ]
  },
  {
   "cell_type": "code",
   "execution_count": 8,
   "metadata": {},
   "outputs": [
    {
     "name": "stdout",
     "output_type": "stream",
     "text": [
      "3.5.0\n"
     ]
    }
   ],
   "source": [
    "from pyspark.sql import SparkSession\n",
    "\n",
    "# Iniciar a sessão Spark com a configuração do Delta Lake\n",
    "spark = (SparkSession.builder\n",
    "    .appName(\"DeltaLake\")\n",
    "    .config(\"spark.sql.extensions\", \"io.delta.sql.DeltaSparkSessionExtension\")  # Extensão do Delta\n",
    "    .config(\"spark.sql.catalog.spark_catalog\", \"org.apache.spark.sql.delta.catalog.DeltaCatalog\")  # Catálogo do Delta\n",
    "    .config(\"spark.jars\", \"/usr/local/spark/jars/delta-spark_2.12-3.0.0.jar,/usr/local/spark/jars/delta-storage-3.0.0.jar\")  # Caminho dos JARs no Docker\n",
    "    .config(\"spark.sql.warehouse.dir\", \"/home/jovyan/app/data/gold/hive_warehouse/gold_from_delta.db\")\n",
    "    .enableHiveSupport()\n",
    "    .getOrCreate()) # Se utilizar as limitações de hardware pelo spark, mover para o final\n",
    "#    .config(\"spark.executor.cores\", \"2\")  # Limitar o número de núcleos por executor\n",
    "#    .config(\"spark.driver.cores\", \"1\")    # Limitar o número de núcleos para o driver\n",
    "#    .config(\"spark.executor.memory\", \"4g\")\n",
    "#    .config(\"spark.driver.memory\", \"4g\")\n",
    "#    .config(\"spark.memory.fraction\", \"0.3\")  # Ajuste para controlar a fração de memória usada pelo Spark\n",
    "#    .config(\"spark.memory.storageFraction\", \"0.2\")  # Fração da memória usada para armazenar dados persistentes\"\"\"\n",
    "\n",
    "from pyspark.sql.functions import *\n",
    "from pyspark.sql.types import *\n",
    "from pyspark.sql.functions import udf\n",
    "\n",
    "import time\n",
    "\n",
    "# Verificar se a sessão Spark foi criada com sucesso\n",
    "print(spark.version)"
   ]
  },
  {
   "cell_type": "markdown",
   "metadata": {},
   "source": [
    "# Importando CSV"
   ]
  },
  {
   "cell_type": "code",
   "execution_count": null,
   "metadata": {},
   "outputs": [],
   "source": [
    "df_test = spark.read.csv(\"/home/jovyan/app/data/raw/temas_ambientais.csv\", sep=\";\", header=True)\n",
    "df_test.show()"
   ]
  },
  {
   "cell_type": "markdown",
   "metadata": {},
   "source": [
    "# Salvando Bronze (Distribuída)"
   ]
  },
  {
   "cell_type": "code",
   "execution_count": null,
   "metadata": {},
   "outputs": [],
   "source": [
    "df_test = df_test.dropDuplicates()"
   ]
  },
  {
   "cell_type": "code",
   "execution_count": null,
   "metadata": {},
   "outputs": [],
   "source": [
    "df_test.write.mode(\"overwrite\").format(\"delta\").save(\"/home/jovyan/app/data/bronze/bronze_distribuida\")"
   ]
  },
  {
   "cell_type": "markdown",
   "metadata": {},
   "source": [
    "# Limpeza e Salvando Silver (Distribuída)"
   ]
  },
  {
   "cell_type": "code",
   "execution_count": 3,
   "metadata": {},
   "outputs": [
    {
     "name": "stdout",
     "output_type": "stream",
     "text": [
      "+---+--------------------+-----------+--------------+--------------------+-----------------+--------------------+------------+----------------------------------+---------------------------+---------------------------+---------------------+----------------------+-----------------+-----------------+--------------------+--------------------------------+----------------------+----------------------------+-----------------+---------------+-----------------+---------------------------+----------------------------------------+-----------+-----------------------+\n",
      "| uf|           municipio|codigo_ibge|area_do_imovel|        registro_car|situacao_cadastro|   condicao_cadastro|area_liquida|area_remanescente_vegetacao_nativa|area_reserva_legal_proposta|area_preservacao_permanente|area_nao_classificada|solicitacao_adesao_pra|         latitude|        longitude|      data_inscricao|data_alteracao_condicao_cadastro|area_rural_consolidada|area_servidao_administrativa|tipo_imovel_rural|modulos_fiscais|area_uso_restrito|area_reserva_legal_averbada|area_reserva_legal_aprovada_nao_averbada|area_pousio|data_ultima_retificacao|\n",
      "+---+--------------------+-----------+--------------+--------------------+-----------------+--------------------+------------+----------------------------------+---------------------------+---------------------------+---------------------+----------------------+-----------------+-----------------+--------------------+--------------------------------+----------------------+----------------------------+-----------------+---------------+-----------------+---------------------------+----------------------------------------+-----------+-----------------------+\n",
      "| AM|        Boca do Acre|    1300706|      103.9683|AM-1300706-28EC0C...|               AT|Analisado com pen...|    103.9682|                  11.9989017502276|                    11.9989|           3.50326521427594|                    0|                   Sim|-8.79739674592514|-67.1615851954353|2014-08-19 13:01:...|            2022-07-22 10:37:...|       91.382805607359|                           0|              AST|         1.0397|                0|                     0.0000|                                  0.0000|          0|   2014-08-19 13:01:...|\n",
      "| MA|           São Bento|    2110500|     5692.0794|MA-2110500-06C51F...|               PE|Analisado com pen...|   5692.0313|                                 0|                     0.0000|                          0|     5692.07936396734|                   Nao|-2.82569430759068|-45.0516944009758|2014-10-01 10:37:...|            2021-12-02 18:56:...|                     0|                           0|              IRU|       103.4924|                0|                     0.0000|                                  0.0000|          0|   2014-10-01 10:37:...|\n",
      "| MT|    Barão de Melgaço|    5101605|        8.9664|MT-5101605-0D3337...|               AT|Analisado com pen...|      8.9664|                                 0|                     0.0000|          0.618797218589112|   0.0157820884202163|                   Sim| -16.301754777852|-55.9698653956372|2014-11-07 20:22:...|            2021-12-23 01:34:...|      8.94276470010653|                           0|              IRU|         0.1121|                0|                     0.0000|                                  0.0000|          0|   2014-11-07 20:22:...|\n",
      "| SP|            Angatuba|    3502200|      132.8293|SP-3502200-45971F...|               AT|Revisado, aguarda...|    132.9730|                                 0|                    28.2726|                          0|     131.996594933037|                   Nao|-23.5072845662492| -48.298020526403|2014-11-15 23:37:...|            2022-04-11 23:46:...|                     0|                           0|              IRU|         6.0377|                0|                     0.0000|                                  0.0000|          0|   2014-11-17 23:47:...|\n",
      "| SP|             Itapira|    3522604|       19.4140|SP-3522604-20D483...|               AT|Revisado, aguarda...|     19.4139|                                 0|                     0.0000|                          0|     19.2738719159663|                   Nao|-22.4341483344641|-46.7433479484051|2014-11-16 22:27:...|            2022-04-08 18:03:...|                     0|                           0|              IRU|         0.9707|                0|                     0.0000|                                  0.0000|          0|   2014-11-19 22:41:...|\n",
      "| SP| Presidente Prudente|    3541406|        4.2517|SP-3541406-094600...|               AT|Revisado, aguarda...|      4.2485|                                 0|                     0.0000|                          0|     4.24849376918842|                   Nao|-22.1652707660344|-51.4254717781026|2014-11-22 22:28:...|            2022-02-01 20:10:...|                     0|                           0|              IRU|         0.1933|                0|                     0.0000|                                  0.0000|          0|   2014-11-22 22:28:...|\n",
      "| SP|Santo Antônio do ...|    3548054|        7.2595|SP-3548054-546A60...|               AT|Revisado, aguarda...|      7.2541|                                 0|                     0.0000|                          0|     7.25414698655335|                   Nao|-20.9331591679598|-50.5336161514843|2014-11-22 22:31:...|            2022-04-08 18:37:...|                     0|                           0|              IRU|         0.2420|                0|                     0.0000|                                  0.0000|          0|   2014-11-22 22:31:...|\n",
      "| SP|              Bofete|    3506904|        1.0077|SP-3506904-5B3F16...|               AT|Revisado, aguarda...|      1.0090|                                 0|                     0.0000|                          0|     1.00896025990678|                   Nao|-23.1137822498857|-48.2121465373026|2014-11-22 23:37:...|            2022-02-04 00:23:...|                     0|                           0|              IRU|         0.0504|                0|                     0.0000|                                  0.0000|          0|   2014-11-22 23:37:...|\n",
      "| SP|             Pirangi|    3539004|       24.1497|SP-3539004-36974D...|               AT|Revisado, aguarda...|     24.1681|                   1.1873388671875|                     0.0000|                          0|     22.9798668150774|                   Nao|-21.1126036010668|-48.5804095202232|2014-11-23 22:41:...|            2022-04-08 18:27:...|                     0|                           0|              IRU|         1.7250|                0|                     0.0000|                                  0.0000|          0|   2014-11-23 22:41:...|\n",
      "| SP|            Glicério|    3517109|      533.4693|SP-3517109-CD6189...|               AT|Revisado, aguarda...|    533.1430|                                 0|                     0.0000|                          0|     213.186909951489|                   Nao|-21.1563886494578|-50.1592485984368|2014-11-24 22:53:...|            2022-04-12 07:04:...|                     0|                           0|              IRU|        17.7823|                0|                     0.0000|                                  0.0000|          0|   2014-11-24 22:53:...|\n",
      "+---+--------------------+-----------+--------------+--------------------+-----------------+--------------------+------------+----------------------------------+---------------------------+---------------------------+---------------------+----------------------+-----------------+-----------------+--------------------+--------------------------------+----------------------+----------------------------+-----------------+---------------+-----------------+---------------------------+----------------------------------------+-----------+-----------------------+\n",
      "only showing top 10 rows\n",
      "\n"
     ]
    }
   ],
   "source": [
    "df_test = spark.read.format(\"delta\").load(\"/home/jovyan/app/data/bronze/bronze_distribuida\")\n",
    "df_test.show(10)"
   ]
  },
  {
   "cell_type": "code",
   "execution_count": 4,
   "metadata": {},
   "outputs": [
    {
     "data": {
      "text/plain": [
       "{'uf': 0,\n",
       " 'municipio': 0,\n",
       " 'codigo_ibge': 0,\n",
       " 'area_do_imovel': 0,\n",
       " 'registro_car': 0,\n",
       " 'situacao_cadastro': 0,\n",
       " 'condicao_cadastro': 0,\n",
       " 'area_liquida': 60416,\n",
       " 'area_remanescente_vegetacao_nativa': 60416,\n",
       " 'area_reserva_legal_proposta': 60416,\n",
       " 'area_preservacao_permanente': 60416,\n",
       " 'area_nao_classificada': 60416,\n",
       " 'solicitacao_adesao_pra': 0,\n",
       " 'latitude': 0,\n",
       " 'longitude': 0,\n",
       " 'data_inscricao': 12,\n",
       " 'data_alteracao_condicao_cadastro': 5132886,\n",
       " 'area_rural_consolidada': 60416,\n",
       " 'area_servidao_administrativa': 60416,\n",
       " 'tipo_imovel_rural': 0,\n",
       " 'modulos_fiscais': 0,\n",
       " 'area_uso_restrito': 60416,\n",
       " 'area_reserva_legal_averbada': 60416,\n",
       " 'area_reserva_legal_aprovada_nao_averbada': 60416,\n",
       " 'area_pousio': 60416,\n",
       " 'data_ultima_retificacao': 0}"
      ]
     },
     "execution_count": 4,
     "metadata": {},
     "output_type": "execute_result"
    }
   ],
   "source": [
    "# Criar uma lista com o nome das colunas e o número de nulos em cada uma\n",
    "null_counts_1 = df_test.select([sum(col(c).isNull().cast(\"int\")).alias(c) for c in df_test.columns]).first().asDict()\n",
    "\n",
    "# Exibir o resultado\n",
    "null_counts_1"
   ]
  },
  {
   "cell_type": "code",
   "execution_count": null,
   "metadata": {},
   "outputs": [],
   "source": [
    "df_test.printSchema()"
   ]
  },
  {
   "cell_type": "code",
   "execution_count": null,
   "metadata": {},
   "outputs": [],
   "source": [
    "int_columns = [\"codigo_ibge\"]\n",
    "float_columns = [\"area_do_imovel\", \"area_liquida\", \"area_remanescente_vegetacao_nativa\", \n",
    "                 \"area_reserva_legal_proposta\", \"area_preservacao_permanente\", \"area_nao_classificada\",\n",
    "                 \"latitude\", \"longitude\", \"area_rural_consolidada\", \"area_servidao_administrativa\",\n",
    "                 \"modulos_fiscais\", \"area_uso_restrito\", \"area_reserva_legal_averbada\",\n",
    "                 \"area_reserva_legal_aprovada_nao_averbada\", \"area_pousio\"]\n",
    "bool_columns = [\"solicitacao_adesao_pra\"]\n",
    "date_columns = [\"data_inscricao\", \"data_alteracao_condicao_cadastro\", \"data_ultima_retificacao\"]\n",
    "text_column = [x for x in df_test.columns if x not in int_columns+float_columns+bool_columns+date_columns]"
   ]
  },
  {
   "cell_type": "code",
   "execution_count": null,
   "metadata": {},
   "outputs": [],
   "source": [
    "# Dados Para Integer\n",
    "df_test = df_test.withColumn(\"codigo_ibge\", col(\"codigo_ibge\").cast(IntegerType()))\n",
    "\n",
    "# Dados Para Float\n",
    "for i in float_columns:\n",
    "    df_test = df_test.withColumn(i, col(i).cast(FloatType()))\n",
    "\n",
    "# Dados para Bool\n",
    "df_test = df_test.withColumn(\"solicitacao_adesao_pra\", \n",
    "                             when(col(\"solicitacao_adesao_pra\") == \"Sim\", True).\n",
    "                             when(col(\"solicitacao_adesao_pra\") == \"Nao\", False).\n",
    "                             otherwise(None))\n",
    "\n",
    "# Dados para Date\n",
    "for i in date_columns:\n",
    "    df_test = df_test.withColumn(i, to_timestamp(regexp_replace(col(i), r\"\\.\\d+$\", \"\"), \"yyyy-MM-dd HH:mm:ss\"))\n",
    "\n",
    "df_test.printSchema()"
   ]
  },
  {
   "cell_type": "code",
   "execution_count": null,
   "metadata": {},
   "outputs": [],
   "source": [
    "# Criar uma lista com o nome das colunas e o número de nulos em cada uma\n",
    "null_counts_2 = df_test.select([sum(col(c).isNull().cast(\"int\")).alias(c) for c in df_test.columns]).first().asDict()\n",
    "\n",
    "# Exibir o resultado\n",
    "null_counts_2"
   ]
  },
  {
   "cell_type": "code",
   "execution_count": null,
   "metadata": {},
   "outputs": [],
   "source": [
    "if null_counts_1 == null_counts_2:\n",
    "    print(\"Os valores de nulos são os mesmos em ambas as versões.\")\n",
    "else:\n",
    "    print(\"Há diferenças nos valores de nulos.\")\n",
    "    # Mostrar as diferenças\n",
    "    for coluna in null_counts_1.keys():\n",
    "        if null_counts_1[coluna] != null_counts_2[coluna]:\n",
    "            print(f\"Coluna '{coluna}': null_counts_1 = {null_counts_1[coluna]}, null_counts_2 = {null_counts_2[coluna]}\")"
   ]
  },
  {
   "cell_type": "markdown",
   "metadata": {},
   "source": [
    "# Salvando Silver (Distribuída - Por Estado)"
   ]
  },
  {
   "cell_type": "code",
   "execution_count": null,
   "metadata": {},
   "outputs": [],
   "source": [
    "(df_test.write.mode(\"overwrite\")\n",
    "              .format(\"delta\")\n",
    "              .partitionBy(\"uf\")\n",
    "              .save(\"/home/jovyan/app/data/silver/silver_distribuida_uf\"))"
   ]
  },
  {
   "cell_type": "markdown",
   "metadata": {},
   "source": [
    "# Querys a partir das Delta Tables"
   ]
  },
  {
   "cell_type": "markdown",
   "metadata": {},
   "source": [
    "## Funções e Definições"
   ]
  },
  {
   "cell_type": "code",
   "execution_count": 9,
   "metadata": {},
   "outputs": [
    {
     "data": {
      "text/plain": [
       "<pyspark.sql.udf.UserDefinedFunction at 0x7fe230dda250>"
      ]
     },
     "execution_count": 9,
     "metadata": {},
     "output_type": "execute_result"
    }
   ],
   "source": [
    "def get_time_delta(query, path):\n",
    "    start_time = time.time()\n",
    "\n",
    "    table = spark.sql(query)\n",
    "\n",
    "    (table.write.mode(\"overwrite\")\n",
    "                .option(\"overwriteSchema\", \"true\")\n",
    "                .format(\"delta\")\n",
    "                .save(path))\n",
    "    \n",
    "    spark.sql(f\"\"\"SELECT * FROM delta.`{path}`\"\"\").show()\n",
    "\n",
    "    end_time = time.time()\n",
    "    \n",
    "    tempo_query = end_time - start_time\n",
    "\n",
    "    return tempo_query\n",
    "\n",
    "def is_point_in_path(x: float, y: float, poly: list[tuple[float, float]]) -> bool:\n",
    "    \"\"\"Determine if the point is on the path, corner, or boundary of the polygon\n",
    "\n",
    "    Args:\n",
    "    x -- The x coordinates of point.\n",
    "    y -- The y coordinates of point.\n",
    "    poly -- a list of tuples [(x, y), (x, y), ...]\n",
    "\n",
    "    Returns:\n",
    "        True if the point is in the path or is a corner or on the boundary\"\"\"\n",
    "    \n",
    "    c = False\n",
    "\n",
    "    for i in range(len(poly)):\n",
    "        ax, ay = poly[i]\n",
    "        bx, by = poly[i - 1]\n",
    "        if (x == ax) and (y == ay):\n",
    "            # point is a corner\n",
    "            return True\n",
    "        if (ay > y) != (by > y):\n",
    "            slope = (x - ax) * (by - ay) - (bx - ax) * (y - ay)\n",
    "            if slope == 0:\n",
    "                # point is on boundary\n",
    "                return True\n",
    "            if (slope < 0) != (by < ay):\n",
    "                c = not c\n",
    "\n",
    "    return c\n",
    "\n",
    "# Registrar a UDF no Spark\n",
    "poly = [(-53.5325072, -19.4632582), (-51.0495971, -19.1625841), (-51.3734501, -16.1924262), (-53.8181518, -16.4010783), (-53.5325072, -19.4632582)]\n",
    "\n",
    "is_point_in_polygon_udf = udf(lambda x, y: is_point_in_path(x, y, poly), BooleanType())\n",
    "\n",
    "spark.udf.register(\"is_point_in_polygon\", is_point_in_polygon_udf)"
   ]
  },
  {
   "cell_type": "markdown",
   "metadata": {},
   "source": [
    "## Consulta 1\n",
    "\n",
    "Recupere a soma de área (em hectares) para todas as propriedades agrícolas que pertencem ao MS e MT. Ordene os resultados em ordem decrescente."
   ]
  },
  {
   "cell_type": "code",
   "execution_count": 10,
   "metadata": {},
   "outputs": [
    {
     "name": "stdout",
     "output_type": "stream",
     "text": [
      "+---+------------------+\n",
      "| uf|soma_area_hectares|\n",
      "+---+------------------+\n",
      "| MT|    84,587,089.218|\n",
      "| MS|    36,321,882.660|\n",
      "+---+------------------+\n",
      "\n"
     ]
    },
    {
     "data": {
      "text/plain": [
       "11.146804094314575"
      ]
     },
     "execution_count": 10,
     "metadata": {},
     "output_type": "execute_result"
    }
   ],
   "source": [
    "query = \"\"\"\n",
    "SELECT \n",
    "   uf,\n",
    "   FORMAT_NUMBER(SUM(area_do_imovel), 3) as soma_area_hectares\n",
    "\n",
    "FROM delta.`/home/jovyan/app/data/silver/silver_distribuida_uf`\n",
    "\n",
    "WHERE uf IN ('MS', 'MT')\n",
    "\n",
    "GROUP BY uf\n",
    "\n",
    "ORDER BY soma_area_hectares DESC\n",
    "\n",
    "\"\"\"\n",
    "\n",
    "tempo_delta_1 = get_time_delta(query, \"/home/jovyan/app/data/gold/delta/query_1\")\n",
    "tempo_delta_1"
   ]
  },
  {
   "cell_type": "markdown",
   "metadata": {},
   "source": [
    "## Consulta 2\n",
    "Filtre todas as propriedades que pertecem a região sudeste. "
   ]
  },
  {
   "cell_type": "code",
   "execution_count": 11,
   "metadata": {},
   "outputs": [
    {
     "name": "stdout",
     "output_type": "stream",
     "text": [
      "+---+-----------+\n",
      "| uf|codigo_ibge|\n",
      "+---+-----------+\n",
      "| ES|    3202108|\n",
      "| ES|    3200359|\n",
      "| ES|    3200904|\n",
      "| ES|    3203353|\n",
      "| ES|    3200607|\n",
      "| ES|    3202652|\n",
      "| ES|    3203056|\n",
      "| ES|    3202652|\n",
      "| ES|    3203056|\n",
      "| ES|    3201605|\n",
      "| ES|    3200169|\n",
      "| ES|    3203056|\n",
      "| ES|    3200102|\n",
      "| ES|    3203007|\n",
      "| ES|    3201001|\n",
      "| ES|    3202801|\n",
      "| ES|    3205002|\n",
      "| ES|    3201902|\n",
      "| ES|    3203056|\n",
      "| ES|    3203205|\n",
      "+---+-----------+\n",
      "only showing top 20 rows\n",
      "\n"
     ]
    },
    {
     "data": {
      "text/plain": [
       "8.41820240020752"
      ]
     },
     "execution_count": 11,
     "metadata": {},
     "output_type": "execute_result"
    }
   ],
   "source": [
    "query = \"\"\"\n",
    "SELECT\n",
    "   uf,\n",
    "   codigo_ibge\n",
    "\n",
    "FROM delta.`/home/jovyan/app/data/silver/silver_distribuida_uf`\n",
    "\n",
    "WHERE uf IN ('SP','MG','ES','RJ')\n",
    "\"\"\"\n",
    "\n",
    "tempo_delta_2 = get_time_delta(query, \"/home/jovyan/app/data/gold/delta/query_2\")\n",
    "tempo_delta_2"
   ]
  },
  {
   "cell_type": "markdown",
   "metadata": {},
   "source": [
    "## Consulta 3\n",
    "Recupere todas as propriedades rurais que estão localizadas dentro de uma área geográfica específica delimitada por um polígono. Este polígono é descrito pelas seguintes coordenadas: POLYGON ((-53.5325072 -19.4632582, -51.0495971 -19.1625841, -51.3734501 -16.1924262, -53.8181518 -16.4010783, -53.5325072 -19.4632582))\n",
    "Verificar se um centroide está dentro dos pontos informados (ou mais)."
   ]
  },
  {
   "cell_type": "code",
   "execution_count": 12,
   "metadata": {},
   "outputs": [
    {
     "name": "stdout",
     "output_type": "stream",
     "text": [
      "+-----------+----------+----------+--------------+\n",
      "|codigo_ibge|  latitude| longitude|inside_polygon|\n",
      "+-----------+----------+----------+--------------+\n",
      "|    5211909| -18.03174| -52.08481|          true|\n",
      "|    5201454|-18.287004|-51.305717|          true|\n",
      "|    5213103|-17.791296|-52.508606|          true|\n",
      "|    5211909|-17.901014|-52.022953|          true|\n",
      "|    5204409|-17.068356|-51.634693|          true|\n",
      "|    5211909|-18.044683|-51.519875|          true|\n",
      "|    5213103|-17.640839| -52.49887|          true|\n",
      "|    5219407|-17.562614|  -53.2227|          true|\n",
      "|    5211909|-18.050959|-51.590702|          true|\n",
      "|    5215652| -16.64014|-51.353027|          true|\n",
      "|    5204409|-16.975107| -51.85558|          true|\n",
      "|    5211305|-18.557215|-51.539852|          true|\n",
      "|    5219407|-17.350077| -53.08434|          true|\n",
      "|    5218102|-17.293552| -52.66369|          true|\n",
      "|    5213103|-17.213865|  -52.7558|          true|\n",
      "|    5201454|-18.237848|-51.257576|          true|\n",
      "|    5204409|-16.991863|-52.290615|          true|\n",
      "|    5217203|-16.398035|-51.950825|          true|\n",
      "|    5211909|-17.525013| -51.95123|          true|\n",
      "|    5204409|-17.140759|-51.607994|          true|\n",
      "+-----------+----------+----------+--------------+\n",
      "only showing top 20 rows\n",
      "\n"
     ]
    },
    {
     "data": {
      "text/plain": [
       "21.601632356643677"
      ]
     },
     "execution_count": 12,
     "metadata": {},
     "output_type": "execute_result"
    }
   ],
   "source": [
    "query = \"\"\"\n",
    "SELECT\n",
    "    codigo_ibge,\n",
    "    latitude,\n",
    "    longitude,\n",
    "    is_point_in_polygon(longitude, latitude) AS inside_polygon\n",
    "\n",
    "FROM delta.`/home/jovyan/app/data/silver/silver_distribuida_uf`\n",
    "\n",
    "WHERE is_point_in_polygon(longitude, latitude) = True\n",
    "\"\"\"\n",
    "\n",
    "tempo_delta_3 = get_time_delta(query, \"/home/jovyan/app/data/gold/delta/query_3\")\n",
    "tempo_delta_3"
   ]
  },
  {
   "cell_type": "markdown",
   "metadata": {},
   "source": [
    "## Consulta 4\n",
    "Calcule quantas propriedades foram cadastradas por ano. Apresente os resultados em ordem cronológica."
   ]
  },
  {
   "cell_type": "code",
   "execution_count": 13,
   "metadata": {},
   "outputs": [
    {
     "name": "stdout",
     "output_type": "stream",
     "text": [
      "+-------------+-----------------------+\n",
      "|ano_inscricao|propriedade_cadastradas|\n",
      "+-------------+-----------------------+\n",
      "|         NULL|                     12|\n",
      "|         2013|                    743|\n",
      "|         2014|                 227468|\n",
      "|         2015|                1240176|\n",
      "|         2016|                1828786|\n",
      "|         2017|                 794777|\n",
      "|         2018|                 724856|\n",
      "|         2019|                 746570|\n",
      "|         2020|                 463322|\n",
      "|         2021|                 443942|\n",
      "|         2022|                 368448|\n",
      "+-------------+-----------------------+\n",
      "\n"
     ]
    },
    {
     "data": {
      "text/plain": [
       "12.626770973205566"
      ]
     },
     "execution_count": 13,
     "metadata": {},
     "output_type": "execute_result"
    }
   ],
   "source": [
    "query = \"\"\"\n",
    "SELECT\n",
    "   YEAR(data_inscricao) AS ano_inscricao,\n",
    "   COUNT(*) AS propriedade_cadastradas\n",
    "\n",
    "FROM delta.`/home/jovyan/app/data/silver/silver_distribuida_uf`\n",
    "\n",
    "GROUP BY ano_inscricao\n",
    "\n",
    "ORDER BY ano_inscricao\n",
    "\"\"\"\n",
    "\n",
    "tempo_delta_4 = get_time_delta(query, \"/home/jovyan/app/data/gold/delta/query_4\")\n",
    "tempo_delta_4"
   ]
  },
  {
   "cell_type": "markdown",
   "metadata": {},
   "source": [
    "## Consulta 5\n",
    "Calcule o percentual médio de área remanescente de vegetação nativa em comparação a área total da propriedade"
   ]
  },
  {
   "cell_type": "code",
   "execution_count": 14,
   "metadata": {},
   "outputs": [
    {
     "name": "stdout",
     "output_type": "stream",
     "text": [
      "+-----------+--------------+----------------------------------+----------------------+\n",
      "|codigo_ibge|area_do_imovel|area_remanescente_vegetacao_nativa|percentual_area_nativa|\n",
      "+-----------+--------------+----------------------------------+----------------------+\n",
      "|    2802106|        70.852|                               0.0|                  0.00|\n",
      "|    2800506|        1.8226|                               0.0|                  0.00|\n",
      "|    2802908|        2.9685|                         1.2656308|                 42.64|\n",
      "|    2805307|       52.0451|                               0.0|                  0.00|\n",
      "|    2804201|       33.0333|                               0.0|                  0.00|\n",
      "|    2804102|        3.2018|                               0.0|                  0.00|\n",
      "|    2807501|        7.1537|                               0.0|                  0.00|\n",
      "|    2805604|        35.262|                               0.0|                  0.00|\n",
      "|    2804458|        1.7241|                               0.0|                  0.00|\n",
      "|    2806503|        2.0002|                               0.0|                  0.00|\n",
      "|    2804300|        8.0023|                               0.0|                  0.00|\n",
      "|    2802601|       17.9214|                               0.0|                  0.00|\n",
      "|    2807600|        0.3187|                               0.0|                  0.00|\n",
      "|    2802601|        0.9092|                               0.0|                  0.00|\n",
      "|    2804102|       10.7126|                           3.15364|                 29.44|\n",
      "|    2802908|        1.4287|                               0.0|                  0.00|\n",
      "|    2801009|        6.0958|                               0.0|                  0.00|\n",
      "|    2801603|        6.0498|                               0.0|                  0.00|\n",
      "|    2802908|        2.4809|                               0.0|                  0.00|\n",
      "|    2804508|       18.8249|                               0.0|                  0.00|\n",
      "+-----------+--------------+----------------------------------+----------------------+\n",
      "only showing top 20 rows\n",
      "\n"
     ]
    },
    {
     "data": {
      "text/plain": [
       "19.61841320991516"
      ]
     },
     "execution_count": 14,
     "metadata": {},
     "output_type": "execute_result"
    }
   ],
   "source": [
    "query = \"\"\"\n",
    "SELECT\n",
    "   codigo_ibge,\n",
    "   area_do_imovel,\n",
    "   area_remanescente_vegetacao_nativa,\n",
    "   FORMAT_NUMBER(area_remanescente_vegetacao_nativa / area_do_imovel * 100, 2) as percentual_area_nativa\n",
    "\n",
    "FROM delta.`/home/jovyan/app/data/silver/silver_distribuida_uf`\n",
    "\"\"\"\n",
    "\n",
    "tempo_delta_5 = get_time_delta(query, \"/home/jovyan/app/data/gold/delta/query_5\")\n",
    "tempo_delta_5"
   ]
  },
  {
   "cell_type": "markdown",
   "metadata": {},
   "source": [
    "## Consulta 6\n",
    "Construa uma consulta que mostre a contagem de propriedades rurais por estado."
   ]
  },
  {
   "cell_type": "markdown",
   "metadata": {},
   "source": [
    "* AST – Assentamentos\n",
    "* CAR – Cadastro Ambiental Rural\n",
    "* CCU – Contrato de Concessão de Uso\n",
    "* CDRU – Concessão de Direito Real de Uso\n",
    "* DD – Diretoria de Desenvolvimento\n",
    "* IRU – Imóveis Rurais\n",
    "* MLC – Módulo Lote CAR\n",
    "* PA – Projeto de Assentamento\n",
    "* PCT – Povos e Comunidades Tradicionais\n",
    "* PRA – Programa de Regularização Ambiental\n",
    "* PNRA – Programa Nacional de Reforma Agrária\n",
    "* SICAR – Sistema de Cadastro Ambiental Rural\n",
    "* SR – Superintendência Regional\n",
    "* TCMS – Termo de Compromisso de Manutenção de Sigilo\n",
    "* TD – Título Definitivo\n",
    "* TED – Termo de Execução Descentralizada\n",
    "* URL – Uniform Resource Locator"
   ]
  },
  {
   "cell_type": "code",
   "execution_count": 15,
   "metadata": {},
   "outputs": [
    {
     "name": "stdout",
     "output_type": "stream",
     "text": [
      "+-----------------+\n",
      "|tipo_imovel_rural|\n",
      "+-----------------+\n",
      "|              AST|\n",
      "|              IRU|\n",
      "|              PCT|\n",
      "+-----------------+\n",
      "\n"
     ]
    }
   ],
   "source": [
    "query = \"\"\"\n",
    "SELECT\n",
    "DISTINCT tipo_imovel_rural\n",
    "                    \n",
    "FROM delta.`/home/jovyan/app/data/silver/silver_distribuida_uf`\n",
    "\"\"\"\n",
    "\n",
    "spark.sql(query).show()"
   ]
  },
  {
   "cell_type": "code",
   "execution_count": 16,
   "metadata": {},
   "outputs": [
    {
     "name": "stdout",
     "output_type": "stream",
     "text": [
      "+---+----------------+\n",
      "| uf|count_prop_rural|\n",
      "+---+----------------+\n",
      "| BA|         1011503|\n",
      "| MG|          988921|\n",
      "| RS|          606013|\n",
      "| PR|          495650|\n",
      "| SP|          406885|\n",
      "| SC|          374768|\n",
      "| PE|          338392|\n",
      "| CE|          314168|\n",
      "| PA|          278097|\n",
      "| MA|          272010|\n",
      "| PI|          254577|\n",
      "| GO|          198524|\n",
      "| PB|          170484|\n",
      "| MT|          169775|\n",
      "| RO|          147099|\n",
      "| AL|          113222|\n",
      "| ES|          108848|\n",
      "| SE|           94203|\n",
      "| RN|           88788|\n",
      "| TO|           84990|\n",
      "+---+----------------+\n",
      "only showing top 20 rows\n",
      "\n"
     ]
    },
    {
     "data": {
      "text/plain": [
       "11.632027626037598"
      ]
     },
     "execution_count": 16,
     "metadata": {},
     "output_type": "execute_result"
    }
   ],
   "source": [
    "query = \"\"\"\n",
    "SELECT\n",
    "    uf,\n",
    "    COUNT(tipo_imovel_rural) AS count_prop_rural\n",
    "\n",
    "FROM delta.`/home/jovyan/app/data/silver/silver_distribuida_uf`\n",
    "\n",
    "WHERE tipo_imovel_rural = 'IRU'\n",
    "\n",
    "GROUP BY uf\n",
    "\n",
    "ORDER BY count_prop_rural DESC\n",
    "\"\"\"\n",
    "\n",
    "tempo_delta_6 = get_time_delta(query, \"/home/jovyan/app/data/gold/delta/query_6\")\n",
    "tempo_delta_6"
   ]
  },
  {
   "cell_type": "markdown",
   "metadata": {},
   "source": [
    "## Consulta 7\n",
    "Veja qual é a maior propriedade entre todas e calcule a distância entre ela e Brasília. Utilize a coordenada de centródide da propriedade para calcular a distância entre ela e Brasília. Coordenadas de Brasília: -15.796943053171708, -47.891638482569476"
   ]
  },
  {
   "cell_type": "code",
   "execution_count": 17,
   "metadata": {},
   "outputs": [
    {
     "name": "stdout",
     "output_type": "stream",
     "text": [
      "+---------+---------+---------+------------------+\n",
      "| max_area| latitude|longitude|distancia_brasilia|\n",
      "+---------+---------+---------+------------------+\n",
      "|2420078.8|-5.475619|-68.88819|          2,596.98|\n",
      "+---------+---------+---------+------------------+\n",
      "\n"
     ]
    },
    {
     "data": {
      "text/plain": [
       "11.845029592514038"
      ]
     },
     "execution_count": 17,
     "metadata": {},
     "output_type": "execute_result"
    }
   ],
   "source": [
    "query = \"\"\"\n",
    "SELECT\n",
    "    max_area,\n",
    "    latitude,\n",
    "    longitude,\n",
    "    FORMAT_NUMBER(\n",
    "        SQRT(\n",
    "            POWER(latitude - (-15.796943053171708), 2) + \n",
    "            POWER(longitude - (-47.891638482569476), 2) \n",
    "            )* 111, 2\n",
    "        )  AS distancia_brasilia\n",
    "\n",
    "FROM (\n",
    "\n",
    "    SELECT \n",
    "        latitude, \n",
    "        longitude, \n",
    "        area_do_imovel AS max_area\n",
    "\n",
    "    FROM delta.`/home/jovyan/app/data/silver/silver_distribuida_uf`\n",
    "\n",
    "    ORDER BY area_do_imovel DESC\n",
    "\n",
    "    LIMIT 1\n",
    ")\n",
    "\"\"\"\n",
    "\n",
    "tempo_delta_7 = get_time_delta(query, \"/home/jovyan/app/data/gold/delta/query_7\")\n",
    "tempo_delta_7"
   ]
  },
  {
   "cell_type": "markdown",
   "metadata": {},
   "source": [
    "## Consulta 8\n",
    "Faça a média de área entre todas as propriedades. Calcule quantas propriedades por estado, estão acima da média."
   ]
  },
  {
   "cell_type": "code",
   "execution_count": 18,
   "metadata": {},
   "outputs": [
    {
     "name": "stdout",
     "output_type": "stream",
     "text": [
      "+---+----------------+------------------+\n",
      "| uf|qnt_propriedades|        media_area|\n",
      "+---+----------------+------------------+\n",
      "| PA|          279598| 293.7753804628661|\n",
      "| MA|          273642| 112.5997265257679|\n",
      "| GO|          199690|164.78160679766881|\n",
      "| MT|          170205| 496.9718234972293|\n",
      "| RO|          147286|108.26146315792728|\n",
      "| TO|           85537| 293.6158931536979|\n",
      "| AM|           73642| 968.9693483889848|\n",
      "| MS|           79914| 454.5121337998023|\n",
      "| AC|           45141| 306.8832352226421|\n",
      "| RR|           22687| 390.4115962484108|\n",
      "| AP|           10116|511.92016272641627|\n",
      "+---+----------------+------------------+\n",
      "\n"
     ]
    },
    {
     "data": {
      "text/plain": [
       "19.178141117095947"
      ]
     },
     "execution_count": 18,
     "metadata": {},
     "output_type": "execute_result"
    }
   ],
   "source": [
    "query = \"\"\"\n",
    "SELECT DISTINCT\n",
    "    uf,\n",
    "    COUNT(registro_car) AS qnt_propriedades,\n",
    "    AVG(area_do_imovel) AS media_area\n",
    "\n",
    "FROM delta.`/home/jovyan/app/data/silver/silver_distribuida_uf`\n",
    "\n",
    "GROUP BY uf\n",
    "\n",
    "HAVING media_area > (SELECT AVG(area_do_imovel) FROM delta.`/home/jovyan/app/data/silver/silver_distribuida_uf`);\n",
    "\"\"\"\n",
    "\n",
    "tempo_delta_8 = get_time_delta(query, \"/home/jovyan/app/data/gold/delta/query_8\")\n",
    "tempo_delta_8"
   ]
  },
  {
   "cell_type": "markdown",
   "metadata": {},
   "source": [
    "## Tempo Total Delta Tables"
   ]
  },
  {
   "cell_type": "code",
   "execution_count": 19,
   "metadata": {},
   "outputs": [
    {
     "data": {
      "text/plain": [
       "116.06702136993408"
      ]
     },
     "execution_count": 19,
     "metadata": {},
     "output_type": "execute_result"
    }
   ],
   "source": [
    "total_delta = tempo_delta_1 + tempo_delta_2 + tempo_delta_3 + tempo_delta_4 + tempo_delta_5 + tempo_delta_6 + tempo_delta_7 + tempo_delta_8\n",
    "total_delta"
   ]
  },
  {
   "cell_type": "markdown",
   "metadata": {},
   "source": [
    "# Querys a partir da Hive Metastore"
   ]
  },
  {
   "cell_type": "markdown",
   "metadata": {},
   "source": [
    "## Salvando Gold (Distribuída)"
   ]
  },
  {
   "cell_type": "code",
   "execution_count": 20,
   "metadata": {},
   "outputs": [
    {
     "data": {
      "text/plain": [
       "DataFrame[]"
      ]
     },
     "execution_count": 20,
     "metadata": {},
     "output_type": "execute_result"
    }
   ],
   "source": [
    "spark.sql(\"CREATE SCHEMA IF NOT EXISTS gold_from_delta\")"
   ]
  },
  {
   "cell_type": "code",
   "execution_count": 21,
   "metadata": {},
   "outputs": [],
   "source": [
    "df_test = spark.read.format(\"delta\").load(\"/home/jovyan/app/data/silver/silver_distribuida_uf\")\n",
    "\n",
    "df_test.write.format(\"delta\").option(\"overwriteSchema\", \"true\").mode(\"overwrite\").partitionBy(\"uf\").saveAsTable(\"gold_from_delta.gold_distribuida_uf\")"
   ]
  },
  {
   "cell_type": "markdown",
   "metadata": {},
   "source": [
    "## Funções e Definições"
   ]
  },
  {
   "cell_type": "code",
   "execution_count": 22,
   "metadata": {},
   "outputs": [],
   "source": [
    "def get_time_hive(query, table_name):\n",
    "    start_time = time.time()\n",
    "\n",
    "    table = spark.sql(query)\n",
    "\n",
    "    (table.write.format(\"delta\")\n",
    "                .mode(\"overwrite\")\n",
    "                .option(\"overwriteSchema\", \"true\")\n",
    "                .saveAsTable(f\"gold_from_delta.{table_name}\"))\n",
    "    \n",
    "    spark.sql(f\"\"\"SELECT * FROM gold_from_delta.{table_name}\"\"\").show()\n",
    "\n",
    "    end_time = time.time()\n",
    "    \n",
    "    tempo_query = end_time - start_time\n",
    "\n",
    "    return tempo_query"
   ]
  },
  {
   "cell_type": "markdown",
   "metadata": {},
   "source": [
    "## Consulta 1\n",
    "\n",
    "Recupere a soma de área (em hectares) para todas as propriedades agrícolas que pertencem ao MS e MT. Ordene os resultados em ordem decrescente."
   ]
  },
  {
   "cell_type": "code",
   "execution_count": 23,
   "metadata": {},
   "outputs": [
    {
     "name": "stdout",
     "output_type": "stream",
     "text": [
      "+---+------------------+\n",
      "| uf|soma_area_hectares|\n",
      "+---+------------------+\n",
      "| MT|    84,587,089.218|\n",
      "| MS|    36,321,882.660|\n",
      "+---+------------------+\n",
      "\n"
     ]
    },
    {
     "data": {
      "text/plain": [
       "5.736438274383545"
      ]
     },
     "execution_count": 23,
     "metadata": {},
     "output_type": "execute_result"
    }
   ],
   "source": [
    "query = \"\"\"\n",
    "SELECT \n",
    "   uf,\n",
    "   FORMAT_NUMBER(SUM(area_do_imovel), 3) as soma_area_hectares\n",
    "\n",
    "FROM gold_from_delta.gold_distribuida_uf\n",
    "\n",
    "WHERE uf IN ('MS', 'MT')\n",
    "\n",
    "GROUP BY uf\n",
    "\n",
    "ORDER BY soma_area_hectares DESC\n",
    "\n",
    "\"\"\"\n",
    "\n",
    "tempo_hive_1 = get_time_hive(query, \"query_1\")\n",
    "tempo_hive_1"
   ]
  },
  {
   "cell_type": "markdown",
   "metadata": {},
   "source": [
    "## Consulta 2\n",
    "Filtre todas as propriedades que pertecem a região sudeste. "
   ]
  },
  {
   "cell_type": "code",
   "execution_count": 24,
   "metadata": {},
   "outputs": [
    {
     "name": "stdout",
     "output_type": "stream",
     "text": [
      "+---+-----------+\n",
      "| uf|codigo_ibge|\n",
      "+---+-----------+\n",
      "| MG|    3136801|\n",
      "| MG|    3136520|\n",
      "| MG|    3145604|\n",
      "| MG|    3171808|\n",
      "| MG|    3104007|\n",
      "| MG|    3123908|\n",
      "| MG|    3114600|\n",
      "| MG|    3155603|\n",
      "| MG|    3171071|\n",
      "| MG|    3112307|\n",
      "| MG|    3112406|\n",
      "| MG|    3169307|\n",
      "| MG|    3108503|\n",
      "| MG|    3139904|\n",
      "| MG|    3119906|\n",
      "| MG|    3170206|\n",
      "| MG|    3165578|\n",
      "| MG|    3158201|\n",
      "| MG|    3104452|\n",
      "| MG|    3131604|\n",
      "+---+-----------+\n",
      "only showing top 20 rows\n",
      "\n"
     ]
    },
    {
     "data": {
      "text/plain": [
       "6.054698705673218"
      ]
     },
     "execution_count": 24,
     "metadata": {},
     "output_type": "execute_result"
    }
   ],
   "source": [
    "query = \"\"\"\n",
    "SELECT\n",
    "   uf,\n",
    "   codigo_ibge\n",
    "\n",
    "FROM gold_from_delta.gold_distribuida_uf\n",
    "\n",
    "WHERE uf IN ('SP','MG','ES','RJ')\n",
    "\"\"\"\n",
    "\n",
    "tempo_hive_2 = get_time_hive(query, \"query_2\")\n",
    "tempo_hive_2"
   ]
  },
  {
   "cell_type": "markdown",
   "metadata": {},
   "source": [
    "## Consulta 3\n",
    "Recupere todas as propriedades rurais que estão localizadas dentro de uma área geográfica específica delimitada por um polígono. Este polígono é descrito pelas seguintes coordenadas: POLYGON ((-53.5325072 -19.4632582, -51.0495971 -19.1625841, -51.3734501 -16.1924262, -53.8181518 -16.4010783, -53.5325072 -19.4632582))\n",
    "Verificar se um centroide está dentro dos pontos informados (ou mais)."
   ]
  },
  {
   "cell_type": "code",
   "execution_count": 25,
   "metadata": {},
   "outputs": [
    {
     "name": "stdout",
     "output_type": "stream",
     "text": [
      "+-----------+----------+----------+--------------+\n",
      "|codigo_ibge|  latitude| longitude|inside_polygon|\n",
      "+-----------+----------+----------+--------------+\n",
      "|    5100300|-17.226484|-53.723015|          true|\n",
      "|    5108204|-16.369793| -52.97373|          true|\n",
      "|    5100300|-17.202026|-53.406887|          true|\n",
      "|    5100300| -17.36272|-53.273006|          true|\n",
      "|    5100607|-17.924597|-53.304733|          true|\n",
      "|    5100409|-16.595022|-53.215626|          true|\n",
      "|    5107198|-16.566946|-52.681526|          true|\n",
      "|    5100409|-16.970575| -53.64971|          true|\n",
      "|    5100300|-16.960646|-53.144123|          true|\n",
      "|    5108204|-16.450071|-53.159634|          true|\n",
      "|    5108204|-16.379072|-53.078815|          true|\n",
      "|    5100300|-17.759611|-53.631786|          true|\n",
      "|    5100607|-17.894436|-53.370655|          true|\n",
      "|    5108204|-16.350658|-52.798054|          true|\n",
      "|    5104203|-16.399292|-53.751965|          true|\n",
      "|    5100300|-17.631042|-53.534096|          true|\n",
      "|    5100409| -16.69768|-53.487694|          true|\n",
      "|    5104203|-16.394533| -53.43131|          true|\n",
      "|    5100300|-17.685442|-53.555317|          true|\n",
      "|    5100409|-16.772623|-53.326233|          true|\n",
      "+-----------+----------+----------+--------------+\n",
      "only showing top 20 rows\n",
      "\n"
     ]
    },
    {
     "data": {
      "text/plain": [
       "16.425443172454834"
      ]
     },
     "execution_count": 25,
     "metadata": {},
     "output_type": "execute_result"
    }
   ],
   "source": [
    "query = \"\"\"\n",
    "SELECT\n",
    "    codigo_ibge,\n",
    "    latitude,\n",
    "    longitude,\n",
    "    is_point_in_polygon(longitude, latitude) AS inside_polygon\n",
    "\n",
    "FROM gold_from_delta.gold_distribuida_uf\n",
    "\n",
    "WHERE is_point_in_polygon(longitude, latitude) = True\n",
    "\"\"\"\n",
    "\n",
    "tempo_hive_3 = get_time_hive(query, \"query_3\")\n",
    "tempo_hive_3"
   ]
  },
  {
   "cell_type": "markdown",
   "metadata": {},
   "source": [
    "## Consulta 4\n",
    "Calcule quantas propriedades foram cadastradas por ano. Apresente os resultados em ordem cronológica."
   ]
  },
  {
   "cell_type": "code",
   "execution_count": 26,
   "metadata": {},
   "outputs": [
    {
     "name": "stdout",
     "output_type": "stream",
     "text": [
      "+-------------+-----------------------+\n",
      "|ano_inscricao|propriedade_cadastradas|\n",
      "+-------------+-----------------------+\n",
      "|         NULL|                     12|\n",
      "|         2013|                    743|\n",
      "|         2014|                 227468|\n",
      "|         2015|                1240176|\n",
      "|         2016|                1828786|\n",
      "|         2017|                 794777|\n",
      "|         2018|                 724856|\n",
      "|         2019|                 746570|\n",
      "|         2020|                 463322|\n",
      "|         2021|                 443942|\n",
      "|         2022|                 368448|\n",
      "+-------------+-----------------------+\n",
      "\n"
     ]
    },
    {
     "data": {
      "text/plain": [
       "7.400269269943237"
      ]
     },
     "execution_count": 26,
     "metadata": {},
     "output_type": "execute_result"
    }
   ],
   "source": [
    "query = \"\"\"\n",
    "SELECT\n",
    "   YEAR(data_inscricao) AS ano_inscricao,\n",
    "   COUNT(*) AS propriedade_cadastradas\n",
    "\n",
    "FROM gold_from_delta.gold_distribuida_uf\n",
    "\n",
    "GROUP BY ano_inscricao\n",
    "\n",
    "ORDER BY ano_inscricao\n",
    "\"\"\"\n",
    "\n",
    "tempo_hive_4 = get_time_hive(query, \"query_4\")\n",
    "tempo_hive_4"
   ]
  },
  {
   "cell_type": "markdown",
   "metadata": {},
   "source": [
    "## Consulta 5\n",
    "Calcule o percentual médio de área remanescente de vegetação nativa em comparação a área total da propriedade"
   ]
  },
  {
   "cell_type": "code",
   "execution_count": 27,
   "metadata": {},
   "outputs": [
    {
     "name": "stdout",
     "output_type": "stream",
     "text": [
      "+-----------+--------------+----------------------------------+----------------------+\n",
      "|codigo_ibge|area_do_imovel|area_remanescente_vegetacao_nativa|percentual_area_nativa|\n",
      "+-----------+--------------+----------------------------------+----------------------+\n",
      "|    3136801|      119.0454|                               0.0|                  0.00|\n",
      "|    3136520|       34.5053|                               0.0|                  0.00|\n",
      "|    3145604|        3.5613|                               0.0|                  0.00|\n",
      "|    3171808|       22.0177|                         1.1560909|                  5.25|\n",
      "|    3104007|       25.9163|                         5.0354385|                 19.43|\n",
      "|    3123908|        48.444|                               0.0|                  0.00|\n",
      "|    3114600|       35.5403|                         7.0675855|                 19.89|\n",
      "|    3155603|        1.8732|                               0.0|                  0.00|\n",
      "|    3171071|       20.7036|                          6.303867|                 30.45|\n",
      "|    3112307|         3.509|                               0.0|                  0.00|\n",
      "|    3112406|       75.3039|                         22.148973|                 29.41|\n",
      "|    3169307|       18.1656|                         2.1825976|                 12.02|\n",
      "|    3108503|       22.8717|                               0.0|                  0.00|\n",
      "|    3139904|        7.4606|                         1.5591056|                 20.90|\n",
      "|    3119906|         3.415|                               0.0|                  0.00|\n",
      "|    3170206|      394.2596|                               0.0|                  0.00|\n",
      "|    3165578|       21.9898|                          7.460772|                 33.93|\n",
      "|    3158201|       26.5998|                         6.8219266|                 25.65|\n",
      "|    3104452|       15.0519|                               0.0|                  0.00|\n",
      "|    3131604|       24.1363|                         14.994005|                 62.12|\n",
      "+-----------+--------------+----------------------------------+----------------------+\n",
      "only showing top 20 rows\n",
      "\n"
     ]
    },
    {
     "data": {
      "text/plain": [
       "12.504667520523071"
      ]
     },
     "execution_count": 27,
     "metadata": {},
     "output_type": "execute_result"
    }
   ],
   "source": [
    "query = \"\"\"\n",
    "SELECT\n",
    "   codigo_ibge,\n",
    "   area_do_imovel,\n",
    "   area_remanescente_vegetacao_nativa,\n",
    "   FORMAT_NUMBER(area_remanescente_vegetacao_nativa / area_do_imovel * 100, 2) as percentual_area_nativa\n",
    "\n",
    "FROM gold_from_delta.gold_distribuida_uf\n",
    "\"\"\"\n",
    "\n",
    "tempo_hive_5 = get_time_hive(query, \"query_5\")\n",
    "tempo_hive_5"
   ]
  },
  {
   "cell_type": "markdown",
   "metadata": {},
   "source": [
    "## Consulta 6\n",
    "Construa uma consulta que mostre a contagem de propriedades rurais por estado."
   ]
  },
  {
   "cell_type": "code",
   "execution_count": 28,
   "metadata": {},
   "outputs": [
    {
     "name": "stdout",
     "output_type": "stream",
     "text": [
      "+---+----------------+\n",
      "| uf|count_prop_rural|\n",
      "+---+----------------+\n",
      "| BA|         1011503|\n",
      "| MG|          988921|\n",
      "| RS|          606013|\n",
      "| PR|          495650|\n",
      "| SP|          406885|\n",
      "| SC|          374768|\n",
      "| PE|          338392|\n",
      "| CE|          314168|\n",
      "| PA|          278097|\n",
      "| MA|          272010|\n",
      "| PI|          254577|\n",
      "| GO|          198524|\n",
      "| PB|          170484|\n",
      "| MT|          169775|\n",
      "| RO|          147099|\n",
      "| AL|          113222|\n",
      "| ES|          108848|\n",
      "| SE|           94203|\n",
      "| RN|           88788|\n",
      "| TO|           84990|\n",
      "+---+----------------+\n",
      "only showing top 20 rows\n",
      "\n"
     ]
    },
    {
     "data": {
      "text/plain": [
       "6.519151926040649"
      ]
     },
     "execution_count": 28,
     "metadata": {},
     "output_type": "execute_result"
    }
   ],
   "source": [
    "query = \"\"\"\n",
    "SELECT\n",
    "    uf,\n",
    "    COUNT(tipo_imovel_rural) AS count_prop_rural\n",
    "\n",
    "FROM gold_from_delta.gold_distribuida_uf\n",
    "\n",
    "WHERE tipo_imovel_rural = 'IRU'\n",
    "\n",
    "GROUP BY uf\n",
    "\n",
    "ORDER BY count_prop_rural DESC\n",
    "\"\"\"\n",
    "\n",
    "tempo_hive_6 = get_time_hive(query, \"query_6\")\n",
    "tempo_hive_6"
   ]
  },
  {
   "cell_type": "markdown",
   "metadata": {},
   "source": [
    "## Consulta 7\n",
    "Veja qual é a maior propriedade entre todas e calcule a distância entre ela e Brasília. Utilize a coordenada de centródide da propriedade para calcular a distância entre ela e Brasília. Coordenadas de Brasília: -15.796943053171708, -47.891638482569476"
   ]
  },
  {
   "cell_type": "code",
   "execution_count": 29,
   "metadata": {},
   "outputs": [
    {
     "name": "stdout",
     "output_type": "stream",
     "text": [
      "+---------+---------+---------+------------------+\n",
      "| max_area| latitude|longitude|distancia_brasilia|\n",
      "+---------+---------+---------+------------------+\n",
      "|2420078.8|-5.475619|-68.88819|          2,596.98|\n",
      "+---------+---------+---------+------------------+\n",
      "\n"
     ]
    },
    {
     "data": {
      "text/plain": [
       "6.637845039367676"
      ]
     },
     "execution_count": 29,
     "metadata": {},
     "output_type": "execute_result"
    }
   ],
   "source": [
    "query = \"\"\"\n",
    "SELECT\n",
    "    max_area,\n",
    "    latitude,\n",
    "    longitude,\n",
    "    FORMAT_NUMBER(\n",
    "        SQRT(\n",
    "            POWER(latitude - (-15.796943053171708), 2) + \n",
    "            POWER(longitude - (-47.891638482569476), 2) \n",
    "            )* 111, 2\n",
    "        )  AS distancia_brasilia\n",
    "\n",
    "FROM (\n",
    "\n",
    "    SELECT \n",
    "        latitude, \n",
    "        longitude, \n",
    "        area_do_imovel AS max_area\n",
    "\n",
    "    FROM gold_from_delta.gold_distribuida_uf\n",
    "\n",
    "    ORDER BY area_do_imovel DESC\n",
    "\n",
    "    LIMIT 1\n",
    ")\n",
    "\"\"\"\n",
    "\n",
    "tempo_hive_7 = get_time_hive(query, \"query_7\")\n",
    "tempo_hive_7"
   ]
  },
  {
   "cell_type": "markdown",
   "metadata": {},
   "source": [
    "## Consulta 8\n",
    "Faça a média de área entre todas as propriedades. Calcule quantas propriedades por estado, estão acima da média."
   ]
  },
  {
   "cell_type": "code",
   "execution_count": 30,
   "metadata": {},
   "outputs": [
    {
     "name": "stdout",
     "output_type": "stream",
     "text": [
      "+---+----------------+------------------+\n",
      "| uf|qnt_propriedades|        media_area|\n",
      "+---+----------------+------------------+\n",
      "| PA|          279598| 293.7753804628661|\n",
      "| MT|          170205| 496.9718234972293|\n",
      "| MA|          273642|112.59972652576785|\n",
      "| RO|          147286|108.26146315792728|\n",
      "| AM|           73642| 968.9693483889848|\n",
      "| GO|          199690|164.78160679766881|\n",
      "| TO|           85537| 293.6158931536979|\n",
      "| MS|           79914| 454.5121337998023|\n",
      "| AC|           45141| 306.8832352226421|\n",
      "| RR|           22687| 390.4115962484108|\n",
      "| AP|           10116|511.92016272641627|\n",
      "+---+----------------+------------------+\n",
      "\n"
     ]
    },
    {
     "data": {
      "text/plain": [
       "9.380352973937988"
      ]
     },
     "execution_count": 30,
     "metadata": {},
     "output_type": "execute_result"
    }
   ],
   "source": [
    "query = \"\"\"\n",
    "SELECT DISTINCT\n",
    "    uf,\n",
    "    COUNT(registro_car) AS qnt_propriedades,\n",
    "    AVG(area_do_imovel) AS media_area\n",
    "\n",
    "FROM gold_from_delta.gold_distribuida_uf\n",
    "\n",
    "GROUP BY uf\n",
    "\n",
    "HAVING media_area > (SELECT AVG(area_do_imovel) FROM gold_from_delta.gold_distribuida_uf);\n",
    "\"\"\"\n",
    "\n",
    "tempo_hive_8 = get_time_hive(query, \"query_8\")\n",
    "tempo_hive_8"
   ]
  },
  {
   "cell_type": "markdown",
   "metadata": {},
   "source": [
    "## Tempo Total Hive Metastore"
   ]
  },
  {
   "cell_type": "code",
   "execution_count": 31,
   "metadata": {},
   "outputs": [
    {
     "data": {
      "text/plain": [
       "70.65886688232422"
      ]
     },
     "execution_count": 31,
     "metadata": {},
     "output_type": "execute_result"
    }
   ],
   "source": [
    "total_hive = tempo_hive_1 + tempo_hive_2 + tempo_hive_3 + tempo_hive_4 + tempo_hive_5 + tempo_hive_6 + tempo_hive_7 + tempo_hive_8\n",
    "total_hive"
   ]
  },
  {
   "cell_type": "code",
   "execution_count": 35,
   "metadata": {},
   "outputs": [
    {
     "name": "stdout",
     "output_type": "stream",
     "text": [
      "+---------------+\n",
      "|      namespace|\n",
      "+---------------+\n",
      "|        default|\n",
      "|gold_from_delta|\n",
      "+---------------+\n",
      "\n"
     ]
    }
   ],
   "source": [
    "spark.sql(\"SHOW SCHEMAS\").show()"
   ]
  },
  {
   "cell_type": "code",
   "execution_count": 36,
   "metadata": {},
   "outputs": [
    {
     "name": "stdout",
     "output_type": "stream",
     "text": [
      "+---------------+-------------------+-----------+\n",
      "|      namespace|          tableName|isTemporary|\n",
      "+---------------+-------------------+-----------+\n",
      "|gold_from_delta|gold_distribuida_uf|      false|\n",
      "|gold_from_delta|            query_1|      false|\n",
      "|gold_from_delta|            query_2|      false|\n",
      "|gold_from_delta|            query_3|      false|\n",
      "|gold_from_delta|            query_4|      false|\n",
      "|gold_from_delta|            query_5|      false|\n",
      "|gold_from_delta|            query_6|      false|\n",
      "|gold_from_delta|            query_7|      false|\n",
      "|gold_from_delta|            query_8|      false|\n",
      "+---------------+-------------------+-----------+\n",
      "\n"
     ]
    }
   ],
   "source": [
    "spark.sql(\"SHOW TABLES IN gold_from_delta\").show()"
   ]
  },
  {
   "cell_type": "code",
   "execution_count": 34,
   "metadata": {},
   "outputs": [
    {
     "data": {
      "text/plain": [
       "DataFrame[]"
      ]
     },
     "execution_count": 34,
     "metadata": {},
     "output_type": "execute_result"
    }
   ],
   "source": [
    "# Deletar schema e todos os objetos\n",
    "# spark.sql(\"DROP DATABASE IF EXISTS gold_from_delta CASCADE\")"
   ]
  }
 ],
 "metadata": {
  "kernelspec": {
   "display_name": "Python 3 (ipykernel)",
   "language": "python",
   "name": "python3"
  },
  "language_info": {
   "codemirror_mode": {
    "name": "ipython",
    "version": 3
   },
   "file_extension": ".py",
   "mimetype": "text/x-python",
   "name": "python",
   "nbconvert_exporter": "python",
   "pygments_lexer": "ipython3",
   "version": "3.11.6"
  }
 },
 "nbformat": 4,
 "nbformat_minor": 4
}
